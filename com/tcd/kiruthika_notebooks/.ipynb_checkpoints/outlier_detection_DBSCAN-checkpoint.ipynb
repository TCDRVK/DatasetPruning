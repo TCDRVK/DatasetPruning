{
 "cells": [
  {
   "cell_type": "code",
   "execution_count": null,
   "metadata": {},
   "outputs": [
    {
     "name": "stderr",
     "output_type": "stream",
     "text": [
      "C:\\Users\\Kiruthika Velusamy\\Anaconda3\\lib\\site-packages\\sklearn\\model_selection\\_split.py:2026: FutureWarning: From version 0.21, test_size will always complement train_size unless both are specified.\n",
      "  FutureWarning)\n"
     ]
    }
   ],
   "source": [
    "#import statements\n",
    "import matplotlib.pyplot as plt\n",
    "import numpy as np\n",
    "from sklearn.preprocessing import StandardScaler\n",
    "import pandas as pd\n",
    "from sklearn.model_selection import train_test_split\n",
    "from sklearn.cluster import DBSCAN\n",
    "from sklearn.preprocessing import StandardScaler\n",
    "from sklearn.metrics import roc_auc_score\n",
    "from sklearn.metrics import confusion_matrix,f1_score\n",
    "\n",
    "# data = pd.read_csv(\"C:/Users/Kiruthika Velusamy/Documents/Machine Learning Assignment/cleaned_and_imputed_data.csv\");\n",
    "# data= data.drop(['id'], axis=1)\n",
    "# data =data.drop(data.columns[0],axis=1)\n",
    "# char_cols = data.dtypes.pipe(lambda x: x[x == 'object']).index\n",
    "# label_mapping = {}\n",
    "# for c in char_cols:\n",
    "#     data[c], label_mapping[c] = pd.factorize(data[c])\n",
    "# # label_mapping\n",
    "\n",
    "# train, test = train_test_split(data, train_size=0.65)\n",
    "# train_X = train[train.columns.difference(['y'])]\n",
    "# train_Y = train[['y']]\n",
    "\n",
    "# #transforming the train_X by standard scalar\n",
    "# X=StandardScaler().fit_transform(train_X)\n",
    "# #increasing the eps distance between two samples , min sample=5\n",
    "# db=DBSCAN(eps=4,min_samples=5).fit(X)\n",
    "# labels=db.labels_\n",
    "# print(labels)\n",
    "# n_clusters_ = len(set(labels)) - (1 if -1 in labels else 0)\n",
    "# print('Estimated number of clusters: %d' % n_clusters_)\n",
    "# pd.Series(labels).value_counts()"
   ]
  },
  {
   "cell_type": "code",
   "execution_count": null,
   "metadata": {},
   "outputs": [],
   "source": []
  }
 ],
 "metadata": {
  "kernelspec": {
   "display_name": "Python 3",
   "language": "python",
   "name": "python3"
  },
  "language_info": {
   "codemirror_mode": {
    "name": "ipython",
    "version": 3
   },
   "file_extension": ".py",
   "mimetype": "text/x-python",
   "name": "python",
   "nbconvert_exporter": "python",
   "pygments_lexer": "ipython3",
   "version": "3.7.0"
  }
 },
 "nbformat": 4,
 "nbformat_minor": 2
}
