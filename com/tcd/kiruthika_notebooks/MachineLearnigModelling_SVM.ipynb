{
 "cells": [
  {
   "cell_type": "code",
   "execution_count": 1,
   "metadata": {},
   "outputs": [],
   "source": [
    "import pandas as pd\n",
    "import numpy as np\n",
    "from sklearn.metrics import precision_recall_fscore_support"
   ]
  },
  {
   "cell_type": "code",
   "execution_count": 3,
   "metadata": {},
   "outputs": [],
   "source": [
    "unprunedAndImputedData = pd.read_csv('C:/Users/Kiruthika Velusamy/Downloads/Unprunued and Imputed_Training data.csv')\n",
    "prunedData = pd.read_csv('C:/Users/Kiruthika Velusamy/Downloads/Final_dataset.csv')\n",
    "testData = pd.read_csv('C:/Users/Kiruthika Velusamy/Downloads/Final_dataset_test.csv')"
   ]
  },
  {
   "cell_type": "code",
   "execution_count": 4,
   "metadata": {},
   "outputs": [
    {
     "data": {
      "text/plain": [
       "33849"
      ]
     },
     "execution_count": 4,
     "metadata": {},
     "output_type": "execute_result"
    }
   ],
   "source": [
    "len(unprunedAndImputedData)"
   ]
  },
  {
   "cell_type": "code",
   "execution_count": 5,
   "metadata": {},
   "outputs": [],
   "source": [
    "def str_to_numeric(data1):\n",
    "    label_mapping = {}\n",
    "    char_cols = data1.dtypes.pipe(lambda x: x[x == 'object']).index\n",
    "    for c in char_cols:\n",
    "       data1[c], label_mapping[c] = pd.factorize(data1[c])\n",
    "    return data1"
   ]
  },
  {
   "cell_type": "code",
   "execution_count": 6,
   "metadata": {},
   "outputs": [],
   "source": [
    "unprunedAndImputedDataNumeric = str_to_numeric(unprunedAndImputedData)\n",
    "prunedDataNumeric = str_to_numeric(prunedData)\n",
    "testDataNumeric = str_to_numeric(testData)"
   ]
  },
  {
   "cell_type": "code",
   "execution_count": 7,
   "metadata": {},
   "outputs": [
    {
     "data": {
      "text/plain": [
       "33849"
      ]
     },
     "execution_count": 7,
     "metadata": {},
     "output_type": "execute_result"
    }
   ],
   "source": [
    "len(unprunedAndImputedDataNumeric)"
   ]
  },
  {
   "cell_type": "code",
   "execution_count": 24,
   "metadata": {},
   "outputs": [
    {
     "data": {
      "text/plain": [
       "28619"
      ]
     },
     "execution_count": 24,
     "metadata": {},
     "output_type": "execute_result"
    }
   ],
   "source": [
    "len(prunedDataNumeric)"
   ]
  },
  {
   "cell_type": "code",
   "execution_count": 8,
   "metadata": {},
   "outputs": [
    {
     "data": {
      "text/plain": [
       "7339"
      ]
     },
     "execution_count": 8,
     "metadata": {},
     "output_type": "execute_result"
    }
   ],
   "source": [
    "len(testDataNumeric)"
   ]
  },
  {
   "cell_type": "code",
   "execution_count": 9,
   "metadata": {},
   "outputs": [
    {
     "name": "stdout",
     "output_type": "stream",
     "text": [
      "SVC(C=1.0, cache_size=200, class_weight=None, coef0=0.0,\n",
      "  decision_function_shape='ovr', degree=3, gamma='auto', kernel='rbf',\n",
      "  max_iter=-1, probability=False, random_state=None, shrinking=True,\n",
      "  tol=0.001, verbose=False)\n"
     ]
    }
   ],
   "source": [
    "\n",
    "from sklearn.svm import SVC\n",
    "\n",
    "X = unprunedAndImputedDataNumeric.drop(unprunedAndImputedDataNumeric.columns[0],axis=1).drop(['id','y','duration','nr.employed','default'],axis=1)\n",
    "Y = unprunedAndImputedDataNumeric['y']\n",
    "# clf = svm.SVC(kernel='linear',degree=1)\n",
    "clf = SVC(gamma='auto')\n",
    "print(clf)"
   ]
  },
  {
   "cell_type": "code",
   "execution_count": 10,
   "metadata": {},
   "outputs": [
    {
     "data": {
      "text/plain": [
       "SVC(C=1.0, cache_size=200, class_weight=None, coef0=0.0,\n",
       "  decision_function_shape='ovr', degree=3, gamma='auto', kernel='rbf',\n",
       "  max_iter=-1, probability=False, random_state=None, shrinking=True,\n",
       "  tol=0.001, verbose=False)"
      ]
     },
     "execution_count": 10,
     "metadata": {},
     "output_type": "execute_result"
    }
   ],
   "source": [
    "clf.fit(X, Y)"
   ]
  },
  {
   "cell_type": "code",
   "execution_count": 12,
   "metadata": {},
   "outputs": [
    {
     "name": "stdout",
     "output_type": "stream",
     "text": [
      "specificity =  1.0\n",
      "precision =  0.0\n",
      "recall =  0.0\n",
      "f1 score =  0.0\n",
      "[[3300    0]\n",
      " [  85    0]]\n"
     ]
    },
    {
     "name": "stderr",
     "output_type": "stream",
     "text": [
      "C:\\Users\\Kiruthika Velusamy\\Anaconda3\\lib\\site-packages\\sklearn\\metrics\\classification.py:1135: UndefinedMetricWarning: Precision is ill-defined and being set to 0.0 due to no predicted samples.\n",
      "  'precision', 'predicted', average, warn_for)\n",
      "C:\\Users\\Kiruthika Velusamy\\Anaconda3\\lib\\site-packages\\sklearn\\metrics\\classification.py:1135: UndefinedMetricWarning: F-score is ill-defined and being set to 0.0 due to no predicted samples.\n",
      "  'precision', 'predicted', average, warn_for)\n"
     ]
    },
    {
     "name": "stdout",
     "output_type": "stream",
     "text": [
      "specificity =  1.0\n",
      "precision =  0.0\n",
      "recall =  0.0\n",
      "f1 score =  0.0\n",
      "[[3259    0]\n",
      " [ 126    0]]\n",
      "specificity =  1.0\n",
      "precision =  0.0\n",
      "recall =  0.0\n",
      "f1 score =  0.0\n",
      "[[3241    0]\n",
      " [ 144    0]]\n",
      "specificity =  1.0\n",
      "precision =  0.0\n",
      "recall =  0.0\n",
      "f1 score =  0.0\n",
      "[[3156    0]\n",
      " [ 229    0]]\n",
      "specificity =  1.0\n",
      "precision =  0.0\n",
      "recall =  0.0\n",
      "f1 score =  0.0\n",
      "[[3161    0]\n",
      " [ 224    0]]\n",
      "specificity =  1.0\n",
      "precision =  0.0\n",
      "recall =  0.0\n",
      "f1 score =  0.0\n",
      "[[3221    0]\n",
      " [ 164    0]]\n",
      "specificity =  0.9798013245033113\n",
      "precision =  0.26506024096385544\n",
      "recall =  0.06027397260273973\n",
      "f1 score =  0.0982142857142857\n",
      "[[2959   61]\n",
      " [ 343   22]]\n",
      "specificity =  0.9959919839679359\n",
      "precision =  0.29411764705882354\n",
      "recall =  0.01278772378516624\n",
      "f1 score =  0.024509803921568627\n",
      "[[2982   12]\n",
      " [ 386    5]]\n",
      "specificity =  0.96671388101983\n",
      "precision =  0.38562091503267976\n",
      "recall =  0.1051693404634581\n",
      "f1 score =  0.165266106442577\n",
      "[[2730   94]\n",
      " [ 502   59]]\n",
      "specificity =  0.9858233369683751\n",
      "precision =  0.5737704918032787\n",
      "recall =  0.02258064516129032\n",
      "f1 score =  0.04345127250155183\n",
      "[[1808   26]\n",
      " [1515   35]]\n"
     ]
    }
   ],
   "source": [
    "from sklearn.cross_validation import KFold\n",
    "from sklearn.svm import SVC\n",
    "from sklearn.metrics import precision_score,f1_score\n",
    "from sklearn.metrics import confusion_matrix,recall_score\n",
    "kf = KFold(len(Y), n_folds=10)\n",
    "# clf = svm.SVC(kernel='linear',degree=1)\n",
    "clf = SVC(gamma='auto')\n",
    "for train_index, test_index in kf:\n",
    "   X_train, X_test = X.iloc[train_index], X.iloc[test_index]\n",
    "   y_train, y_test = Y.iloc[train_index], Y.iloc[test_index]\n",
    "   clf.fit(X_train, y_train)\n",
    "   y_pred = clf.predict(X_test)\n",
    "   returned= confusion_matrix(y_test, y_pred).ravel()\n",
    "   len(returned)\n",
    "   tn, fp, fn, tp = confusion_matrix(y_test, y_pred).ravel()\n",
    "   specificity = tn / (tn+fp) \n",
    "   print(\"specificity = \",specificity) \n",
    "   print(\"precision = \",precision_score(y_test, y_pred))\n",
    "   print(\"recall = \",recall_score(y_test, y_pred))\n",
    "   print(\"f1 score = \",f1_score(y_test, y_pred)) \n",
    "   print(confusion_matrix(y_test, y_pred))\n",
    "    "
   ]
  },
  {
   "cell_type": "code",
   "execution_count": 13,
   "metadata": {},
   "outputs": [
    {
     "name": "stdout",
     "output_type": "stream",
     "text": [
      "actual        0    1\n",
      "predicted           \n",
      "0          6463  653\n",
      "1            46  177\n",
      "specificity =  0.9082349634626194\n",
      "precision =  0.7937219730941704\n",
      "recall =  0.21325301204819277\n",
      "f1 score =  0.3361823361823362\n",
      "log loss =  3.289636392086709\n"
     ]
    }
   ],
   "source": [
    "# metrics for train data set\n",
    "from sklearn.svm import SVC\n",
    "from sklearn.metrics import precision_score,f1_score\n",
    "from sklearn.metrics import confusion_matrix,recall_score,log_loss\n",
    "clf = SVC(gamma='auto',probability=True)\n",
    "clf.fit(X,Y)\n",
    "pred = clf.predict(testDataNumeric.drop(testDataNumeric.columns[0],axis=1).drop(['id','y','default'],axis=1))\n",
    "y_pred = pd.Series(pred, name=\"predicted\")\n",
    "y_actual = pd.Series(testDataNumeric['y'], name=\"actual\")\n",
    "print(pd.crosstab(y_pred,y_actual))\n",
    "\n",
    "tn, fp, fn, tp = confusion_matrix(y_pred,y_actual).ravel()\n",
    "specificity = tn / (tn+fp) \n",
    "print(\"specificity = \",specificity) \n",
    "print(\"precision = \",precision_score(y_actual, y_pred))\n",
    "print(\"recall = \",recall_score(y_actual, y_pred))\n",
    "print(\"f1 score = \",f1_score(y_actual, y_pred))\n",
    "print(\"log loss = \",log_loss(y_actual, y_pred))\n",
    "print(confusion_matrix(y_test, y_pred))\n"
   ]
  },
  {
   "cell_type": "code",
   "execution_count": null,
   "metadata": {},
   "outputs": [],
   "source": [
    "# metrics for test data set\n",
    "from sklearn.svm import SVC\n",
    "from sklearn.metrics import precision_score,f1_score\n",
    "from sklearn.metrics import confusion_matrix,recall_score,log_loss\n",
    "clf = SVC(gamma='auto',probability=True)\n",
    "clf.fit(X_test,y_test)\n",
    "pred = clf.predict(testDataNumeric.drop(testDataNumeric.columns[0],axis=1).drop(['id','y','default'],axis=1))\n",
    "y_pred = pd.Series(pred, name=\"predicted\")\n",
    "y_actual = pd.Series(testDataNumeric['y'], name=\"actual\")\n",
    "print(pd.crosstab(y_pred,y_actual))\n",
    "\n",
    "tn, fp, fn, tp = confusion_matrix(y_pred,y_actual).ravel()\n",
    "specificity = tn / (tn+fp) \n",
    "print(\"specificity = \",specificity) \n",
    "print(\"precision = \",precision_score(y_actual, y_pred))\n",
    "print(\"recall = \",recall_score(y_actual, y_pred))\n",
    "print(\"f1 score = \",f1_score(y_actual, y_pred))\n",
    "print(\"log loss = \",log_loss(y_actual, y_pred))\n"
   ]
  },
  {
   "cell_type": "code",
   "execution_count": 29,
   "metadata": {},
   "outputs": [
    {
     "data": {
      "text/plain": [
       "(28619, 28619)"
      ]
     },
     "execution_count": 29,
     "metadata": {},
     "output_type": "execute_result"
    }
   ],
   "source": [
    "len(X),len(Y)"
   ]
  },
  {
   "cell_type": "code",
   "execution_count": 16,
   "metadata": {},
   "outputs": [],
   "source": [
    "pred = clf.predict(\n",
    "            testDataNumeric.drop(testDataNumeric.columns[0],axis=1).drop(['id','y','default'],axis=1),\n",
    "           )"
   ]
  },
  {
   "cell_type": "code",
   "execution_count": 15,
   "metadata": {},
   "outputs": [
    {
     "data": {
      "image/png": "[encoded data removed]",
      "text/plain": [
       "<Figure size 432x288 with 1 Axes>"
      ]
     },
     "metadata": {
      "needs_background": "light"
     },
     "output_type": "display_data"
    }
   ],
   "source": [
    "from sklearn.svm import SVC\n",
    "from sklearn.metrics import precision_score,f1_score\n",
    "from sklearn.metrics import confusion_matrix,recall_score\n",
    "\n",
    "from sklearn.cross_validation import KFold\n",
    "from sklearn.metrics import precision_score,f1_score,confusion_matrix,auc,roc_curve\n",
    "clf = SVC(gamma='auto',probability=True)\n",
    "clf.fit(X_train, y_train)\n",
    "probs = clf.predict_proba(X_test)\n",
    "preds = probs[:,1]\n",
    "fpr, tpr, threshold = roc_curve(y_test, preds)\n",
    "roc_auc = auc(fpr, tpr)\n",
    "import matplotlib.pyplot as plt\n",
    "plt.title('Receiver Operating Characteristic')\n",
    "plt.plot(fpr, tpr, 'b', label = 'AUC = %0.2f' % roc_auc)\n",
    "plt.legend(loc = 'lower right')\n",
    "plt.plot([0, 1], [0, 1],'r--')\n",
    "plt.xlim([0, 1])\n",
    "plt.ylim([0, 1])\n",
    "plt.ylabel('True Positive Rate')\n",
    "plt.xlabel('False Positive Rate')\n",
    "plt.show()"
   ]
  },
  {
   "cell_type": "code",
   "execution_count": 17,
   "metadata": {},
   "outputs": [
    {
     "data": {
      "text/plain": [
       "0.8881318980787574"
      ]
     },
     "execution_count": 17,
     "metadata": {},
     "output_type": "execute_result"
    }
   ],
   "source": [
    "clf.score(testDataNumeric.drop(testDataNumeric.columns[0],axis=1).drop(['id','y','default'],axis=1),np.array(testDataNumeric['y']))"
   ]
  },
  {
   "cell_type": "code",
   "execution_count": null,
   "metadata": {},
   "outputs": [],
   "source": []
  },
  {
   "cell_type": "code",
   "execution_count": 41,
   "metadata": {},
   "outputs": [],
   "source": [
    "pred = clf.predict(testDataNumeric.drop(testDataNumeric.columns[0],axis=1).drop(['id','y','default'],axis=1))"
   ]
  },
  {
   "cell_type": "code",
   "execution_count": 21,
   "metadata": {},
   "outputs": [
    {
     "data": {
      "text/html": [
       "<div>\n",
       "<style scoped>\n",
       "    .dataframe tbody tr th:only-of-type {\n",
       "        vertical-align: middle;\n",
       "    }\n",
       "\n",
       "    .dataframe tbody tr th {\n",
       "        vertical-align: top;\n",
       "    }\n",
       "\n",
       "    .dataframe thead th {\n",
       "        text-align: right;\n",
       "    }\n",
       "</style>\n",
       "<table border=\"1\" class=\"dataframe\">\n",
       "  <thead>\n",
       "    <tr style=\"text-align: right;\">\n",
       "      <th>actual</th>\n",
       "      <th>0</th>\n",
       "      <th>1</th>\n",
       "    </tr>\n",
       "    <tr>\n",
       "      <th>predicted</th>\n",
       "      <th></th>\n",
       "      <th></th>\n",
       "    </tr>\n",
       "  </thead>\n",
       "  <tbody>\n",
       "    <tr>\n",
       "      <th>0</th>\n",
       "      <td>6505</td>\n",
       "      <td>817</td>\n",
       "    </tr>\n",
       "    <tr>\n",
       "      <th>1</th>\n",
       "      <td>4</td>\n",
       "      <td>13</td>\n",
       "    </tr>\n",
       "  </tbody>\n",
       "</table>\n",
       "</div>"
      ],
      "text/plain": [
       "actual        0    1\n",
       "predicted           \n",
       "0          6505  817\n",
       "1             4   13"
      ]
     },
     "execution_count": 21,
     "metadata": {},
     "output_type": "execute_result"
    }
   ],
   "source": [
    "y_pred = pd.Series(pred, name=\"predicted\")\n",
    "y_actual = pd.Series(testData['y'], name=\"actual\")\n",
    "pd.crosstab(y_pred,y_actual)"
   ]
  },
  {
   "cell_type": "code",
   "execution_count": 22,
   "metadata": {},
   "outputs": [],
   "source": [
    "from sklearn.model_selection import cross_val_predict\n",
    "from sklearn.metrics import confusion_matrix\n",
    "y_pred = cross_val_predict(clf, unprunedAndImputedDataNumeric.drop(unprunedAndImputedDataNumeric.columns[0],axis=1).drop(['id','y','duration','nr.employed','default'],axis=1),\n",
    "                           unprunedAndImputedDataNumeric['y'], cv=5)\n",
    "conf_mat = confusion_matrix(unprunedAndImputedDataNumeric['y'], y_pred)"
   ]
  },
  {
   "cell_type": "code",
   "execution_count": 23,
   "metadata": {},
   "outputs": [
    {
     "data": {
      "text/plain": [
       "SVC(C=1.0, cache_size=200, class_weight=None, coef0=0.0,\n",
       "  decision_function_shape='ovr', degree=3, gamma='auto', kernel='rbf',\n",
       "  max_iter=-1, probability=False, random_state=None, shrinking=True,\n",
       "  tol=0.001, verbose=False)"
      ]
     },
     "execution_count": 23,
     "metadata": {},
     "output_type": "execute_result"
    }
   ],
   "source": [
    "from sklearn.svm import SVC\n",
    "X = prunedDataNumeric.drop(prunedDataNumeric.columns[0],axis=1).drop(['id','y','default','outliers'],axis=1)\n",
    "Y = prunedDataNumeric['y']\n",
    "clf = SVC(gamma='auto')\n",
    "clf"
   ]
  },
  {
   "cell_type": "code",
   "execution_count": 25,
   "metadata": {},
   "outputs": [
    {
     "data": {
      "text/plain": [
       "SVC(C=1.0, cache_size=200, class_weight=None, coef0=0.0,\n",
       "  decision_function_shape='ovr', degree=3, gamma='auto', kernel='rbf',\n",
       "  max_iter=-1, probability=False, random_state=None, shrinking=True,\n",
       "  tol=0.001, verbose=False)"
      ]
     },
     "execution_count": 25,
     "metadata": {},
     "output_type": "execute_result"
    }
   ],
   "source": [
    "clf.fit(X, Y)"
   ]
  },
  {
   "cell_type": "code",
   "execution_count": 26,
   "metadata": {
    "scrolled": true
   },
   "outputs": [
    {
     "name": "stdout",
     "output_type": "stream",
     "text": [
      "specificity =  0.9819466248037677\n",
      "precision =  0.6290322580645161\n",
      "f1 score =  0.3561643835616438\n",
      "recall =  0.2484076433121019\n",
      "[[2502   46]\n",
      " [ 236   78]]\n",
      "specificity =  0.9862798902391219\n",
      "precision =  0.6698113207547169\n",
      "f1 score =  0.34052757793764993\n",
      "recall =  0.2282958199356913\n",
      "[[2516   35]\n",
      " [ 240   71]]\n",
      "specificity =  0.9863441279750292\n",
      "precision =  0.6195652173913043\n",
      "f1 score =  0.2915601023017903\n",
      "recall =  0.19063545150501673\n",
      "[[2528   35]\n",
      " [ 242   57]]\n",
      "specificity =  0.988976377952756\n",
      "precision =  0.6853932584269663\n",
      "f1 score =  0.29683698296836986\n",
      "recall =  0.18944099378881987\n",
      "[[2512   28]\n",
      " [ 261   61]]\n",
      "specificity =  0.9828192112456072\n",
      "precision =  0.65625\n",
      "f1 score =  0.39160839160839156\n",
      "recall =  0.27906976744186046\n",
      "[[2517   44]\n",
      " [ 217   84]]\n",
      "specificity =  0.9812792511700468\n",
      "precision =  0.5862068965517241\n",
      "f1 score =  0.3285024154589372\n",
      "recall =  0.22818791946308725\n",
      "[[2516   48]\n",
      " [ 230   68]]\n",
      "specificity =  0.9778812572759022\n",
      "precision =  0.5086206896551724\n",
      "f1 score =  0.2942643391521197\n",
      "recall =  0.20701754385964913\n",
      "[[2520   57]\n",
      " [ 226   59]]\n",
      "specificity =  0.9778217821782178\n",
      "precision =  0.6190476190476191\n",
      "f1 score =  0.3760330578512397\n",
      "recall =  0.27002967359050445\n",
      "[[2469   56]\n",
      " [ 246   91]]\n",
      "specificity =  0.985202492211838\n",
      "precision =  0.6415094339622641\n",
      "f1 score =  0.34\n",
      "recall =  0.23129251700680273\n",
      "[[2530   38]\n",
      " [ 226   68]]\n",
      "specificity =  0.9816262705238468\n",
      "precision =  0.591304347826087\n",
      "f1 score =  0.3253588516746412\n",
      "recall =  0.22442244224422442\n",
      "[[2511   47]\n",
      " [ 235   68]]\n"
     ]
    }
   ],
   "source": [
    "from sklearn.cross_validation import KFold\n",
    "from sklearn.svm import SVC\n",
    "from sklearn.metrics import precision_score,f1_score\n",
    "from sklearn.metrics import confusion_matrix\n",
    "kf = KFold(len(Y), n_folds=10)\n",
    "\n",
    "# clf = svm.SVC(kernel='linear',degree=1)\n",
    "clf = SVC(gamma='auto')\n",
    "for train_index, test_index in kf:\n",
    "   X_train, X_test = X.iloc[train_index], X.iloc[test_index]\n",
    "   y_train, y_test = Y.iloc[train_index], Y.iloc[test_index]\n",
    "   clf.fit(X_train, y_train)\n",
    "   y_pred = clf.predict(X_test)\n",
    "   returned= confusion_matrix(y_test, y_pred).ravel()\n",
    "   len(returned)\n",
    "   tn, fp, fn, tp = confusion_matrix(y_test, y_pred).ravel()\n",
    "   specificity = tn / (tn+fp) \n",
    "   print(\"specificity = \",specificity) \n",
    "   print(\"precision = \",precision_score(y_test, y_pred))\n",
    "   print(\"f1 score = \",f1_score(y_test, y_pred)) \n",
    "   print(\"recall = \",recall_score(y_test, y_pred))\n",
    "   print(confusion_matrix(y_test, y_pred))"
   ]
  },
  {
   "cell_type": "code",
   "execution_count": 27,
   "metadata": {},
   "outputs": [
    {
     "data": {
      "image/png": "[encoded data removed]",
      "text/plain": [
       "<Figure size 432x288 with 1 Axes>"
      ]
     },
     "metadata": {
      "needs_background": "light"
     },
     "output_type": "display_data"
    }
   ],
   "source": [
    "from sklearn.svm import SVC\n",
    "from sklearn.metrics import precision_score,f1_score\n",
    "from sklearn.metrics import confusion_matrix,recall_score\n",
    "\n",
    "from sklearn.cross_validation import KFold\n",
    "from sklearn.metrics import precision_score,f1_score,confusion_matrix,auc,roc_curve\n",
    "clf = SVC(gamma='auto',probability=True)\n",
    "clf.fit(X_train, y_train)\n",
    "probs = clf.predict_proba(X_test)\n",
    "preds = probs[:,1]\n",
    "fpr, tpr, threshold = roc_curve(y_test, preds)\n",
    "roc_auc = auc(fpr, tpr)\n",
    "import matplotlib.pyplot as plt\n",
    "plt.title('Receiver Operating Characteristic')\n",
    "plt.plot(fpr, tpr, 'b', label = 'AUC = %0.2f' % roc_auc)\n",
    "plt.legend(loc = 'lower right')\n",
    "plt.plot([0, 1], [0, 1],'r--')\n",
    "plt.xlim([0, 1])\n",
    "plt.ylim([0, 1])\n",
    "plt.ylabel('True Positive Rate')\n",
    "plt.xlabel('False Positive Rate')\n",
    "plt.show()"
   ]
  },
  {
   "cell_type": "code",
   "execution_count": 17,
   "metadata": {},
   "outputs": [
    {
     "name": "stdout",
     "output_type": "stream",
     "text": [
      "actual        0    1\n",
      "predicted           \n",
      "0          6445  690\n",
      "1            64  140\n",
      "specificity =  0.9032936229852838\n",
      "precision =  0.6862745098039216\n",
      "recall =  0.1686746987951807\n",
      "f1 score =  0.27079303675048355\n",
      "log loss =  3.548479162828477\n"
     ]
    }
   ],
   "source": [
    "from sklearn.svm import SVC\n",
    "from sklearn.metrics import precision_score,f1_score\n",
    "from sklearn.metrics import confusion_matrix,recall_score,log_loss\n",
    "clf = SVC(gamma='auto',probability=True)\n",
    "clf.fit(X,Y)\n",
    "pred = clf.predict(testDataNumeric.drop(testDataNumeric.columns[0],axis=1).drop(['id','y','default'],axis=1))\n",
    "y_pred = pd.Series(pred, name=\"predicted\")\n",
    "y_actual = pd.Series(testDataNumeric['y'], name=\"actual\")\n",
    "print(pd.crosstab(y_pred,y_actual))\n",
    "\n",
    "tn, fp, fn, tp = confusion_matrix(y_pred,y_actual).ravel()\n",
    "specificity = tn / (tn+fp) \n",
    "print(\"specificity = \",specificity) \n",
    "print(\"precision = \",precision_score(y_actual, y_pred))\n",
    "print(\"recall = \",recall_score(y_actual, y_pred))\n",
    "print(\"f1 score = \",f1_score(y_actual, y_pred))\n",
    "print(\"log loss = \",log_loss(y_actual, y_pred))"
   ]
  }
 ],
 "metadata": {
  "kernelspec": {
   "display_name": "Python 3",
   "language": "python",
   "name": "python3"
  },
  "language_info": {
   "codemirror_mode": {
    "name": "ipython",
    "version": 3
   },
   "file_extension": ".py",
   "mimetype": "text/x-python",
   "name": "python",
   "nbconvert_exporter": "python",
   "pygments_lexer": "ipython3",
   "version": "3.7.0"
  }
 },
 "nbformat": 4,
 "nbformat_minor": 2
}
