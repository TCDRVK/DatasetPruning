{
 "cells": [
  {
   "cell_type": "code",
   "execution_count": 98,
   "metadata": {},
   "outputs": [
    {
     "name": "stderr",
     "output_type": "stream",
     "text": [
      "C:\\Users\\Kiruthika Velusamy\\Anaconda3\\lib\\site-packages\\sklearn\\model_selection\\_split.py:2026: FutureWarning: From version 0.21, test_size will always complement train_size unless both are specified.\n",
      "  FutureWarning)\n",
      "C:\\Users\\Kiruthika Velusamy\\Anaconda3\\lib\\site-packages\\ipykernel_launcher.py:16: SettingWithCopyWarning: \n",
      "A value is trying to be set on a copy of a slice from a DataFrame.\n",
      "Try using .loc[row_indexer,col_indexer] = value instead\n",
      "\n",
      "See the caveats in the documentation: http://pandas.pydata.org/pandas-docs/stable/indexing.html#indexing-view-versus-copy\n",
      "  app.launch_new_instance()\n"
     ]
    },
    {
     "name": "stdout",
     "output_type": "stream",
     "text": [
      "[0 0 0 ... 0 0 0]\n",
      "Estimated number of clusters: 3\n"
     ]
    },
    {
     "data": {
      "text/plain": [
       " 0    22907\n",
       " 1      900\n",
       " 2       75\n",
       "-1       17\n",
       "dtype: int64"
      ]
     },
     "execution_count": 98,
     "metadata": {},
     "output_type": "execute_result"
    }
   ],
   "source": [
    "#import statements\n",
    "import matplotlib.pyplot as plt\n",
    "import numpy as np\n",
    "from sklearn.preprocessing import StandardScaler\n",
    "import pandas as pd\n",
    "from sklearn.model_selection import train_test_split\n",
    "from sklearn.cluster import DBSCAN\n",
    "from sklearn.preprocessing import StandardScaler\n",
    "from sklearn.metrics import roc_auc_score\n",
    "from sklearn.metrics import confusion_matrix,f1_score\n",
    "\n",
    "def str_to_numeric(data1):\n",
    " label_mapping = {}\n",
    " char_cols = data1.dtypes.pipe(lambda x: x[x == 'object']).index\n",
    " for c in char_cols:\n",
    "    data1[c], label_mapping[c] = pd.factorize(data1[c])\n",
    " return data1   \n",
    "\n",
    "data = pd.read_csv(\"C:/Users/Kiruthika Velusamy/Documents/Machine Learning Assignment/cleaned_and_imputed_data.csv\");\n",
    "data= data.drop(['id'], axis=1)\n",
    "data =data.drop(data.columns[0],axis=1)\n",
    "#splitting the data\n",
    "original_train, original_test = train_test_split(data, train_size=0.65)\n",
    "train = str_to_numeric(original_train)\n",
    "test = str_to_numeric(original_test)\n",
    "#train data\n",
    "train_X = train[train.columns.difference(['y'])]\n",
    "train_Y = train[['y']]\n",
    "# #transforming the train_X by standard scalar\n",
    "X=StandardScaler().fit_transform(train_X)\n",
    "#increasing the eps distance between two samples , min sample=5\n",
    "db=DBSCAN(eps=4.10,min_samples=5).fit(X)\n",
    "labels=db.labels_\n",
    "print(labels)\n",
    "n_clusters_ = len(set(labels)) - (1 if -1 in labels else 0)\n",
    "print('Estimated number of clusters: %d' % n_clusters_)\n",
    "pd.Series(labels).value_counts()"
   ]
  },
  {
   "cell_type": "code",
   "execution_count": 88,
   "metadata": {},
   "outputs": [
    {
     "name": "stdout",
     "output_type": "stream",
     "text": [
      "Estimated number of clusters: 2\n",
      " 0    22944\n",
      " 1      952\n",
      "-1        3\n",
      "dtype: int64\n",
      "inlier 952 outlier 3 total train X 23899\n"
     ]
    },
    {
     "data": {
      "text/plain": [
       "<matplotlib.collections.PathCollection at 0x238544e1470>"
      ]
     },
     "execution_count": 88,
     "metadata": {},
     "output_type": "execute_result"
    },
    {
     "data": {
      "image/png": "[encoded data removed]",
      "text/plain": [
       "<Figure size 432x288 with 1 Axes>"
      ]
     },
     "metadata": {
      "needs_background": "light"
     },
     "output_type": "display_data"
    }
   ],
   "source": [
    "\n",
    "X=StandardScaler().fit_transform(train_X[['age','pdays']])\n",
    "db=DBSCAN(eps=0.3,min_samples=10).fit(X)\n",
    "labels=db.labels_\n",
    "n_clusters_ = len(set(labels)) - (1 if -1 in labels else 0)\n",
    "print('Estimated number of clusters: %d' % n_clusters_)\n",
    "print(pd.Series(labels).value_counts())\n",
    "train_X['pred'] = labels\n",
    "outlier=labels[labels==-1]\n",
    "inlier=labels[labels==1]\n",
    "print('inlier',len(inlier),'outlier',len(outlier),'total train X', len(train_X[['age','pdays']]))\n",
    "axes = plt.subplot()\n",
    "axes.scatter(train_X[train_X['pred']==1]['age'],train_X[train_X['pred']==1]['pdays'],c='blue')\n",
    "# axes.scatter(train_X[train_X['pred']==0]['age'],train_X[train_X['pred']==0]['pdays'],c='green')\n",
    "axes.scatter(train_X[train_X['pred']==-1]['age'],train_X[train_X['pred']==-1]['pdays'],c='red')\n"
   ]
  }
 ],
 "metadata": {
  "kernelspec": {
   "display_name": "Python 3",
   "language": "python",
   "name": "python3"
  },
  "language_info": {
   "codemirror_mode": {
    "name": "ipython",
    "version": 3
   },
   "file_extension": ".py",
   "mimetype": "text/x-python",
   "name": "python",
   "nbconvert_exporter": "python",
   "pygments_lexer": "ipython3",
   "version": "3.7.0"
  }
 },
 "nbformat": 4,
 "nbformat_minor": 2
}
