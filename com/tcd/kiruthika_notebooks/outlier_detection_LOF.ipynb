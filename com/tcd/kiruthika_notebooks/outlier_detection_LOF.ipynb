{
 "cells": [
  {
   "cell_type": "code",
   "execution_count": 2,
   "metadata": {},
   "outputs": [
    {
     "name": "stderr",
     "output_type": "stream",
     "text": [
      "C:\\Users\\Kiruthika Velusamy\\Anaconda3\\lib\\site-packages\\sklearn\\model_selection\\_split.py:2026: FutureWarning: From version 0.21, test_size will always complement train_size unless both are specified.\n",
      "  FutureWarning)\n"
     ]
    }
   ],
   "source": [
    "#import statements\n",
    "import matplotlib.pyplot as plt\n",
    "import numpy as np\n",
    "from sklearn.preprocessing import StandardScaler\n",
    "import pandas as pd\n",
    "from sklearn.model_selection import train_test_split\n",
    "from sklearn.neighbors import LocalOutlierFactor\n",
    "from sklearn.metrics import roc_auc_score\n",
    "from sklearn.metrics import confusion_matrix,f1_score\n",
    "\n",
    "data = pd.read_csv(\"C:/Users/Kiruthika Velusamy/Documents/Machine Learning Assignment/cleaned_data.csv\");\n",
    "data= data.drop(['id'], axis=1)\n",
    "data =data.drop(data.columns[0],axis=1)\n",
    "char_cols = data.dtypes.pipe(lambda x: x[x == 'object']).index\n",
    "label_mapping = {}\n",
    "for c in char_cols:\n",
    "    data[c], label_mapping[c] = pd.factorize(data[c])\n",
    "# label_mapping\n",
    "\n",
    "train, test = train_test_split(data, train_size=0.65)\n",
    "train_X = train[train.columns.difference(['y'])]\n",
    "train_Y = train[['y']]\n",
    "clf=LocalOutlierFactor(n_neighbors=2, metric='minkowski')\n",
    "y_pred = clf.fit_predict(train_X)"
   ]
  },
  {
   "cell_type": "code",
   "execution_count": 3,
   "metadata": {},
   "outputs": [
    {
     "name": "stderr",
     "output_type": "stream",
     "text": [
      "C:\\Users\\Kiruthika Velusamy\\Anaconda3\\lib\\site-packages\\scipy\\stats\\stats.py:1713: FutureWarning: Using a non-tuple sequence for multidimensional indexing is deprecated; use `arr[tuple(seq)]` instead of `arr[seq]`. In the future this will be interpreted as an array index, `arr[np.array(seq)]`, which will result either in an error or a different result.\n",
      "  return np.add.reduce(sorted[indexer] * weights, axis=axis) / sumval\n",
      "C:\\Users\\Kiruthika Velusamy\\Anaconda3\\lib\\site-packages\\ipykernel_launcher.py:4: SettingWithCopyWarning: \n",
      "A value is trying to be set on a copy of a slice from a DataFrame.\n",
      "Try using .loc[row_indexer,col_indexer] = value instead\n",
      "\n",
      "See the caveats in the documentation: http://pandas.pydata.org/pandas-docs/stable/indexing.html#indexing-view-versus-copy\n",
      "  after removing the cwd from sys.path.\n"
     ]
    },
    {
     "data": {
      "text/plain": [
       "<matplotlib.collections.PathCollection at 0x21fa7b5dfd0>"
      ]
     },
     "execution_count": 3,
     "metadata": {},
     "output_type": "execute_result"
    },
    {
     "data": {
      "image/png": "[encoded data removed]",
      "text/plain": [
       "<Figure size 432x288 with 1 Axes>"
      ]
     },
     "metadata": {
      "needs_background": "light"
     },
     "output_type": "display_data"
    }
   ],
   "source": [
    "remove_999 = train_X[train_X['pdays']!=999]\n",
    "clf=LocalOutlierFactor(n_neighbors=2, metric='minkowski')\n",
    "y_pred = clf.fit_predict(remove_999[['age','pdays']])\n",
    "remove_999['pred'] = y_pred\n",
    "axes = plt.subplot()\n",
    "axes.scatter(remove_999[remove_999['pred']==1]['age'],remove_999[remove_999['pred']==1]['pdays'],c='blue')\n",
    "axes.scatter(remove_999[remove_999['pred']==-1]['age'],remove_999[remove_999['pred']==-1]['pdays'],c='red')"
   ]
  },
  {
   "cell_type": "code",
   "execution_count": 4,
   "metadata": {},
   "outputs": [
    {
     "name": "stderr",
     "output_type": "stream",
     "text": [
      "C:\\Users\\Kiruthika Velusamy\\Anaconda3\\lib\\site-packages\\scipy\\stats\\stats.py:1713: FutureWarning: Using a non-tuple sequence for multidimensional indexing is deprecated; use `arr[tuple(seq)]` instead of `arr[seq]`. In the future this will be interpreted as an array index, `arr[np.array(seq)]`, which will result either in an error or a different result.\n",
      "  return np.add.reduce(sorted[indexer] * weights, axis=axis) / sumval\n",
      "C:\\Users\\Kiruthika Velusamy\\Anaconda3\\lib\\site-packages\\ipykernel_launcher.py:4: SettingWithCopyWarning: \n",
      "A value is trying to be set on a copy of a slice from a DataFrame.\n",
      "Try using .loc[row_indexer,col_indexer] = value instead\n",
      "\n",
      "See the caveats in the documentation: http://pandas.pydata.org/pandas-docs/stable/indexing.html#indexing-view-versus-copy\n",
      "  after removing the cwd from sys.path.\n"
     ]
    },
    {
     "data": {
      "text/plain": [
       "<matplotlib.collections.PathCollection at 0x21fa8b24208>"
      ]
     },
     "execution_count": 4,
     "metadata": {},
     "output_type": "execute_result"
    },
    {
     "data": {
      "image/png": "[encoded data removed]",
      "text/plain": [
       "<Figure size 432x288 with 1 Axes>"
      ]
     },
     "metadata": {
      "needs_background": "light"
     },
     "output_type": "display_data"
    }
   ],
   "source": [
    "remove_999 = train_X[train_X['pdays']!=999]\n",
    "clf=LocalOutlierFactor(n_neighbors=6, metric='minkowski')\n",
    "y_pred = clf.fit_predict(remove_999[['education','pdays']])\n",
    "remove_999['pred'] = y_pred\n",
    "axes = plt.subplot()\n",
    "axes.scatter(remove_999[remove_999['pred']==1]['education'],remove_999[remove_999['pred']==1]['pdays'],c='blue')\n",
    "axes.scatter(remove_999[remove_999['pred']==-1]['education'],remove_999[remove_999['pred']==-1]['pdays'],c='red')"
   ]
  }
 ],
 "metadata": {
  "kernelspec": {
   "display_name": "Python 3",
   "language": "python",
   "name": "python3"
  },
  "language_info": {
   "codemirror_mode": {
    "name": "ipython",
    "version": 3
   },
   "file_extension": ".py",
   "mimetype": "text/x-python",
   "name": "python",
   "nbconvert_exporter": "python",
   "pygments_lexer": "ipython3",
   "version": "3.7.0"
  }
 },
 "nbformat": 4,
 "nbformat_minor": 2
}
