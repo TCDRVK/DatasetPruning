{
 "cells": [
  {
   "cell_type": "code",
   "execution_count": 75,
   "metadata": {},
   "outputs": [
    {
     "name": "stderr",
     "output_type": "stream",
     "text": [
      "C:\\Users\\Kiruthika Velusamy\\Anaconda3\\lib\\site-packages\\sklearn\\model_selection\\_split.py:2026: FutureWarning: From version 0.21, test_size will always complement train_size unless both are specified.\n",
      "  FutureWarning)\n",
      "C:\\Users\\Kiruthika Velusamy\\Anaconda3\\lib\\site-packages\\scipy\\stats\\stats.py:1713: FutureWarning: Using a non-tuple sequence for multidimensional indexing is deprecated; use `arr[tuple(seq)]` instead of `arr[seq]`. In the future this will be interpreted as an array index, `arr[np.array(seq)]`, which will result either in an error or a different result.\n",
      "  return np.add.reduce(sorted[indexer] * weights, axis=axis) / sumval\n"
     ]
    },
    {
     "name": "stdout",
     "output_type": "stream",
     "text": [
      "pred data 21509\n",
      "inlier 21509 outlier 2390 total train X 23899\n"
     ]
    }
   ],
   "source": [
    "#import statements(Initital)\n",
    "import matplotlib.pyplot as plt\n",
    "import numpy as np\n",
    "from sklearn.preprocessing import StandardScaler\n",
    "import pandas as pd\n",
    "from sklearn.model_selection import train_test_split\n",
    "from sklearn.neighbors import LocalOutlierFactor\n",
    "from sklearn.metrics import roc_auc_score\n",
    "from sklearn.metrics import confusion_matrix,f1_score\n",
    "data = pd.read_csv(\"C:/Users/Kiruthika Velusamy/Documents/Machine Learning Assignment/cleaned_and_imputed_data.csv\");\n",
    "data= data.drop(['id'], axis=1)\n",
    "data =data.drop(data.columns[0],axis=1)\n",
    "char_cols = data.dtypes.pipe(lambda x: x[x == 'object']).index\n",
    "label_mapping = {}\n",
    "for c in char_cols:\n",
    "    data[c], label_mapping[c] = pd.factorize(data[c])\n",
    "# label_mapping\n",
    "\n",
    "train, test = train_test_split(data, train_size=0.65)\n",
    "train_X = train[train.columns.difference(['y'])]\n",
    "train_Y = train[['y']]\n",
    "# remove_999 = train_X[train_X['pdays']!=999]\n",
    "\n",
    "clf=LocalOutlierFactor(n_neighbors=5, metric='minkowski')\n",
    "y_pred = clf.fit_predict(train_X)\n",
    "train['is_outlier']==\n",
    "filtered_data_LOF = train_X[y_pred!=-1]\n",
    "filtered_data_LOF.to_csv('C:/Users/Kiruthika Velusamy/Documents/Machine Learning Assignment/Final_dataset.csv')\n",
    "print('pred data',len(filtered_data_LOF))\n",
    "outlier=y_pred[y_pred==-1]\n",
    "inlier=y_pred[y_pred==1]\n",
    "print('inlier',len(inlier),'outlier',len(outlier),'total train X', len(train_X))\n",
    "\n"
   ]
  },
  {
   "cell_type": "code",
   "execution_count": null,
   "metadata": {},
   "outputs": [],
   "source": []
  },
  {
   "cell_type": "code",
   "execution_count": 104,
   "metadata": {},
   "outputs": [
    {
     "name": "stdout",
     "output_type": "stream",
     "text": [
      "inlier 936 outlier 39 total train X 975\n"
     ]
    },
    {
     "name": "stderr",
     "output_type": "stream",
     "text": [
      "C:\\Users\\Kiruthika Velusamy\\Anaconda3\\lib\\site-packages\\scipy\\stats\\stats.py:1713: FutureWarning: Using a non-tuple sequence for multidimensional indexing is deprecated; use `arr[tuple(seq)]` instead of `arr[seq]`. In the future this will be interpreted as an array index, `arr[np.array(seq)]`, which will result either in an error or a different result.\n",
      "  return np.add.reduce(sorted[indexer] * weights, axis=axis) / sumval\n",
      "C:\\Users\\Kiruthika Velusamy\\Anaconda3\\lib\\site-packages\\ipykernel_launcher.py:4: SettingWithCopyWarning: \n",
      "A value is trying to be set on a copy of a slice from a DataFrame.\n",
      "Try using .loc[row_indexer,col_indexer] = value instead\n",
      "\n",
      "See the caveats in the documentation: http://pandas.pydata.org/pandas-docs/stable/indexing.html#indexing-view-versus-copy\n",
      "  after removing the cwd from sys.path.\n"
     ]
    },
    {
     "data": {
      "text/plain": [
       "<matplotlib.collections.PathCollection at 0x21fa93dce80>"
      ]
     },
     "execution_count": 104,
     "metadata": {},
     "output_type": "execute_result"
    },
    {
     "data": {
      "image/png": "[encoded data removed]",
      "text/plain": [
       "<Figure size 432x288 with 1 Axes>"
      ]
     },
     "metadata": {
      "needs_background": "light"
     },
     "output_type": "display_data"
    }
   ],
   "source": [
    "#comparing age and pdays by removing 999 from pdays\n",
    "remove_999 = train_X[train_X['pdays']!=999]\n",
    "clf=LocalOutlierFactor(n_neighbors=100, metric='minkowski', contamination=0.04)\n",
    "y_pred = clf.fit_predict(remove_999[['age','pdays']])\n",
    "remove_999['pred'] = y_pred\n",
    "outlier=y_pred[y_pred==-1]\n",
    "inlier=y_pred[y_pred==1]\n",
    "print('inlier',len(inlier),'outlier',len(outlier),'total train X', len(remove_999))\n",
    "axes = plt.subplot()\n",
    "axes.scatter(remove_999[remove_999['pred']==1]['age'],remove_999[remove_999['pred']==1]['pdays'],c='blue')\n",
    "axes.scatter(remove_999[remove_999['pred']==-1]['age'],remove_999[remove_999['pred']==-1]['pdays'],c='red')"
   ]
  },
  {
   "cell_type": "code",
   "execution_count": 107,
   "metadata": {},
   "outputs": [
    {
     "name": "stderr",
     "output_type": "stream",
     "text": [
      "C:\\Users\\Kiruthika Velusamy\\Anaconda3\\lib\\site-packages\\sklearn\\model_selection\\_split.py:2026: FutureWarning: From version 0.21, test_size will always complement train_size unless both are specified.\n",
      "  FutureWarning)\n",
      "C:\\Users\\Kiruthika Velusamy\\Anaconda3\\lib\\site-packages\\ipykernel_launcher.py:15: SettingWithCopyWarning: \n",
      "A value is trying to be set on a copy of a slice from a DataFrame.\n",
      "Try using .loc[row_indexer,col_indexer] = value instead\n",
      "\n",
      "See the caveats in the documentation: http://pandas.pydata.org/pandas-docs/stable/indexing.html#indexing-view-versus-copy\n",
      "  from ipykernel import kernelapp as app\n",
      "C:\\Users\\Kiruthika Velusamy\\Anaconda3\\lib\\site-packages\\scipy\\stats\\stats.py:1713: FutureWarning: Using a non-tuple sequence for multidimensional indexing is deprecated; use `arr[tuple(seq)]` instead of `arr[seq]`. In the future this will be interpreted as an array index, `arr[np.array(seq)]`, which will result either in an error or a different result.\n",
      "  return np.add.reduce(sorted[indexer] * weights, axis=axis) / sumval\n",
      "C:\\Users\\Kiruthika Velusamy\\Anaconda3\\lib\\site-packages\\ipykernel_launcher.py:31: SettingWithCopyWarning: \n",
      "A value is trying to be set on a copy of a slice from a DataFrame.\n",
      "Try using .loc[row_indexer,col_indexer] = value instead\n",
      "\n",
      "See the caveats in the documentation: http://pandas.pydata.org/pandas-docs/stable/indexing.html#indexing-view-versus-copy\n"
     ]
    },
    {
     "name": "stdout",
     "output_type": "stream",
     "text": [
      "pred data 22943\n",
      "inlier 22943 outlier 956 total train X 23899\n"
     ]
    }
   ],
   "source": [
    "#import statements( Final draft)\n",
    "import matplotlib.pyplot as plt\n",
    "import numpy as np\n",
    "from sklearn.preprocessing import StandardScaler\n",
    "import pandas as pd\n",
    "from sklearn.model_selection import train_test_split\n",
    "from sklearn.neighbors import LocalOutlierFactor\n",
    "from sklearn.metrics import roc_auc_score\n",
    "from sklearn.metrics import confusion_matrix,f1_score\n",
    "\n",
    "def str_to_numeric(data1):\n",
    " label_mapping = {}\n",
    " char_cols = data1.dtypes.pipe(lambda x: x[x == 'object']).index\n",
    " for c in char_cols:\n",
    "    data1[c], label_mapping[c] = pd.factorize(data1[c])\n",
    " return data1   \n",
    "\n",
    "data = pd.read_csv(\"C:/Users/Kiruthika Velusamy/Documents/Machine Learning Assignment/cleaned_and_imputed_data.csv\");\n",
    "data= data.drop(['id'], axis=1)\n",
    "data =data.drop(data.columns[0],axis=1)\n",
    "#splitting the data\n",
    "original_train, original_test = train_test_split(data, train_size=0.65)\n",
    "train = str_to_numeric(original_train)\n",
    "test = str_to_numeric(original_test)\n",
    "#train data\n",
    "train_X = train[train.columns.difference(['y'])]\n",
    "train_Y = train[['y']]\n",
    "# local outlier factor with neignbors=5\n",
    "clf=LocalOutlierFactor(n_neighbors=100, metric='minkowski',contamination=0.04)\n",
    "y_pred = clf.fit_predict(train_X)\n",
    "original_train['outliers'] = y_pred\n",
    "filtered_data_LOF = original_train[y_pred!=-1]\n",
    "filtered_data_LOF.to_csv('C:/Users/Kiruthika Velusamy/Documents/Machine Learning Assignment/Final_dataset.csv')\n",
    "print('pred data',len(filtered_data_LOF))\n",
    "outlier=y_pred[y_pred==-1]\n",
    "inlier=y_pred[y_pred==1]\n",
    "print('inlier',len(inlier),'outlier',len(outlier),'total train X', len(train_X))\n",
    "\n"
   ]
  }
 ],
 "metadata": {
  "kernelspec": {
   "display_name": "Python 3",
   "language": "python",
   "name": "python3"
  },
  "language_info": {
   "codemirror_mode": {
    "name": "ipython",
    "version": 3
   },
   "file_extension": ".py",
   "mimetype": "text/x-python",
   "name": "python",
   "nbconvert_exporter": "python",
   "pygments_lexer": "ipython3",
   "version": "3.7.0"
  }
 },
 "nbformat": 4,
 "nbformat_minor": 2
}
