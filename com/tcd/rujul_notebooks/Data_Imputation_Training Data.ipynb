{
 "cells": [
  {
   "cell_type": "code",
   "execution_count": 1,
   "metadata": {},
   "outputs": [],
   "source": [
    "from sklearn.linear_model import SGDRegressor\n",
    "import pandas as pd\n",
    "import numpy as np\n",
    "from sklearn.model_selection import train_test_split\n",
    "from sklearn.cluster import DBSCAN\n",
    "from sklearn import svm"
   ]
  },
  {
   "cell_type": "code",
   "execution_count": 7,
   "metadata": {},
   "outputs": [],
   "source": [
    "data = pd.read_csv('/Users/krishna/Downloads/bank-additional/bank-additional-full.csv',sep=';')\n",
    "data['id'] = data.index\n",
    "original_data = data"
   ]
  },
  {
   "cell_type": "code",
   "execution_count": 8,
   "metadata": {},
   "outputs": [],
   "source": [
    "test_data = pd.read_csv('/Users/krishna/Downloads/Final_dataset_test.csv',sep=',')\n"
   ]
  },
  {
   "cell_type": "code",
   "execution_count": 23,
   "metadata": {},
   "outputs": [],
   "source": [
    "data_copy= data.copy()"
   ]
  },
  {
   "cell_type": "code",
   "execution_count": 12,
   "metadata": {},
   "outputs": [],
   "source": [
    "A=test_data['id']"
   ]
  },
  {
   "cell_type": "code",
   "execution_count": 19,
   "metadata": {},
   "outputs": [],
   "source": [
    "B=np.asarray(A)"
   ]
  },
  {
   "cell_type": "code",
   "execution_count": 25,
   "metadata": {},
   "outputs": [],
   "source": [
    "for i in range(0,len(B)):\n",
    "    data_copy=data_copy[data_copy.id!=B[i]]"
   ]
  },
  {
   "cell_type": "code",
   "execution_count": 34,
   "metadata": {},
   "outputs": [],
   "source": [
    "def data_correalation(data):\n",
    "    char_cols = data.dtypes.pipe(lambda x: x[x == 'object']).index\n",
    "    print(char_cols)\n",
    "    label_mapping = {}\n",
    "    for c in char_cols:\n",
    "        data[c], label_mapping[c] = pd.factorize(data[c])"
   ]
  },
  {
   "cell_type": "code",
   "execution_count": 27,
   "metadata": {},
   "outputs": [],
   "source": [
    "data_unpruned_training=data_copy.copy()"
   ]
  },
  {
   "cell_type": "code",
   "execution_count": null,
   "metadata": {},
   "outputs": [],
   "source": [
    "data_unpruned_training"
   ]
  },
  {
   "cell_type": "code",
   "execution_count": 28,
   "metadata": {},
   "outputs": [],
   "source": [
    "#Taking bank client data from the cleaned dataset\n",
    "bank_client_data=data_unpruned_training[['age','job','marital','education','default','housing','loan']].copy()"
   ]
  },
  {
   "cell_type": "code",
   "execution_count": 29,
   "metadata": {},
   "outputs": [],
   "source": [
    "#Performing Data Pruning for Marital\n",
    "c_data_removed_marital=bank_client_data.copy()"
   ]
  },
  {
   "cell_type": "code",
   "execution_count": 30,
   "metadata": {},
   "outputs": [],
   "source": [
    "y = c_data_removed_marital['marital']"
   ]
  },
  {
   "cell_type": "code",
   "execution_count": 31,
   "metadata": {},
   "outputs": [],
   "source": [
    "ytest=y[y=='unknown']\n",
    "ytrain=y[-(y=='unknown')]"
   ]
  },
  {
   "cell_type": "code",
   "execution_count": 32,
   "metadata": {},
   "outputs": [],
   "source": [
    "Xtest=(c_data_removed_marital[c_data_removed_marital['marital']=='unknown']).drop('marital', axis=1)\n",
    "Xtrain=(c_data_removed_marital[-(c_data_removed_marital['marital']=='unknown')]).drop('marital', axis=1)"
   ]
  },
  {
   "cell_type": "code",
   "execution_count": 35,
   "metadata": {},
   "outputs": [
    {
     "name": "stdout",
     "output_type": "stream",
     "text": [
      "Index(['job', 'education', 'default', 'housing', 'loan'], dtype='object')\n"
     ]
    }
   ],
   "source": [
    "data_correalation(Xtrain)"
   ]
  },
  {
   "cell_type": "code",
   "execution_count": 37,
   "metadata": {},
   "outputs": [
    {
     "data": {
      "text/plain": [
       "array([0.57622559, 0.22186865, 0.11896219, 0.02469437, 0.02881884,\n",
       "       0.02943035])"
      ]
     },
     "execution_count": 37,
     "metadata": {},
     "output_type": "execute_result"
    }
   ],
   "source": [
    "from sklearn.ensemble import RandomForestClassifier\n",
    "from sklearn.datasets import make_classification\n",
    "clf = RandomForestClassifier()\n",
    "clf.fit(Xtrain, np.asarray(list(pd.factorize(ytrain)))[0])\n",
    "clf.feature_importances_"
   ]
  },
  {
   "cell_type": "code",
   "execution_count": 39,
   "metadata": {},
   "outputs": [],
   "source": [
    "import matplotlib.pyplot as plt\n",
    "plt.rcParams.update({'font.size': 18})"
   ]
  },
  {
   "cell_type": "code",
   "execution_count": 41,
   "metadata": {},
   "outputs": [
    {
     "data": {
      "text/plain": [
       "Text(0.5,1,'Importance of other Features w.r.t Marital')"
      ]
     },
     "execution_count": 41,
     "metadata": {},
     "output_type": "execute_result"
    },
    {
     "data": {
      "image/png": "[encoded data removed]",
      "text/plain": [
       "<Figure size 1800x864 with 1 Axes>"
      ]
     },
     "metadata": {},
     "output_type": "display_data"
    }
   ],
   "source": [
    "import matplotlib.pyplot as plt\n",
    "fig, ax = plt.subplots(figsize=(25,12))\n",
    "ax.bar(Xtrain.columns,clf.feature_importances_)\n",
    "ax.set_xlabel('Features of Bank Client Data',fontsize=20)\n",
    "ax.set_ylabel('Importance',fontsize=20)\n",
    "ax.set_title('Importance of other Features w.r.t Marital',fontsize=20)"
   ]
  },
  {
   "cell_type": "code",
   "execution_count": 42,
   "metadata": {},
   "outputs": [],
   "source": [
    "#As 'age','job','education' have more significant performance than the other \n",
    "#independent varaibles. Hence consideriing these 3 for fitting random forest \n",
    "c=['age','job','education']\n",
    "Xtrain = Xtrain[c]\n",
    "Xtest = Xtest[c]"
   ]
  },
  {
   "cell_type": "code",
   "execution_count": 43,
   "metadata": {},
   "outputs": [
    {
     "data": {
      "text/plain": [
       "RandomForestClassifier(bootstrap=True, class_weight=None, criterion='gini',\n",
       "            max_depth=None, max_features='auto', max_leaf_nodes=None,\n",
       "            min_impurity_decrease=0.0, min_impurity_split=None,\n",
       "            min_samples_leaf=1, min_samples_split=2,\n",
       "            min_weight_fraction_leaf=0.0, n_estimators=10, n_jobs=1,\n",
       "            oob_score=False, random_state=None, verbose=0,\n",
       "            warm_start=False)"
      ]
     },
     "execution_count": 43,
     "metadata": {},
     "output_type": "execute_result"
    }
   ],
   "source": [
    "#Fittin RandomForest \n",
    "from sklearn.ensemble import RandomForestClassifier\n",
    "from sklearn.datasets import make_classification\n",
    "clf = RandomForestClassifier() \n",
    "clf.fit((Xtrain), np.asarray(list(pd.factorize(ytrain)))[0])"
   ]
  },
  {
   "cell_type": "code",
   "execution_count": 44,
   "metadata": {},
   "outputs": [
    {
     "name": "stdout",
     "output_type": "stream",
     "text": [
      "Index(['job', 'education'], dtype='object')\n"
     ]
    }
   ],
   "source": [
    "data_correalation(Xtest)"
   ]
  },
  {
   "cell_type": "code",
   "execution_count": 45,
   "metadata": {},
   "outputs": [],
   "source": [
    "pred_ = clf.predict((Xtest))"
   ]
  },
  {
   "cell_type": "code",
   "execution_count": 49,
   "metadata": {},
   "outputs": [
    {
     "data": {
      "text/plain": [
       "(array([0, 0, 0, ..., 0, 0, 0]),\n",
       " Index(['married', 'single', 'divorced'], dtype='object'))"
      ]
     },
     "execution_count": 49,
     "metadata": {},
     "output_type": "execute_result"
    }
   ],
   "source": [
    "np.unique(np.asarray(list(pd.factorize(ytrain)))[0])\n",
    "pd.factorize(ytrain)"
   ]
  },
  {
   "cell_type": "code",
   "execution_count": 47,
   "metadata": {},
   "outputs": [
    {
     "data": {
      "text/plain": [
       "array([0, 0, 0, 1, 2, 0, 2, 0, 0, 2, 0, 0, 0, 0, 0, 0, 0, 0, 1, 1, 0, 0,\n",
       "       0, 1, 1, 1, 0, 0, 0, 0, 0, 1, 0, 0, 0, 0, 0, 0, 0, 0, 1, 1, 0, 0,\n",
       "       1, 0, 0, 0, 0, 0, 0, 0, 1, 0, 0, 1, 0, 0, 0, 0, 0, 2, 2, 2])"
      ]
     },
     "execution_count": 47,
     "metadata": {},
     "output_type": "execute_result"
    }
   ],
   "source": [
    "pred_"
   ]
  },
  {
   "cell_type": "code",
   "execution_count": 53,
   "metadata": {},
   "outputs": [],
   "source": [
    "c_data_imputation=data_unpruned_training.copy()"
   ]
  },
  {
   "cell_type": "code",
   "execution_count": 54,
   "metadata": {},
   "outputs": [],
   "source": [
    "# c_data_imputation[c_data_imputation['marital']=='unknown']['marital']='ppp'\n",
    "c_data_imputation.loc[c_data_imputation.marital=='unknown','marital'] = pred_"
   ]
  },
  {
   "cell_type": "code",
   "execution_count": 55,
   "metadata": {},
   "outputs": [],
   "source": [
    "c_data_imputation.loc[c_data_imputation.marital==0,'marital'] = 'married'\n",
    "c_data_imputation.loc[c_data_imputation.marital==1,'marital'] = 'single'\n",
    "c_data_imputation.loc[c_data_imputation.marital==2,'marital'] = 'divorced'"
   ]
  },
  {
   "cell_type": "code",
   "execution_count": 56,
   "metadata": {},
   "outputs": [
    {
     "data": {
      "text/plain": [
       "0"
      ]
     },
     "execution_count": 56,
     "metadata": {},
     "output_type": "execute_result"
    }
   ],
   "source": [
    "#--------#\n",
    "len(c_data_imputation[c_data_imputation['marital']=='unknown']['marital'])"
   ]
  },
  {
   "cell_type": "code",
   "execution_count": 57,
   "metadata": {},
   "outputs": [
    {
     "data": {
      "text/plain": [
       "390       married\n",
       "1493      married\n",
       "3478      married\n",
       "4196       single\n",
       "4344     divorced\n",
       "4454      married\n",
       "7368     divorced\n",
       "7632      married\n",
       "9487      married\n",
       "9714     divorced\n",
       "10547     married\n",
       "11679     married\n",
       "11789     married\n",
       "11883     married\n",
       "12028     married\n",
       "14788     married\n",
       "14789     married\n",
       "15134     married\n",
       "15202      single\n",
       "15289      single\n",
       "17344     married\n",
       "17421     married\n",
       "17652     married\n",
       "20603      single\n",
       "20604      single\n",
       "20761      single\n",
       "20777     married\n",
       "20779     married\n",
       "22262     married\n",
       "22269     married\n",
       "           ...   \n",
       "26973     married\n",
       "26975     married\n",
       "27835     married\n",
       "28034     married\n",
       "29200     married\n",
       "29772     married\n",
       "30522      single\n",
       "30524      single\n",
       "30952     married\n",
       "31315     married\n",
       "31349      single\n",
       "32009     married\n",
       "32663     married\n",
       "32811     married\n",
       "32815     married\n",
       "32999     married\n",
       "33315     married\n",
       "33353     married\n",
       "34423      single\n",
       "34698     married\n",
       "35876     married\n",
       "36380      single\n",
       "36434     married\n",
       "37387     married\n",
       "37425     married\n",
       "38550     married\n",
       "38579     married\n",
       "39322    divorced\n",
       "39323    divorced\n",
       "40857    divorced\n",
       "Name: marital, Length: 64, dtype: object"
      ]
     },
     "execution_count": 57,
     "metadata": {},
     "output_type": "execute_result"
    }
   ],
   "source": [
    "c_data_imputation[data_unpruned_training['marital']=='unknown']['marital']"
   ]
  },
  {
   "cell_type": "code",
   "execution_count": null,
   "metadata": {},
   "outputs": [],
   "source": []
  },
  {
   "cell_type": "code",
   "execution_count": 58,
   "metadata": {},
   "outputs": [],
   "source": [
    "#Performing Data Imputation for Job\n",
    "c_data_removed_job=bank_client_data.copy()"
   ]
  },
  {
   "cell_type": "code",
   "execution_count": 59,
   "metadata": {},
   "outputs": [],
   "source": [
    "y = c_data_removed_job['job']"
   ]
  },
  {
   "cell_type": "code",
   "execution_count": 60,
   "metadata": {},
   "outputs": [],
   "source": [
    "ytest=y[y=='unknown']\n",
    "ytrain=y[-(y=='unknown')]"
   ]
  },
  {
   "cell_type": "code",
   "execution_count": 61,
   "metadata": {},
   "outputs": [],
   "source": [
    "Xtest=(c_data_removed_job[c_data_removed_job['job']=='unknown']).drop('job', axis=1)\n",
    "Xtrain=(c_data_removed_job[-(c_data_removed_job['job']=='unknown')]).drop('job', axis=1)"
   ]
  },
  {
   "cell_type": "code",
   "execution_count": 62,
   "metadata": {},
   "outputs": [
    {
     "name": "stdout",
     "output_type": "stream",
     "text": [
      "Index(['marital', 'education', 'default', 'housing', 'loan'], dtype='object')\n"
     ]
    }
   ],
   "source": [
    "data_correalation(Xtrain)"
   ]
  },
  {
   "cell_type": "code",
   "execution_count": 63,
   "metadata": {},
   "outputs": [
    {
     "data": {
      "text/plain": [
       "array([0.46824558, 0.03231968, 0.4392118 , 0.02251038, 0.02014816,\n",
       "       0.01756439])"
      ]
     },
     "execution_count": 63,
     "metadata": {},
     "output_type": "execute_result"
    }
   ],
   "source": [
    "from sklearn.ensemble import RandomForestClassifier\n",
    "from sklearn.datasets import make_classification\n",
    "clf = RandomForestClassifier()\n",
    "clf.fit(Xtrain, np.asarray(list(pd.factorize(ytrain)))[0])\n",
    "clf.feature_importances_"
   ]
  },
  {
   "cell_type": "code",
   "execution_count": 64,
   "metadata": {},
   "outputs": [
    {
     "data": {
      "text/plain": [
       "Text(0.5,1,'Importance of other Features w.r.t Job')"
      ]
     },
     "execution_count": 64,
     "metadata": {},
     "output_type": "execute_result"
    },
    {
     "data": {
      "image/png": "[encoded data removed]",
      "text/plain": [
       "<Figure size 1800x864 with 1 Axes>"
      ]
     },
     "metadata": {},
     "output_type": "display_data"
    }
   ],
   "source": [
    "import matplotlib.pyplot as plt\n",
    "fig, ax = plt.subplots(figsize=(25,12))\n",
    "ax.bar(Xtrain.columns,clf.feature_importances_)\n",
    "ax.set_xlabel('Features of Bank Client Data',fontsize=20)\n",
    "ax.set_ylabel('Importance',fontsize=20)\n",
    "ax.set_title('Importance of other Features w.r.t Job',fontsize=20)"
   ]
  },
  {
   "cell_type": "code",
   "execution_count": 65,
   "metadata": {},
   "outputs": [],
   "source": [
    "#As 'age','job','education' have more significant performance than the other \n",
    "#independent varaibles. Hence consideriing these 3 for fitting random forest \n",
    "c=['age','education']\n",
    "Xtrain = Xtrain[c]\n",
    "Xtest = Xtest[c]"
   ]
  },
  {
   "cell_type": "code",
   "execution_count": 66,
   "metadata": {},
   "outputs": [
    {
     "data": {
      "text/plain": [
       "RandomForestClassifier(bootstrap=True, class_weight=None, criterion='gini',\n",
       "            max_depth=None, max_features='auto', max_leaf_nodes=None,\n",
       "            min_impurity_decrease=0.0, min_impurity_split=None,\n",
       "            min_samples_leaf=1, min_samples_split=2,\n",
       "            min_weight_fraction_leaf=0.0, n_estimators=10, n_jobs=1,\n",
       "            oob_score=False, random_state=None, verbose=0,\n",
       "            warm_start=False)"
      ]
     },
     "execution_count": 66,
     "metadata": {},
     "output_type": "execute_result"
    }
   ],
   "source": [
    "#Fitting RandomForest \n",
    "from sklearn.ensemble import RandomForestClassifier\n",
    "from sklearn.datasets import make_classification\n",
    "clf = RandomForestClassifier()\n",
    "clf.fit((Xtrain), np.asarray(list(pd.factorize(ytrain)))[0])"
   ]
  },
  {
   "cell_type": "code",
   "execution_count": 67,
   "metadata": {},
   "outputs": [
    {
     "name": "stdout",
     "output_type": "stream",
     "text": [
      "Index(['education'], dtype='object')\n"
     ]
    }
   ],
   "source": [
    "data_correalation(Xtest)"
   ]
  },
  {
   "cell_type": "code",
   "execution_count": 68,
   "metadata": {},
   "outputs": [],
   "source": [
    "pred_job = clf.predict((Xtest))"
   ]
  },
  {
   "cell_type": "code",
   "execution_count": 69,
   "metadata": {},
   "outputs": [
    {
     "data": {
      "text/plain": [
       "array([3, 2, 3, 3, 3, 3, 3, 3, 3, 5, 3, 5, 3, 3, 3, 4, 6, 1, 3, 3, 2, 3,\n",
       "       3, 2, 2, 3, 3, 3, 3, 3, 3, 3, 3, 3, 3, 3, 5, 4, 4, 3, 3, 4, 3, 3,\n",
       "       3, 3, 2, 5, 2, 3, 3, 3, 3, 4, 3, 3, 3, 3, 3, 3, 4, 5, 1, 4, 4, 2,\n",
       "       3, 4, 3, 3, 3, 3, 3, 3, 3, 2, 5, 4, 4, 3, 3, 2, 3, 2, 3, 4, 3, 3,\n",
       "       3, 5, 3, 3, 3, 5, 3, 1, 3, 4, 3, 3, 4, 1, 2, 3, 4, 3, 3, 3, 4, 3,\n",
       "       3, 2, 3, 3, 3, 3, 2, 2, 3, 3, 3, 1, 3, 3, 4, 3, 3, 3, 3, 3, 2, 5,\n",
       "       2, 3, 3, 3, 3, 3, 3, 3, 3, 3, 3, 3, 3, 3, 4, 3, 4, 4, 5, 3, 3, 5,\n",
       "       3, 3, 3, 3, 3, 3, 3, 3, 3, 3, 3, 3, 3, 3, 3, 1, 4, 3, 3, 5, 4, 3,\n",
       "       3, 4, 2, 3, 3, 4, 5, 3, 2, 2, 1, 2, 2, 3, 3, 3, 3, 3, 3, 3, 3, 3,\n",
       "       3, 5, 3, 3, 2, 3, 3, 2, 2, 2, 2, 2, 3, 2, 5, 2, 3, 4, 4, 4, 2, 2,\n",
       "       3, 3, 2, 2, 5, 5, 2, 3, 3, 3, 3, 3, 5, 3, 3, 5, 3, 5, 5, 5, 3, 5,\n",
       "       5, 5, 3, 3, 1, 1, 3, 3, 3, 5, 5, 3, 3, 3, 3, 3, 4, 4, 4, 5, 3, 1,\n",
       "       3, 3, 5, 5, 5])"
      ]
     },
     "execution_count": 69,
     "metadata": {},
     "output_type": "execute_result"
    }
   ],
   "source": [
    "pred_job"
   ]
  },
  {
   "cell_type": "code",
   "execution_count": 70,
   "metadata": {},
   "outputs": [],
   "source": [
    "c_data_imputation_1= c_data_imputation.copy()"
   ]
  },
  {
   "cell_type": "code",
   "execution_count": 71,
   "metadata": {},
   "outputs": [],
   "source": [
    "#------------------------------------ cleaned_data -----------------------------------------------------\n",
    "# c_data_imputation[c_data_imputation['marital']=='unknown']['marital']='ppp'\n",
    "c_data_imputation_1.loc[c_data_imputation_1.job=='unknown','job'] = pred_job\n",
    "\n",
    "c_data_imputation_1.loc[c_data_imputation_1.job==0,'job'] = 'housemaid'\n",
    "c_data_imputation_1.loc[c_data_imputation_1.job==1,'job'] = 'services'\n",
    "c_data_imputation_1.loc[c_data_imputation_1.job==2,'job'] = 'admin.'\n",
    "c_data_imputation_1.loc[c_data_imputation_1.job==3,'job'] = 'blue-collar'\n",
    "c_data_imputation_1.loc[c_data_imputation_1.job==4,'job'] = 'technician'\n",
    "c_data_imputation_1.loc[c_data_imputation_1.job==5,'job'] = 'retired'\n",
    "c_data_imputation_1.loc[c_data_imputation_1.job==6,'job'] = 'management'\n",
    "c_data_imputation_1.loc[c_data_imputation_1.job==7,'job'] = 'unemployed'\n",
    "c_data_imputation_1.loc[c_data_imputation_1.job==8,'job'] = 'self-employed'\n",
    "c_data_imputation_1.loc[c_data_imputation_1.job==9,'job'] = 'entrepreneur'\n",
    "c_data_imputation_1.loc[c_data_imputation_1.job==10,'job'] = 'student'"
   ]
  },
  {
   "cell_type": "code",
   "execution_count": 72,
   "metadata": {},
   "outputs": [
    {
     "data": {
      "text/plain": [
       "0"
      ]
     },
     "execution_count": 72,
     "metadata": {},
     "output_type": "execute_result"
    }
   ],
   "source": [
    "len(c_data_imputation_1[c_data_imputation_1['job']=='unknown']['job'])"
   ]
  },
  {
   "cell_type": "code",
   "execution_count": 75,
   "metadata": {},
   "outputs": [
    {
     "data": {
      "text/plain": [
       "29       blue-collar\n",
       "35            admin.\n",
       "73       blue-collar\n",
       "91       blue-collar\n",
       "299      blue-collar\n",
       "303      blue-collar\n",
       "343      blue-collar\n",
       "388      blue-collar\n",
       "428      blue-collar\n",
       "476          retired\n",
       "483      blue-collar\n",
       "507          retired\n",
       "582      blue-collar\n",
       "584      blue-collar\n",
       "878      blue-collar\n",
       "885       technician\n",
       "961       management\n",
       "1165        services\n",
       "1181     blue-collar\n",
       "1207     blue-collar\n",
       "1229          admin.\n",
       "1271     blue-collar\n",
       "1376     blue-collar\n",
       "1671          admin.\n",
       "1680          admin.\n",
       "1860     blue-collar\n",
       "1915     blue-collar\n",
       "2010     blue-collar\n",
       "2226     blue-collar\n",
       "2287     blue-collar\n",
       "            ...     \n",
       "37928        retired\n",
       "37929    blue-collar\n",
       "38019        retired\n",
       "38020        retired\n",
       "38086        retired\n",
       "38152    blue-collar\n",
       "38153    blue-collar\n",
       "38198       services\n",
       "38199       services\n",
       "38204    blue-collar\n",
       "38532    blue-collar\n",
       "38537    blue-collar\n",
       "38697        retired\n",
       "38700        retired\n",
       "38916    blue-collar\n",
       "38966    blue-collar\n",
       "39108    blue-collar\n",
       "39146    blue-collar\n",
       "39700    blue-collar\n",
       "39771     technician\n",
       "39776     technician\n",
       "39777     technician\n",
       "39893        retired\n",
       "39993    blue-collar\n",
       "40058       services\n",
       "40208    blue-collar\n",
       "40244    blue-collar\n",
       "40428        retired\n",
       "40656        retired\n",
       "41005        retired\n",
       "Name: job, Length: 269, dtype: object"
      ]
     },
     "execution_count": 75,
     "metadata": {},
     "output_type": "execute_result"
    }
   ],
   "source": [
    "(c_data_imputation_1[data_unpruned_training['job']=='unknown']['job'])"
   ]
  },
  {
   "cell_type": "code",
   "execution_count": 76,
   "metadata": {},
   "outputs": [],
   "source": [
    "#--------------------------- Education ---------------------------------\n",
    "c_data_removed_eduacation=bank_client_data"
   ]
  },
  {
   "cell_type": "code",
   "execution_count": 77,
   "metadata": {},
   "outputs": [],
   "source": [
    "y = c_data_removed_eduacation['education']"
   ]
  },
  {
   "cell_type": "code",
   "execution_count": 78,
   "metadata": {},
   "outputs": [],
   "source": [
    "ytest=y[y=='unknown']\n",
    "ytrain=y[-(y=='unknown')]"
   ]
  },
  {
   "cell_type": "code",
   "execution_count": 79,
   "metadata": {},
   "outputs": [],
   "source": [
    "Xtest=(c_data_removed_eduacation[c_data_removed_eduacation['education']=='unknown']).drop('education', axis=1)\n",
    "Xtrain=(c_data_removed_eduacation[-(c_data_removed_eduacation['education']=='unknown')]).drop('education', axis=1)"
   ]
  },
  {
   "cell_type": "code",
   "execution_count": 80,
   "metadata": {},
   "outputs": [
    {
     "name": "stdout",
     "output_type": "stream",
     "text": [
      "Index(['job', 'marital', 'default', 'housing', 'loan'], dtype='object')\n"
     ]
    }
   ],
   "source": [
    "data_correalation(Xtrain)"
   ]
  },
  {
   "cell_type": "code",
   "execution_count": 81,
   "metadata": {},
   "outputs": [
    {
     "data": {
      "text/plain": [
       "array([0.39494024, 0.50015777, 0.03666126, 0.02428827, 0.02313933,\n",
       "       0.02081314])"
      ]
     },
     "execution_count": 81,
     "metadata": {},
     "output_type": "execute_result"
    }
   ],
   "source": [
    "from sklearn.ensemble import RandomForestClassifier\n",
    "from sklearn.datasets import make_classification\n",
    "clf = RandomForestClassifier()\n",
    "clf.fit(Xtrain, np.asarray(list(pd.factorize(ytrain)))[0])\n",
    "clf.feature_importances_"
   ]
  },
  {
   "cell_type": "code",
   "execution_count": 82,
   "metadata": {},
   "outputs": [
    {
     "data": {
      "text/plain": [
       "<BarContainer object of 6 artists>"
      ]
     },
     "execution_count": 82,
     "metadata": {},
     "output_type": "execute_result"
    },
    {
     "data": {
      "image/png": "[encoded data removed]",
      "text/plain": [
       "<Figure size 1800x864 with 1 Axes>"
      ]
     },
     "metadata": {},
     "output_type": "display_data"
    }
   ],
   "source": [
    "import matplotlib.pyplot as plt\n",
    "fig, ax = plt.subplots(figsize=(25,12))\n",
    "ax.bar(Xtrain.columns,clf.feature_importances_)"
   ]
  },
  {
   "cell_type": "code",
   "execution_count": 83,
   "metadata": {},
   "outputs": [],
   "source": [
    "#As 'age','job' have more significant performance than the other \n",
    "#independent varaibles. Hence consideriing these 3 for fitting random forest \n",
    "c=['age','job']\n",
    "Xtrain = Xtrain[c]\n",
    "Xtest = Xtest[c]"
   ]
  },
  {
   "cell_type": "code",
   "execution_count": 84,
   "metadata": {},
   "outputs": [
    {
     "data": {
      "text/plain": [
       "RandomForestClassifier(bootstrap=True, class_weight=None, criterion='gini',\n",
       "            max_depth=None, max_features='auto', max_leaf_nodes=None,\n",
       "            min_impurity_decrease=0.0, min_impurity_split=None,\n",
       "            min_samples_leaf=1, min_samples_split=2,\n",
       "            min_weight_fraction_leaf=0.0, n_estimators=10, n_jobs=1,\n",
       "            oob_score=False, random_state=None, verbose=0,\n",
       "            warm_start=False)"
      ]
     },
     "execution_count": 84,
     "metadata": {},
     "output_type": "execute_result"
    }
   ],
   "source": [
    "#Fitting RandomForest \n",
    "from sklearn.ensemble import RandomForestClassifier\n",
    "from sklearn.datasets import make_classification\n",
    "clf = RandomForestClassifier()\n",
    "clf.fit((Xtrain), np.asarray(list(pd.factorize(ytrain)))[0])"
   ]
  },
  {
   "cell_type": "code",
   "execution_count": 85,
   "metadata": {},
   "outputs": [
    {
     "name": "stdout",
     "output_type": "stream",
     "text": [
      "Index(['job'], dtype='object')\n"
     ]
    }
   ],
   "source": [
    "data_correalation(Xtest)"
   ]
  },
  {
   "cell_type": "code",
   "execution_count": 86,
   "metadata": {},
   "outputs": [],
   "source": [
    "pred_education = clf.predict((Xtest))"
   ]
  },
  {
   "cell_type": "code",
   "execution_count": 87,
   "metadata": {},
   "outputs": [
    {
     "data": {
      "text/plain": [
       "1440"
      ]
     },
     "execution_count": 87,
     "metadata": {},
     "output_type": "execute_result"
    }
   ],
   "source": [
    "len(pred_education)"
   ]
  },
  {
   "cell_type": "code",
   "execution_count": 88,
   "metadata": {},
   "outputs": [
    {
     "data": {
      "text/plain": [
       "(array([0, 1, 1, ..., 5, 4, 4]),\n",
       " Index(['basic.4y', 'high.school', 'basic.6y', 'basic.9y',\n",
       "        'professional.course', 'university.degree', 'illiterate'],\n",
       "       dtype='object'))"
      ]
     },
     "execution_count": 88,
     "metadata": {},
     "output_type": "execute_result"
    }
   ],
   "source": [
    "pd.factorize(ytrain)"
   ]
  },
  {
   "cell_type": "code",
   "execution_count": 89,
   "metadata": {},
   "outputs": [],
   "source": [
    "c_data_imputation_2= c_data_imputation_1.copy()"
   ]
  },
  {
   "cell_type": "code",
   "execution_count": 90,
   "metadata": {},
   "outputs": [],
   "source": [
    "#------------------------------------ data imputation -----------------------------------------------------\n",
    "# c_data_imputation[c_data_imputation['marital']=='unknown']['marital']='ppp'\n",
    "c_data_imputation_2.loc[c_data_imputation_2.education=='unknown','education'] = pred_education\n",
    "\n",
    "c_data_imputation_2.loc[c_data_imputation_2.education==0,'education'] = 'basic.4y'\n",
    "c_data_imputation_2.loc[c_data_imputation_2.education==1,'education'] = 'high.school'\n",
    "c_data_imputation_2.loc[c_data_imputation_2.education==2,'education'] = 'basic.6y'\n",
    "c_data_imputation_2.loc[c_data_imputation_2.education==3,'education'] = 'basic.9y'\n",
    "c_data_imputation_2.loc[c_data_imputation_2.education==4,'education'] = 'professional.course'\n",
    "c_data_imputation_2.loc[c_data_imputation_2.education==5,'education'] = 'university.degree'\n",
    "c_data_imputation_2.loc[c_data_imputation_2.education==6,'education'] = 'illiterate'\n"
   ]
  },
  {
   "cell_type": "code",
   "execution_count": 91,
   "metadata": {},
   "outputs": [
    {
     "data": {
      "text/plain": [
       "0"
      ]
     },
     "execution_count": 91,
     "metadata": {},
     "output_type": "execute_result"
    }
   ],
   "source": [
    "len(c_data_imputation_2[c_data_imputation_2['education']=='unknown']['education'])"
   ]
  },
  {
   "cell_type": "code",
   "execution_count": 94,
   "metadata": {},
   "outputs": [
    {
     "data": {
      "text/plain": [
       "7                   basic.6y\n",
       "10                  basic.6y\n",
       "30               high.school\n",
       "31         university.degree\n",
       "32                  basic.4y\n",
       "67               high.school\n",
       "73       professional.course\n",
       "78                  basic.4y\n",
       "91       professional.course\n",
       "92               high.school\n",
       "100                 basic.4y\n",
       "102                 basic.4y\n",
       "109        university.degree\n",
       "117                 basic.4y\n",
       "118              high.school\n",
       "132                 basic.4y\n",
       "151        university.degree\n",
       "154              high.school\n",
       "156                 basic.4y\n",
       "157                 basic.4y\n",
       "213                 basic.4y\n",
       "216              high.school\n",
       "217              high.school\n",
       "245              high.school\n",
       "254                 basic.9y\n",
       "258        university.degree\n",
       "288                 basic.4y\n",
       "299      professional.course\n",
       "303      professional.course\n",
       "306                 basic.4y\n",
       "                ...         \n",
       "40662      university.degree\n",
       "40711      university.degree\n",
       "40714               basic.4y\n",
       "40718               basic.4y\n",
       "40727               basic.4y\n",
       "40750            high.school\n",
       "40758      university.degree\n",
       "40800      university.degree\n",
       "40811      university.degree\n",
       "40820    professional.course\n",
       "40824      university.degree\n",
       "40855            high.school\n",
       "40888               basic.4y\n",
       "40893      university.degree\n",
       "40896      university.degree\n",
       "40908      university.degree\n",
       "40923            high.school\n",
       "40929            high.school\n",
       "40935            high.school\n",
       "41002      university.degree\n",
       "41084      university.degree\n",
       "41109      university.degree\n",
       "41110      university.degree\n",
       "41113      university.degree\n",
       "41114            high.school\n",
       "41118      university.degree\n",
       "41120            high.school\n",
       "41122      university.degree\n",
       "41135      university.degree\n",
       "41175      university.degree\n",
       "Name: education, Length: 1440, dtype: object"
      ]
     },
     "execution_count": 94,
     "metadata": {},
     "output_type": "execute_result"
    }
   ],
   "source": [
    "(c_data_imputation_2[data_unpruned_training['education']=='unknown']['education'])"
   ]
  },
  {
   "cell_type": "code",
   "execution_count": 96,
   "metadata": {},
   "outputs": [],
   "source": [
    "#--------------------------- default ---------------------------------\n",
    "c_data_removed_default=bank_client_data.copy()"
   ]
  },
  {
   "cell_type": "code",
   "execution_count": 97,
   "metadata": {},
   "outputs": [],
   "source": [
    "y = c_data_removed_default['default']"
   ]
  },
  {
   "cell_type": "code",
   "execution_count": 98,
   "metadata": {},
   "outputs": [],
   "source": [
    "ytest=y[y=='unknown']\n",
    "ytrain=y[-(y=='unknown')]"
   ]
  },
  {
   "cell_type": "code",
   "execution_count": 99,
   "metadata": {},
   "outputs": [],
   "source": [
    "Xtest=(c_data_removed_default[c_data_removed_default['default']=='unknown']).drop('default', axis=1)\n",
    "Xtrain=(c_data_removed_default[-(c_data_removed_default['default']=='unknown')]).drop('default', axis=1)"
   ]
  },
  {
   "cell_type": "code",
   "execution_count": 100,
   "metadata": {},
   "outputs": [
    {
     "name": "stdout",
     "output_type": "stream",
     "text": [
      "Index(['job', 'marital', 'education', 'housing', 'loan'], dtype='object')\n"
     ]
    }
   ],
   "source": [
    "data_correalation(Xtrain)"
   ]
  },
  {
   "cell_type": "code",
   "execution_count": 101,
   "metadata": {},
   "outputs": [
    {
     "data": {
      "text/plain": [
       "array([0.36675761, 0.30128892, 0.06250283, 0.17599688, 0.04750986,\n",
       "       0.0459439 ])"
      ]
     },
     "execution_count": 101,
     "metadata": {},
     "output_type": "execute_result"
    }
   ],
   "source": [
    "from sklearn.ensemble import RandomForestClassifier\n",
    "from sklearn.datasets import make_classification\n",
    "clf = RandomForestClassifier()\n",
    "clf.fit(Xtrain, np.asarray(list(pd.factorize(ytrain)))[0])\n",
    "clf.feature_importances_"
   ]
  },
  {
   "cell_type": "code",
   "execution_count": 102,
   "metadata": {},
   "outputs": [
    {
     "data": {
      "text/plain": [
       "<BarContainer object of 6 artists>"
      ]
     },
     "execution_count": 102,
     "metadata": {},
     "output_type": "execute_result"
    },
    {
     "data": {
      "image/png": "[encoded data removed]",
      "text/plain": [
       "<Figure size 1800x864 with 1 Axes>"
      ]
     },
     "metadata": {},
     "output_type": "display_data"
    }
   ],
   "source": [
    "import matplotlib.pyplot as plt\n",
    "fig, ax = plt.subplots(figsize=(25,12))\n",
    "ax.bar(Xtrain.columns,clf.feature_importances_)"
   ]
  },
  {
   "cell_type": "code",
   "execution_count": 103,
   "metadata": {},
   "outputs": [],
   "source": [
    "#As 'age','job','education' have more significant performance than the other \n",
    "#independent varaibles. Hence consideriing these 3 for fitting random forest \n",
    "c=['age','job','education']\n",
    "Xtrain = Xtrain[c]\n",
    "Xtest = Xtest[c]"
   ]
  },
  {
   "cell_type": "code",
   "execution_count": 104,
   "metadata": {},
   "outputs": [
    {
     "data": {
      "text/plain": [
       "RandomForestClassifier(bootstrap=True, class_weight=None, criterion='gini',\n",
       "            max_depth=None, max_features='auto', max_leaf_nodes=None,\n",
       "            min_impurity_decrease=0.0, min_impurity_split=None,\n",
       "            min_samples_leaf=1, min_samples_split=2,\n",
       "            min_weight_fraction_leaf=0.0, n_estimators=10, n_jobs=1,\n",
       "            oob_score=False, random_state=None, verbose=0,\n",
       "            warm_start=False)"
      ]
     },
     "execution_count": 104,
     "metadata": {},
     "output_type": "execute_result"
    }
   ],
   "source": [
    "#Fitting RandomForest \n",
    "from sklearn.ensemble import RandomForestClassifier\n",
    "from sklearn.datasets import make_classification\n",
    "clf = RandomForestClassifier()\n",
    "clf.fit((Xtrain), np.asarray(list(pd.factorize(ytrain)))[0])"
   ]
  },
  {
   "cell_type": "code",
   "execution_count": 105,
   "metadata": {},
   "outputs": [
    {
     "name": "stdout",
     "output_type": "stream",
     "text": [
      "Index(['job', 'education'], dtype='object')\n"
     ]
    }
   ],
   "source": [
    "data_correalation(Xtest)"
   ]
  },
  {
   "cell_type": "code",
   "execution_count": 106,
   "metadata": {},
   "outputs": [],
   "source": [
    "pred_default = clf.predict((Xtest))"
   ]
  },
  {
   "cell_type": "code",
   "execution_count": 108,
   "metadata": {},
   "outputs": [
    {
     "data": {
      "text/plain": [
       "array([0])"
      ]
     },
     "execution_count": 108,
     "metadata": {},
     "output_type": "execute_result"
    }
   ],
   "source": [
    "np.unique(pred_default)"
   ]
  },
  {
   "cell_type": "code",
   "execution_count": 109,
   "metadata": {},
   "outputs": [],
   "source": [
    "c_data_imputation_3= c_data_imputation_2.copy()"
   ]
  },
  {
   "cell_type": "code",
   "execution_count": 110,
   "metadata": {},
   "outputs": [],
   "source": [
    "#------------------------------------ data imputation -----------------------------------------------------\n",
    "# c_data_imputation[c_data_imputation['marital']=='unknown']['marital']='ppp'\n",
    "c_data_imputation_3.loc[c_data_imputation_3.default=='unknown','default'] = pred_default\n",
    "\n",
    "c_data_imputation_3.loc[c_data_imputation_3.default==0,'default'] = 'no'\n",
    "c_data_imputation_3.loc[c_data_imputation_3.default==1,'default'] = 'yes'\n"
   ]
  },
  {
   "cell_type": "code",
   "execution_count": 111,
   "metadata": {},
   "outputs": [
    {
     "data": {
      "text/plain": [
       "0"
      ]
     },
     "execution_count": 111,
     "metadata": {},
     "output_type": "execute_result"
    }
   ],
   "source": [
    "len(c_data_imputation_3[c_data_imputation_3['default']=='unknown']['default'])"
   ]
  },
  {
   "cell_type": "code",
   "execution_count": 113,
   "metadata": {},
   "outputs": [
    {
     "data": {
      "text/plain": [
       "1        no\n",
       "5        no\n",
       "7        no\n",
       "10       no\n",
       "15       no\n",
       "17       no\n",
       "19       no\n",
       "21       no\n",
       "27       no\n",
       "28       no\n",
       "29       no\n",
       "33       no\n",
       "35       no\n",
       "54       no\n",
       "55       no\n",
       "56       no\n",
       "57       no\n",
       "60       no\n",
       "62       no\n",
       "63       no\n",
       "69       no\n",
       "72       no\n",
       "73       no\n",
       "77       no\n",
       "78       no\n",
       "80       no\n",
       "81       no\n",
       "91       no\n",
       "92       no\n",
       "97       no\n",
       "         ..\n",
       "39433    no\n",
       "39475    no\n",
       "39476    no\n",
       "39477    no\n",
       "39479    no\n",
       "39622    no\n",
       "39625    no\n",
       "39734    no\n",
       "39756    no\n",
       "39792    no\n",
       "39953    no\n",
       "39967    no\n",
       "39975    no\n",
       "40001    no\n",
       "40076    no\n",
       "40101    no\n",
       "40361    no\n",
       "40393    no\n",
       "40414    no\n",
       "40445    no\n",
       "40656    no\n",
       "40673    no\n",
       "40702    no\n",
       "40714    no\n",
       "40718    no\n",
       "40727    no\n",
       "40886    no\n",
       "40940    no\n",
       "40941    no\n",
       "40986    no\n",
       "Name: default, Length: 7043, dtype: object"
      ]
     },
     "execution_count": 113,
     "metadata": {},
     "output_type": "execute_result"
    }
   ],
   "source": [
    "(c_data_imputation_3[data_unpruned_training['default']=='unknown']['default'])"
   ]
  },
  {
   "cell_type": "code",
   "execution_count": 114,
   "metadata": {},
   "outputs": [],
   "source": [
    "#--------------------------- housing ---------------------------------\n",
    "c_data_removed_housing=bank_client_data"
   ]
  },
  {
   "cell_type": "code",
   "execution_count": 115,
   "metadata": {},
   "outputs": [],
   "source": [
    "y = c_data_removed_housing['housing']"
   ]
  },
  {
   "cell_type": "code",
   "execution_count": 116,
   "metadata": {},
   "outputs": [],
   "source": [
    "ytest=y[y=='unknown']\n",
    "ytrain=y[-(y=='unknown')]"
   ]
  },
  {
   "cell_type": "code",
   "execution_count": 117,
   "metadata": {},
   "outputs": [],
   "source": [
    "Xtest=(c_data_removed_housing[c_data_removed_housing['housing']=='unknown']).drop('housing', axis=1)\n",
    "Xtrain=(c_data_removed_housing[-(c_data_removed_housing['housing']=='unknown')]).drop('housing', axis=1)"
   ]
  },
  {
   "cell_type": "code",
   "execution_count": 118,
   "metadata": {},
   "outputs": [
    {
     "name": "stdout",
     "output_type": "stream",
     "text": [
      "Index(['job', 'marital', 'education', 'default', 'loan'], dtype='object')\n"
     ]
    }
   ],
   "source": [
    "data_correalation(Xtrain)"
   ]
  },
  {
   "cell_type": "code",
   "execution_count": 119,
   "metadata": {},
   "outputs": [
    {
     "data": {
      "text/plain": [
       "array([0.65571932, 0.17198814, 0.0539989 , 0.0869343 , 0.02021475,\n",
       "       0.0111446 ])"
      ]
     },
     "execution_count": 119,
     "metadata": {},
     "output_type": "execute_result"
    }
   ],
   "source": [
    "from sklearn.ensemble import RandomForestClassifier\n",
    "from sklearn.datasets import make_classification\n",
    "clf = RandomForestClassifier()\n",
    "clf.fit(Xtrain, np.asarray(list(pd.factorize(ytrain)))[0])\n",
    "clf.feature_importances_"
   ]
  },
  {
   "cell_type": "code",
   "execution_count": 120,
   "metadata": {},
   "outputs": [
    {
     "data": {
      "text/plain": [
       "<BarContainer object of 6 artists>"
      ]
     },
     "execution_count": 120,
     "metadata": {},
     "output_type": "execute_result"
    },
    {
     "data": {
      "image/png": "[encoded data removed]",
      "text/plain": [
       "<Figure size 1800x864 with 1 Axes>"
      ]
     },
     "metadata": {},
     "output_type": "display_data"
    }
   ],
   "source": [
    "import matplotlib.pyplot as plt\n",
    "fig, ax = plt.subplots(figsize=(25,12))\n",
    "ax.bar(Xtrain.columns,clf.feature_importances_)"
   ]
  },
  {
   "cell_type": "code",
   "execution_count": 121,
   "metadata": {},
   "outputs": [],
   "source": [
    "#As 'age','job','education' have more significant performance than the other \n",
    "#independent varaibles. Hence consideriing these 3 for fitting random forest \n",
    "c=['age','job','education']\n",
    "Xtrain = Xtrain[c]\n",
    "Xtest = Xtest[c]"
   ]
  },
  {
   "cell_type": "code",
   "execution_count": 122,
   "metadata": {},
   "outputs": [
    {
     "data": {
      "text/plain": [
       "RandomForestClassifier(bootstrap=True, class_weight=None, criterion='gini',\n",
       "            max_depth=None, max_features='auto', max_leaf_nodes=None,\n",
       "            min_impurity_decrease=0.0, min_impurity_split=None,\n",
       "            min_samples_leaf=1, min_samples_split=2,\n",
       "            min_weight_fraction_leaf=0.0, n_estimators=10, n_jobs=1,\n",
       "            oob_score=False, random_state=None, verbose=0,\n",
       "            warm_start=False)"
      ]
     },
     "execution_count": 122,
     "metadata": {},
     "output_type": "execute_result"
    }
   ],
   "source": [
    "#Fitting RandomForest \n",
    "from sklearn.ensemble import RandomForestClassifier\n",
    "from sklearn.datasets import make_classification\n",
    "clf = RandomForestClassifier()\n",
    "clf.fit((Xtrain), np.asarray(list(pd.factorize(ytrain)))[0])"
   ]
  },
  {
   "cell_type": "code",
   "execution_count": 123,
   "metadata": {},
   "outputs": [
    {
     "name": "stdout",
     "output_type": "stream",
     "text": [
      "Index(['job', 'education'], dtype='object')\n"
     ]
    }
   ],
   "source": [
    "data_correalation(Xtest)"
   ]
  },
  {
   "cell_type": "code",
   "execution_count": 124,
   "metadata": {},
   "outputs": [],
   "source": [
    "pred_housing = clf.predict((Xtest))"
   ]
  },
  {
   "cell_type": "code",
   "execution_count": 125,
   "metadata": {},
   "outputs": [
    {
     "data": {
      "text/plain": [
       "848"
      ]
     },
     "execution_count": 125,
     "metadata": {},
     "output_type": "execute_result"
    }
   ],
   "source": [
    "len(pred_housing)"
   ]
  },
  {
   "cell_type": "code",
   "execution_count": 126,
   "metadata": {},
   "outputs": [
    {
     "data": {
      "text/plain": [
       "(array([0, 0, 1, ..., 1, 0, 1]), Index(['no', 'yes'], dtype='object'))"
      ]
     },
     "execution_count": 126,
     "metadata": {},
     "output_type": "execute_result"
    }
   ],
   "source": [
    "pd.factorize(ytrain)"
   ]
  },
  {
   "cell_type": "code",
   "execution_count": 127,
   "metadata": {},
   "outputs": [],
   "source": [
    "c_data_imputation_4= c_data_imputation_3.copy()"
   ]
  },
  {
   "cell_type": "code",
   "execution_count": 128,
   "metadata": {},
   "outputs": [],
   "source": [
    "#------------------------------------ data imputation -----------------------------------------------------\n",
    "# c_data_imputation[c_data_imputation['marital']=='unknown']['marital']='ppp'\n",
    "c_data_imputation_4.loc[c_data_imputation_4.housing=='unknown','housing'] = pred_housing\n",
    "\n",
    "c_data_imputation_4.loc[c_data_imputation_4.housing==0,'housing'] = 'no'\n",
    "c_data_imputation_4.loc[c_data_imputation_4.housing==1,'housing'] = 'yes'\n"
   ]
  },
  {
   "cell_type": "code",
   "execution_count": 129,
   "metadata": {},
   "outputs": [
    {
     "data": {
      "text/plain": [
       "0"
      ]
     },
     "execution_count": 129,
     "metadata": {},
     "output_type": "execute_result"
    }
   ],
   "source": [
    "len(c_data_imputation_4[c_data_imputation_4['housing']=='unknown']['housing'])"
   ]
  },
  {
   "cell_type": "code",
   "execution_count": 132,
   "metadata": {},
   "outputs": [
    {
     "data": {
      "text/plain": [
       "29        no\n",
       "81       yes\n",
       "261       no\n",
       "385      yes\n",
       "401      yes\n",
       "470      yes\n",
       "485      yes\n",
       "494       no\n",
       "495      yes\n",
       "520      yes\n",
       "549      yes\n",
       "564      yes\n",
       "569      yes\n",
       "570      yes\n",
       "571      yes\n",
       "593       no\n",
       "640       no\n",
       "663      yes\n",
       "768      yes\n",
       "770      yes\n",
       "783       no\n",
       "790       no\n",
       "814      yes\n",
       "903      yes\n",
       "941       no\n",
       "975      yes\n",
       "991      yes\n",
       "1004      no\n",
       "1024      no\n",
       "1033     yes\n",
       "        ... \n",
       "39870     no\n",
       "40027    yes\n",
       "40062     no\n",
       "40098     no\n",
       "40273     no\n",
       "40279    yes\n",
       "40316    yes\n",
       "40367     no\n",
       "40427    yes\n",
       "40430    yes\n",
       "40491    yes\n",
       "40530     no\n",
       "40607    yes\n",
       "40608    yes\n",
       "40609    yes\n",
       "40627     no\n",
       "40658    yes\n",
       "40661     no\n",
       "40725    yes\n",
       "40732     no\n",
       "40764     no\n",
       "40792    yes\n",
       "40832     no\n",
       "40875     no\n",
       "40895    yes\n",
       "40941     no\n",
       "40990     no\n",
       "41014    yes\n",
       "41015    yes\n",
       "41115    yes\n",
       "Name: housing, Length: 848, dtype: object"
      ]
     },
     "execution_count": 132,
     "metadata": {},
     "output_type": "execute_result"
    }
   ],
   "source": [
    "((c_data_imputation_4[data_unpruned_training['housing']=='unknown']['housing']))"
   ]
  },
  {
   "cell_type": "code",
   "execution_count": 133,
   "metadata": {},
   "outputs": [],
   "source": [
    "#--------------------------- loan ---------------------------------\n",
    "c_data_removed_loan=bank_client_data.copy()"
   ]
  },
  {
   "cell_type": "code",
   "execution_count": 134,
   "metadata": {},
   "outputs": [],
   "source": [
    "y = c_data_removed_loan['loan']"
   ]
  },
  {
   "cell_type": "code",
   "execution_count": 135,
   "metadata": {},
   "outputs": [],
   "source": [
    "ytest=y[y=='unknown']\n",
    "ytrain=y[-(y=='unknown')]"
   ]
  },
  {
   "cell_type": "code",
   "execution_count": 136,
   "metadata": {},
   "outputs": [],
   "source": [
    "Xtest=(c_data_removed_loan[c_data_removed_loan['loan']=='unknown']).drop('loan', axis=1)\n",
    "Xtrain=(c_data_removed_loan[-(c_data_removed_loan['loan']=='unknown')]).drop('loan', axis=1)"
   ]
  },
  {
   "cell_type": "code",
   "execution_count": 137,
   "metadata": {},
   "outputs": [
    {
     "name": "stdout",
     "output_type": "stream",
     "text": [
      "Index(['job', 'marital', 'education', 'default', 'housing'], dtype='object')\n"
     ]
    }
   ],
   "source": [
    "data_correalation(Xtrain)"
   ]
  },
  {
   "cell_type": "code",
   "execution_count": 138,
   "metadata": {},
   "outputs": [
    {
     "data": {
      "text/plain": [
       "array([0.576155  , 0.18029441, 0.06300146, 0.1347047 , 0.03075391,\n",
       "       0.01509051])"
      ]
     },
     "execution_count": 138,
     "metadata": {},
     "output_type": "execute_result"
    }
   ],
   "source": [
    "from sklearn.ensemble import RandomForestClassifier\n",
    "from sklearn.datasets import make_classification\n",
    "clf = RandomForestClassifier()\n",
    "clf.fit(Xtrain, np.asarray(list(pd.factorize(ytrain)))[0])\n",
    "clf.feature_importances_"
   ]
  },
  {
   "cell_type": "code",
   "execution_count": 139,
   "metadata": {},
   "outputs": [
    {
     "data": {
      "text/plain": [
       "<BarContainer object of 6 artists>"
      ]
     },
     "execution_count": 139,
     "metadata": {},
     "output_type": "execute_result"
    },
    {
     "data": {
      "image/png": "[encoded data removed]",
      "text/plain": [
       "<Figure size 1800x864 with 1 Axes>"
      ]
     },
     "metadata": {},
     "output_type": "display_data"
    }
   ],
   "source": [
    "import matplotlib.pyplot as plt\n",
    "fig, ax = plt.subplots(figsize=(25,12))\n",
    "ax.bar(Xtrain.columns,clf.feature_importances_)"
   ]
  },
  {
   "cell_type": "code",
   "execution_count": 140,
   "metadata": {},
   "outputs": [],
   "source": [
    "#As 'age','job','education' have more significant performance than the other \n",
    "#independent varaibles. Hence consideriing these 3 for fitting random forest \n",
    "c=['age','job','education']\n",
    "Xtrain = Xtrain[c]\n",
    "Xtest = Xtest[c]"
   ]
  },
  {
   "cell_type": "code",
   "execution_count": 141,
   "metadata": {},
   "outputs": [
    {
     "data": {
      "text/plain": [
       "RandomForestClassifier(bootstrap=True, class_weight=None, criterion='gini',\n",
       "            max_depth=None, max_features='auto', max_leaf_nodes=None,\n",
       "            min_impurity_decrease=0.0, min_impurity_split=None,\n",
       "            min_samples_leaf=1, min_samples_split=2,\n",
       "            min_weight_fraction_leaf=0.0, n_estimators=10, n_jobs=1,\n",
       "            oob_score=False, random_state=None, verbose=0,\n",
       "            warm_start=False)"
      ]
     },
     "execution_count": 141,
     "metadata": {},
     "output_type": "execute_result"
    }
   ],
   "source": [
    "#Fitting RandomForest \n",
    "from sklearn.ensemble import RandomForestClassifier\n",
    "from sklearn.datasets import make_classification\n",
    "clf = RandomForestClassifier()\n",
    "clf.fit((Xtrain), np.asarray(list(pd.factorize(ytrain)))[0])"
   ]
  },
  {
   "cell_type": "code",
   "execution_count": 142,
   "metadata": {},
   "outputs": [
    {
     "name": "stdout",
     "output_type": "stream",
     "text": [
      "Index(['job', 'education'], dtype='object')\n"
     ]
    }
   ],
   "source": [
    "data_correalation(Xtest)"
   ]
  },
  {
   "cell_type": "code",
   "execution_count": 143,
   "metadata": {},
   "outputs": [],
   "source": [
    "pred_loan = clf.predict((Xtest))"
   ]
  },
  {
   "cell_type": "code",
   "execution_count": 144,
   "metadata": {},
   "outputs": [
    {
     "data": {
      "text/plain": [
       "848"
      ]
     },
     "execution_count": 144,
     "metadata": {},
     "output_type": "execute_result"
    }
   ],
   "source": [
    "len(pred_loan)"
   ]
  },
  {
   "cell_type": "code",
   "execution_count": 145,
   "metadata": {},
   "outputs": [
    {
     "data": {
      "text/plain": [
       "(array([0, 0, 0, ..., 0, 0, 0]), Index(['no', 'yes'], dtype='object'))"
      ]
     },
     "execution_count": 145,
     "metadata": {},
     "output_type": "execute_result"
    }
   ],
   "source": [
    "pd.factorize(ytrain)"
   ]
  },
  {
   "cell_type": "code",
   "execution_count": 146,
   "metadata": {},
   "outputs": [],
   "source": [
    "c_data_imputation_5= c_data_imputation_4.copy()"
   ]
  },
  {
   "cell_type": "code",
   "execution_count": 147,
   "metadata": {},
   "outputs": [],
   "source": [
    "#------------------------------------ data imputation -----------------------------------------------------\n",
    "# c_data_imputation[c_data_imputation['marital']=='unknown']['marital']='ppp'\n",
    "c_data_imputation_5.loc[c_data_imputation_5.loan=='unknown','loan'] = pred_loan\n",
    "\n",
    "c_data_imputation_5.loc[c_data_imputation_5.loan==0,'loan'] = 'no'\n",
    "c_data_imputation_5.loc[c_data_imputation_5.loan==1,'loan'] = 'yes'\n"
   ]
  },
  {
   "cell_type": "code",
   "execution_count": 148,
   "metadata": {},
   "outputs": [
    {
     "data": {
      "text/plain": [
       "0"
      ]
     },
     "execution_count": 148,
     "metadata": {},
     "output_type": "execute_result"
    }
   ],
   "source": [
    "len(c_data_imputation_5[c_data_imputation_5['loan']=='unknown']['loan'])"
   ]
  },
  {
   "cell_type": "code",
   "execution_count": 150,
   "metadata": {
    "scrolled": true
   },
   "outputs": [
    {
     "data": {
      "text/plain": [
       "29        no\n",
       "81        no\n",
       "261       no\n",
       "385       no\n",
       "401       no\n",
       "470       no\n",
       "485       no\n",
       "494       no\n",
       "495       no\n",
       "520       no\n",
       "549       no\n",
       "564       no\n",
       "569       no\n",
       "570       no\n",
       "571       no\n",
       "593       no\n",
       "640       no\n",
       "663       no\n",
       "768       no\n",
       "770       no\n",
       "783       no\n",
       "790       no\n",
       "814       no\n",
       "903       no\n",
       "941      yes\n",
       "975       no\n",
       "991       no\n",
       "1004     yes\n",
       "1024      no\n",
       "1033      no\n",
       "        ... \n",
       "39870     no\n",
       "40027     no\n",
       "40062     no\n",
       "40098     no\n",
       "40273     no\n",
       "40279     no\n",
       "40316     no\n",
       "40367    yes\n",
       "40427     no\n",
       "40430     no\n",
       "40491     no\n",
       "40530     no\n",
       "40607     no\n",
       "40608     no\n",
       "40609     no\n",
       "40627     no\n",
       "40658     no\n",
       "40661     no\n",
       "40725     no\n",
       "40732     no\n",
       "40764     no\n",
       "40792     no\n",
       "40832     no\n",
       "40875     no\n",
       "40895     no\n",
       "40941     no\n",
       "40990     no\n",
       "41014     no\n",
       "41015     no\n",
       "41115     no\n",
       "Name: loan, Length: 848, dtype: object"
      ]
     },
     "execution_count": 150,
     "metadata": {},
     "output_type": "execute_result"
    }
   ],
   "source": [
    "((c_data_imputation_5[data_unpruned_training['loan']=='unknown']['loan']))"
   ]
  },
  {
   "cell_type": "code",
   "execution_count": 152,
   "metadata": {
    "scrolled": true
   },
   "outputs": [
    {
     "data": {
      "text/plain": [
       "29        no\n",
       "81        no\n",
       "261       no\n",
       "385       no\n",
       "401       no\n",
       "470       no\n",
       "485       no\n",
       "494       no\n",
       "495       no\n",
       "520       no\n",
       "549       no\n",
       "564       no\n",
       "569       no\n",
       "570       no\n",
       "571       no\n",
       "593       no\n",
       "640       no\n",
       "663       no\n",
       "768       no\n",
       "770       no\n",
       "783       no\n",
       "790       no\n",
       "814       no\n",
       "903       no\n",
       "941      yes\n",
       "975       no\n",
       "991       no\n",
       "1004     yes\n",
       "1024      no\n",
       "1033      no\n",
       "        ... \n",
       "39870     no\n",
       "40027     no\n",
       "40062     no\n",
       "40098     no\n",
       "40273     no\n",
       "40279     no\n",
       "40316     no\n",
       "40367    yes\n",
       "40427     no\n",
       "40430     no\n",
       "40491     no\n",
       "40530     no\n",
       "40607     no\n",
       "40608     no\n",
       "40609     no\n",
       "40627     no\n",
       "40658     no\n",
       "40661     no\n",
       "40725     no\n",
       "40732     no\n",
       "40764     no\n",
       "40792     no\n",
       "40832     no\n",
       "40875     no\n",
       "40895     no\n",
       "40941     no\n",
       "40990     no\n",
       "41014     no\n",
       "41015     no\n",
       "41115     no\n",
       "Name: loan, Length: 848, dtype: object"
      ]
     },
     "execution_count": 152,
     "metadata": {},
     "output_type": "execute_result"
    }
   ],
   "source": [
    "#Checking the imputation\n",
    "((c_data_imputation_5[data_unpruned_training['loan']=='unknown']['loan']))"
   ]
  },
  {
   "cell_type": "code",
   "execution_count": 153,
   "metadata": {
    "scrolled": true
   },
   "outputs": [
    {
     "data": {
      "text/plain": [
       "29        no\n",
       "81       yes\n",
       "261       no\n",
       "385      yes\n",
       "401      yes\n",
       "470      yes\n",
       "485      yes\n",
       "494       no\n",
       "495      yes\n",
       "520      yes\n",
       "549      yes\n",
       "564      yes\n",
       "569      yes\n",
       "570      yes\n",
       "571      yes\n",
       "593       no\n",
       "640       no\n",
       "663      yes\n",
       "768      yes\n",
       "770      yes\n",
       "783       no\n",
       "790       no\n",
       "814      yes\n",
       "903      yes\n",
       "941       no\n",
       "975      yes\n",
       "991      yes\n",
       "1004      no\n",
       "1024      no\n",
       "1033     yes\n",
       "        ... \n",
       "39870     no\n",
       "40027    yes\n",
       "40062     no\n",
       "40098     no\n",
       "40273     no\n",
       "40279    yes\n",
       "40316    yes\n",
       "40367     no\n",
       "40427    yes\n",
       "40430    yes\n",
       "40491    yes\n",
       "40530     no\n",
       "40607    yes\n",
       "40608    yes\n",
       "40609    yes\n",
       "40627     no\n",
       "40658    yes\n",
       "40661     no\n",
       "40725    yes\n",
       "40732     no\n",
       "40764     no\n",
       "40792    yes\n",
       "40832     no\n",
       "40875     no\n",
       "40895    yes\n",
       "40941     no\n",
       "40990     no\n",
       "41014    yes\n",
       "41015    yes\n",
       "41115    yes\n",
       "Name: housing, Length: 848, dtype: object"
      ]
     },
     "execution_count": 153,
     "metadata": {},
     "output_type": "execute_result"
    }
   ],
   "source": [
    "((c_data_imputation_5[data_unpruned_training['housing']=='unknown']['housing']))"
   ]
  },
  {
   "cell_type": "code",
   "execution_count": 154,
   "metadata": {
    "scrolled": true
   },
   "outputs": [
    {
     "data": {
      "text/plain": [
       "1        no\n",
       "5        no\n",
       "7        no\n",
       "10       no\n",
       "15       no\n",
       "17       no\n",
       "19       no\n",
       "21       no\n",
       "27       no\n",
       "28       no\n",
       "29       no\n",
       "33       no\n",
       "35       no\n",
       "54       no\n",
       "55       no\n",
       "56       no\n",
       "57       no\n",
       "60       no\n",
       "62       no\n",
       "63       no\n",
       "69       no\n",
       "72       no\n",
       "73       no\n",
       "77       no\n",
       "78       no\n",
       "80       no\n",
       "81       no\n",
       "91       no\n",
       "92       no\n",
       "97       no\n",
       "         ..\n",
       "39433    no\n",
       "39475    no\n",
       "39476    no\n",
       "39477    no\n",
       "39479    no\n",
       "39622    no\n",
       "39625    no\n",
       "39734    no\n",
       "39756    no\n",
       "39792    no\n",
       "39953    no\n",
       "39967    no\n",
       "39975    no\n",
       "40001    no\n",
       "40076    no\n",
       "40101    no\n",
       "40361    no\n",
       "40393    no\n",
       "40414    no\n",
       "40445    no\n",
       "40656    no\n",
       "40673    no\n",
       "40702    no\n",
       "40714    no\n",
       "40718    no\n",
       "40727    no\n",
       "40886    no\n",
       "40940    no\n",
       "40941    no\n",
       "40986    no\n",
       "Name: default, Length: 7043, dtype: object"
      ]
     },
     "execution_count": 154,
     "metadata": {},
     "output_type": "execute_result"
    }
   ],
   "source": [
    "(c_data_imputation_5[data_unpruned_training['default']=='unknown']['default'])"
   ]
  },
  {
   "cell_type": "code",
   "execution_count": 155,
   "metadata": {
    "scrolled": true
   },
   "outputs": [
    {
     "data": {
      "text/plain": [
       "7                   basic.6y\n",
       "10                  basic.6y\n",
       "30               high.school\n",
       "31         university.degree\n",
       "32                  basic.4y\n",
       "67               high.school\n",
       "73       professional.course\n",
       "78                  basic.4y\n",
       "91       professional.course\n",
       "92               high.school\n",
       "100                 basic.4y\n",
       "102                 basic.4y\n",
       "109        university.degree\n",
       "117                 basic.4y\n",
       "118              high.school\n",
       "132                 basic.4y\n",
       "151        university.degree\n",
       "154              high.school\n",
       "156                 basic.4y\n",
       "157                 basic.4y\n",
       "213                 basic.4y\n",
       "216              high.school\n",
       "217              high.school\n",
       "245              high.school\n",
       "254                 basic.9y\n",
       "258        university.degree\n",
       "288                 basic.4y\n",
       "299      professional.course\n",
       "303      professional.course\n",
       "306                 basic.4y\n",
       "                ...         \n",
       "40662      university.degree\n",
       "40711      university.degree\n",
       "40714               basic.4y\n",
       "40718               basic.4y\n",
       "40727               basic.4y\n",
       "40750            high.school\n",
       "40758      university.degree\n",
       "40800      university.degree\n",
       "40811      university.degree\n",
       "40820    professional.course\n",
       "40824      university.degree\n",
       "40855            high.school\n",
       "40888               basic.4y\n",
       "40893      university.degree\n",
       "40896      university.degree\n",
       "40908      university.degree\n",
       "40923            high.school\n",
       "40929            high.school\n",
       "40935            high.school\n",
       "41002      university.degree\n",
       "41084      university.degree\n",
       "41109      university.degree\n",
       "41110      university.degree\n",
       "41113      university.degree\n",
       "41114            high.school\n",
       "41118      university.degree\n",
       "41120            high.school\n",
       "41122      university.degree\n",
       "41135      university.degree\n",
       "41175      university.degree\n",
       "Name: education, Length: 1440, dtype: object"
      ]
     },
     "execution_count": 155,
     "metadata": {},
     "output_type": "execute_result"
    }
   ],
   "source": [
    "(c_data_imputation_5[data_unpruned_training['education']=='unknown']['education'])"
   ]
  },
  {
   "cell_type": "code",
   "execution_count": 156,
   "metadata": {
    "scrolled": true
   },
   "outputs": [
    {
     "data": {
      "text/plain": [
       "29       blue-collar\n",
       "35            admin.\n",
       "73       blue-collar\n",
       "91       blue-collar\n",
       "299      blue-collar\n",
       "303      blue-collar\n",
       "343      blue-collar\n",
       "388      blue-collar\n",
       "428      blue-collar\n",
       "476          retired\n",
       "483      blue-collar\n",
       "507          retired\n",
       "582      blue-collar\n",
       "584      blue-collar\n",
       "878      blue-collar\n",
       "885       technician\n",
       "961       management\n",
       "1165        services\n",
       "1181     blue-collar\n",
       "1207     blue-collar\n",
       "1229          admin.\n",
       "1271     blue-collar\n",
       "1376     blue-collar\n",
       "1671          admin.\n",
       "1680          admin.\n",
       "1860     blue-collar\n",
       "1915     blue-collar\n",
       "2010     blue-collar\n",
       "2226     blue-collar\n",
       "2287     blue-collar\n",
       "            ...     \n",
       "37928        retired\n",
       "37929    blue-collar\n",
       "38019        retired\n",
       "38020        retired\n",
       "38086        retired\n",
       "38152    blue-collar\n",
       "38153    blue-collar\n",
       "38198       services\n",
       "38199       services\n",
       "38204    blue-collar\n",
       "38532    blue-collar\n",
       "38537    blue-collar\n",
       "38697        retired\n",
       "38700        retired\n",
       "38916    blue-collar\n",
       "38966    blue-collar\n",
       "39108    blue-collar\n",
       "39146    blue-collar\n",
       "39700    blue-collar\n",
       "39771     technician\n",
       "39776     technician\n",
       "39777     technician\n",
       "39893        retired\n",
       "39993    blue-collar\n",
       "40058       services\n",
       "40208    blue-collar\n",
       "40244    blue-collar\n",
       "40428        retired\n",
       "40656        retired\n",
       "41005        retired\n",
       "Name: job, Length: 269, dtype: object"
      ]
     },
     "execution_count": 156,
     "metadata": {},
     "output_type": "execute_result"
    }
   ],
   "source": [
    "(c_data_imputation_5[data_unpruned_training['job']=='unknown']['job'])"
   ]
  },
  {
   "cell_type": "code",
   "execution_count": 157,
   "metadata": {},
   "outputs": [
    {
     "data": {
      "text/plain": [
       "64"
      ]
     },
     "execution_count": 157,
     "metadata": {},
     "output_type": "execute_result"
    }
   ],
   "source": [
    "len(c_data_imputation_5[data_unpruned_training['marital']=='unknown']['marital'])"
   ]
  },
  {
   "cell_type": "code",
   "execution_count": 158,
   "metadata": {},
   "outputs": [],
   "source": [
    "c_data_imputation_5.to_csv('unprunued_imputed_data_training_data.csv')"
   ]
  },
  {
   "cell_type": "code",
   "execution_count": null,
   "metadata": {},
   "outputs": [],
   "source": []
  }
 ],
 "metadata": {
  "kernelspec": {
   "display_name": "Python 3",
   "language": "python",
   "name": "python3"
  },
  "language_info": {
   "codemirror_mode": {
    "name": "ipython",
    "version": 3
   },
   "file_extension": ".py",
   "mimetype": "text/x-python",
   "name": "python",
   "nbconvert_exporter": "python",
   "pygments_lexer": "ipython3",
   "version": "3.6.5"
  }
 },
 "nbformat": 4,
 "nbformat_minor": 2
}
