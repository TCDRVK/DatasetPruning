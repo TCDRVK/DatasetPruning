{
 "cells": [
  {
   "cell_type": "code",
   "execution_count": null,
   "metadata": {},
   "outputs": [],
   "source": [
    "from sklearn.linear_model import SGDRegressor\n",
    "import pandas as pd\n",
    "import numpy as np\n",
    "from sklearn.model_selection import train_test_split\n",
    "from sklearn.cluster import DBSCAN\n",
    "from sklearn import svm"
   ]
  },
  {
   "cell_type": "code",
   "execution_count": 2,
   "metadata": {
    "scrolled": true
   },
   "outputs": [
    {
     "data": {
      "text/html": [
       "<div>\n",
       "<style scoped>\n",
       "    .dataframe tbody tr th:only-of-type {\n",
       "        vertical-align: middle;\n",
       "    }\n",
       "\n",
       "    .dataframe tbody tr th {\n",
       "        vertical-align: top;\n",
       "    }\n",
       "\n",
       "    .dataframe thead th {\n",
       "        text-align: right;\n",
       "    }\n",
       "</style>\n",
       "<table border=\"1\" class=\"dataframe\">\n",
       "  <thead>\n",
       "    <tr style=\"text-align: right;\">\n",
       "      <th></th>\n",
       "      <th>age</th>\n",
       "      <th>job</th>\n",
       "      <th>marital</th>\n",
       "      <th>education</th>\n",
       "      <th>default</th>\n",
       "      <th>housing</th>\n",
       "      <th>loan</th>\n",
       "      <th>contact</th>\n",
       "      <th>month</th>\n",
       "      <th>day_of_week</th>\n",
       "      <th>...</th>\n",
       "      <th>pdays</th>\n",
       "      <th>previous</th>\n",
       "      <th>poutcome</th>\n",
       "      <th>emp.var.rate</th>\n",
       "      <th>cons.price.idx</th>\n",
       "      <th>cons.conf.idx</th>\n",
       "      <th>euribor3m</th>\n",
       "      <th>nr.employed</th>\n",
       "      <th>y</th>\n",
       "      <th>id</th>\n",
       "    </tr>\n",
       "  </thead>\n",
       "  <tbody>\n",
       "    <tr>\n",
       "      <th>0</th>\n",
       "      <td>56</td>\n",
       "      <td>housemaid</td>\n",
       "      <td>married</td>\n",
       "      <td>basic.4y</td>\n",
       "      <td>no</td>\n",
       "      <td>no</td>\n",
       "      <td>no</td>\n",
       "      <td>telephone</td>\n",
       "      <td>may</td>\n",
       "      <td>mon</td>\n",
       "      <td>...</td>\n",
       "      <td>999</td>\n",
       "      <td>0</td>\n",
       "      <td>nonexistent</td>\n",
       "      <td>1.1</td>\n",
       "      <td>93.994</td>\n",
       "      <td>-36.4</td>\n",
       "      <td>4.857</td>\n",
       "      <td>5191.0</td>\n",
       "      <td>no</td>\n",
       "      <td>0</td>\n",
       "    </tr>\n",
       "    <tr>\n",
       "      <th>1</th>\n",
       "      <td>57</td>\n",
       "      <td>services</td>\n",
       "      <td>married</td>\n",
       "      <td>high.school</td>\n",
       "      <td>unknown</td>\n",
       "      <td>no</td>\n",
       "      <td>no</td>\n",
       "      <td>telephone</td>\n",
       "      <td>may</td>\n",
       "      <td>mon</td>\n",
       "      <td>...</td>\n",
       "      <td>999</td>\n",
       "      <td>0</td>\n",
       "      <td>nonexistent</td>\n",
       "      <td>1.1</td>\n",
       "      <td>93.994</td>\n",
       "      <td>-36.4</td>\n",
       "      <td>4.857</td>\n",
       "      <td>5191.0</td>\n",
       "      <td>no</td>\n",
       "      <td>1</td>\n",
       "    </tr>\n",
       "    <tr>\n",
       "      <th>2</th>\n",
       "      <td>37</td>\n",
       "      <td>services</td>\n",
       "      <td>married</td>\n",
       "      <td>high.school</td>\n",
       "      <td>no</td>\n",
       "      <td>yes</td>\n",
       "      <td>no</td>\n",
       "      <td>telephone</td>\n",
       "      <td>may</td>\n",
       "      <td>mon</td>\n",
       "      <td>...</td>\n",
       "      <td>999</td>\n",
       "      <td>0</td>\n",
       "      <td>nonexistent</td>\n",
       "      <td>1.1</td>\n",
       "      <td>93.994</td>\n",
       "      <td>-36.4</td>\n",
       "      <td>4.857</td>\n",
       "      <td>5191.0</td>\n",
       "      <td>no</td>\n",
       "      <td>2</td>\n",
       "    </tr>\n",
       "    <tr>\n",
       "      <th>3</th>\n",
       "      <td>40</td>\n",
       "      <td>admin.</td>\n",
       "      <td>married</td>\n",
       "      <td>basic.6y</td>\n",
       "      <td>no</td>\n",
       "      <td>no</td>\n",
       "      <td>no</td>\n",
       "      <td>telephone</td>\n",
       "      <td>may</td>\n",
       "      <td>mon</td>\n",
       "      <td>...</td>\n",
       "      <td>999</td>\n",
       "      <td>0</td>\n",
       "      <td>nonexistent</td>\n",
       "      <td>1.1</td>\n",
       "      <td>93.994</td>\n",
       "      <td>-36.4</td>\n",
       "      <td>4.857</td>\n",
       "      <td>5191.0</td>\n",
       "      <td>no</td>\n",
       "      <td>3</td>\n",
       "    </tr>\n",
       "    <tr>\n",
       "      <th>4</th>\n",
       "      <td>56</td>\n",
       "      <td>services</td>\n",
       "      <td>married</td>\n",
       "      <td>high.school</td>\n",
       "      <td>no</td>\n",
       "      <td>no</td>\n",
       "      <td>yes</td>\n",
       "      <td>telephone</td>\n",
       "      <td>may</td>\n",
       "      <td>mon</td>\n",
       "      <td>...</td>\n",
       "      <td>999</td>\n",
       "      <td>0</td>\n",
       "      <td>nonexistent</td>\n",
       "      <td>1.1</td>\n",
       "      <td>93.994</td>\n",
       "      <td>-36.4</td>\n",
       "      <td>4.857</td>\n",
       "      <td>5191.0</td>\n",
       "      <td>no</td>\n",
       "      <td>4</td>\n",
       "    </tr>\n",
       "    <tr>\n",
       "      <th>5</th>\n",
       "      <td>45</td>\n",
       "      <td>services</td>\n",
       "      <td>married</td>\n",
       "      <td>basic.9y</td>\n",
       "      <td>unknown</td>\n",
       "      <td>no</td>\n",
       "      <td>no</td>\n",
       "      <td>telephone</td>\n",
       "      <td>may</td>\n",
       "      <td>mon</td>\n",
       "      <td>...</td>\n",
       "      <td>999</td>\n",
       "      <td>0</td>\n",
       "      <td>nonexistent</td>\n",
       "      <td>1.1</td>\n",
       "      <td>93.994</td>\n",
       "      <td>-36.4</td>\n",
       "      <td>4.857</td>\n",
       "      <td>5191.0</td>\n",
       "      <td>no</td>\n",
       "      <td>5</td>\n",
       "    </tr>\n",
       "    <tr>\n",
       "      <th>6</th>\n",
       "      <td>59</td>\n",
       "      <td>admin.</td>\n",
       "      <td>married</td>\n",
       "      <td>professional.course</td>\n",
       "      <td>no</td>\n",
       "      <td>no</td>\n",
       "      <td>no</td>\n",
       "      <td>telephone</td>\n",
       "      <td>may</td>\n",
       "      <td>mon</td>\n",
       "      <td>...</td>\n",
       "      <td>999</td>\n",
       "      <td>0</td>\n",
       "      <td>nonexistent</td>\n",
       "      <td>1.1</td>\n",
       "      <td>93.994</td>\n",
       "      <td>-36.4</td>\n",
       "      <td>4.857</td>\n",
       "      <td>5191.0</td>\n",
       "      <td>no</td>\n",
       "      <td>6</td>\n",
       "    </tr>\n",
       "    <tr>\n",
       "      <th>7</th>\n",
       "      <td>41</td>\n",
       "      <td>blue-collar</td>\n",
       "      <td>married</td>\n",
       "      <td>unknown</td>\n",
       "      <td>unknown</td>\n",
       "      <td>no</td>\n",
       "      <td>no</td>\n",
       "      <td>telephone</td>\n",
       "      <td>may</td>\n",
       "      <td>mon</td>\n",
       "      <td>...</td>\n",
       "      <td>999</td>\n",
       "      <td>0</td>\n",
       "      <td>nonexistent</td>\n",
       "      <td>1.1</td>\n",
       "      <td>93.994</td>\n",
       "      <td>-36.4</td>\n",
       "      <td>4.857</td>\n",
       "      <td>5191.0</td>\n",
       "      <td>no</td>\n",
       "      <td>7</td>\n",
       "    </tr>\n",
       "    <tr>\n",
       "      <th>8</th>\n",
       "      <td>24</td>\n",
       "      <td>technician</td>\n",
       "      <td>single</td>\n",
       "      <td>professional.course</td>\n",
       "      <td>no</td>\n",
       "      <td>yes</td>\n",
       "      <td>no</td>\n",
       "      <td>telephone</td>\n",
       "      <td>may</td>\n",
       "      <td>mon</td>\n",
       "      <td>...</td>\n",
       "      <td>999</td>\n",
       "      <td>0</td>\n",
       "      <td>nonexistent</td>\n",
       "      <td>1.1</td>\n",
       "      <td>93.994</td>\n",
       "      <td>-36.4</td>\n",
       "      <td>4.857</td>\n",
       "      <td>5191.0</td>\n",
       "      <td>no</td>\n",
       "      <td>8</td>\n",
       "    </tr>\n",
       "    <tr>\n",
       "      <th>9</th>\n",
       "      <td>25</td>\n",
       "      <td>services</td>\n",
       "      <td>single</td>\n",
       "      <td>high.school</td>\n",
       "      <td>no</td>\n",
       "      <td>yes</td>\n",
       "      <td>no</td>\n",
       "      <td>telephone</td>\n",
       "      <td>may</td>\n",
       "      <td>mon</td>\n",
       "      <td>...</td>\n",
       "      <td>999</td>\n",
       "      <td>0</td>\n",
       "      <td>nonexistent</td>\n",
       "      <td>1.1</td>\n",
       "      <td>93.994</td>\n",
       "      <td>-36.4</td>\n",
       "      <td>4.857</td>\n",
       "      <td>5191.0</td>\n",
       "      <td>no</td>\n",
       "      <td>9</td>\n",
       "    </tr>\n",
       "  </tbody>\n",
       "</table>\n",
       "<p>10 rows × 22 columns</p>\n",
       "</div>"
      ],
      "text/plain": [
       "   age          job  marital            education  default housing loan  \\\n",
       "0   56    housemaid  married             basic.4y       no      no   no   \n",
       "1   57     services  married          high.school  unknown      no   no   \n",
       "2   37     services  married          high.school       no     yes   no   \n",
       "3   40       admin.  married             basic.6y       no      no   no   \n",
       "4   56     services  married          high.school       no      no  yes   \n",
       "5   45     services  married             basic.9y  unknown      no   no   \n",
       "6   59       admin.  married  professional.course       no      no   no   \n",
       "7   41  blue-collar  married              unknown  unknown      no   no   \n",
       "8   24   technician   single  professional.course       no     yes   no   \n",
       "9   25     services   single          high.school       no     yes   no   \n",
       "\n",
       "     contact month day_of_week ...  pdays  previous     poutcome  \\\n",
       "0  telephone   may         mon ...    999         0  nonexistent   \n",
       "1  telephone   may         mon ...    999         0  nonexistent   \n",
       "2  telephone   may         mon ...    999         0  nonexistent   \n",
       "3  telephone   may         mon ...    999         0  nonexistent   \n",
       "4  telephone   may         mon ...    999         0  nonexistent   \n",
       "5  telephone   may         mon ...    999         0  nonexistent   \n",
       "6  telephone   may         mon ...    999         0  nonexistent   \n",
       "7  telephone   may         mon ...    999         0  nonexistent   \n",
       "8  telephone   may         mon ...    999         0  nonexistent   \n",
       "9  telephone   may         mon ...    999         0  nonexistent   \n",
       "\n",
       "   emp.var.rate cons.price.idx  cons.conf.idx  euribor3m  nr.employed   y  id  \n",
       "0           1.1         93.994          -36.4      4.857       5191.0  no   0  \n",
       "1           1.1         93.994          -36.4      4.857       5191.0  no   1  \n",
       "2           1.1         93.994          -36.4      4.857       5191.0  no   2  \n",
       "3           1.1         93.994          -36.4      4.857       5191.0  no   3  \n",
       "4           1.1         93.994          -36.4      4.857       5191.0  no   4  \n",
       "5           1.1         93.994          -36.4      4.857       5191.0  no   5  \n",
       "6           1.1         93.994          -36.4      4.857       5191.0  no   6  \n",
       "7           1.1         93.994          -36.4      4.857       5191.0  no   7  \n",
       "8           1.1         93.994          -36.4      4.857       5191.0  no   8  \n",
       "9           1.1         93.994          -36.4      4.857       5191.0  no   9  \n",
       "\n",
       "[10 rows x 22 columns]"
      ]
     },
     "execution_count": 2,
     "metadata": {},
     "output_type": "execute_result"
    }
   ],
   "source": [
    "data = pd.read_csv('/home/vignesh/Downloads/bank-additional/bank-additional/bank-additional-full.csv',sep=';')\n",
    "data['id'] = data.index\n",
    "original_data = data\n",
    "# first_quadrant = original_data[(original_data.month == 'mar') | (original_data.month == 'apr')]\n",
    "# second_quadrant = original_data[(original_data.month == 'mar') & (original_data.month == 'apr')]\n",
    "# third_quadrant = original_data[(original_data.month == 'mar') & (original_data.month == 'apr')]\n",
    "\n",
    "data[0:10]"
   ]
  },
  {
   "cell_type": "code",
   "execution_count": 5,
   "metadata": {},
   "outputs": [],
   "source": [
    "# original_data[(original_data.default == 'unknown') & (original_data.housing == 'unknown') & (original_data.loan == 'unknown')]"
   ]
  },
  {
   "cell_type": "code",
   "execution_count": 4,
   "metadata": {},
   "outputs": [
    {
     "name": "stdout",
     "output_type": "stream",
     "text": [
      "328\n"
     ]
    }
   ],
   "source": [
    "count_row_unknown = 0\n",
    "id = []\n",
    "for i in range(len(original_data)-1):\n",
    "    count_unknown = 0\n",
    "    for j in range(20):\n",
    "        if original_data.iloc[i][j]=='unknown':\n",
    "            count_unknown += 1\n",
    "    if count_unknown>=3:\n",
    "        count_row_unknown += 1\n",
    "        id.append(original_data.iloc[i]['id'])\n",
    "print(count_row_unknown)"
   ]
  },
  {
   "cell_type": "code",
   "execution_count": 101,
   "metadata": {},
   "outputs": [],
   "source": [
    "filtered_data_1 = original_data[~original_data['id'].isin(id)]\n",
    "filtered_data_2 = filtered_data_1[~((filtered_data_1.pdays==999) & (filtered_data_1.poutcome=='failure'))]\n",
    "filtered_data_temp = filtered_data_2"
   ]
  },
  {
   "cell_type": "code",
   "execution_count": 45,
   "metadata": {},
   "outputs": [],
   "source": [
    "filtered_data_2.to_csv('/home/vignesh/Documents/MachineLearningProject/bank-additional-filtered.csv',header=1)"
   ]
  },
  {
   "cell_type": "code",
   "execution_count": 56,
   "metadata": {},
   "outputs": [
    {
     "data": {
      "text/plain": [
       "649"
      ]
     },
     "execution_count": 56,
     "metadata": {},
     "output_type": "execute_result"
    }
   ],
   "source": [
    "len(filtered_data_2[filtered_data_2['loan']=='unknown'])"
   ]
  },
  {
   "cell_type": "code",
   "execution_count": 41,
   "metadata": {},
   "outputs": [
    {
     "data": {
      "text/plain": [
       "4092"
      ]
     },
     "execution_count": 41,
     "metadata": {},
     "output_type": "execute_result"
    }
   ],
   "source": [
    "len(filtered_data_1[(filtered_data_1.pdays==999) & (filtered_data_1.poutcome=='failure')])"
   ]
  },
  {
   "cell_type": "code",
   "execution_count": 59,
   "metadata": {},
   "outputs": [
    {
     "data": {
      "text/plain": [
       "3307"
      ]
     },
     "execution_count": 59,
     "metadata": {},
     "output_type": "execute_result"
    }
   ],
   "source": [
    "len(filtered_data_2[((filtered_data_2.housing=='yes') & (filtered_data_2.loan=='yes'))])"
   ]
  },
  {
   "cell_type": "code",
   "execution_count": 75,
   "metadata": {},
   "outputs": [
    {
     "data": {
      "text/plain": [
       "990"
      ]
     },
     "execution_count": 75,
     "metadata": {},
     "output_type": "execute_result"
    }
   ],
   "source": [
    "len(original_data[original_data['loan']=='unknown'])"
   ]
  },
  {
   "cell_type": "code",
   "execution_count": 73,
   "metadata": {},
   "outputs": [
    {
     "data": {
      "text/plain": [
       "16065"
      ]
     },
     "execution_count": 73,
     "metadata": {},
     "output_type": "execute_result"
    }
   ],
   "source": [
    "len(original_data[((original_data.housing=='no') & (original_data.loan=='no'))])"
   ]
  },
  {
   "cell_type": "code",
   "execution_count": 104,
   "metadata": {},
   "outputs": [
    {
     "data": {
      "text/plain": [
       "loan     housing  y  \n",
       "no       no       no     13012\n",
       "                  yes     1549\n",
       "         yes      no     14091\n",
       "                  yes     1847\n",
       "unknown  unknown  no       573\n",
       "                  yes       76\n",
       "yes      no       no      2067\n",
       "                  yes      246\n",
       "         yes      no      2934\n",
       "                  yes      373\n",
       "dtype: int64"
      ]
     },
     "execution_count": 104,
     "metadata": {},
     "output_type": "execute_result"
    }
   ],
   "source": [
    "filtered_data_temp[['loan','housing','y']].groupby(['loan','housing','y']).size()"
   ]
  },
  {
   "cell_type": "code",
   "execution_count": 97,
   "metadata": {},
   "outputs": [
    {
     "data": {
      "text/plain": [
       "4091"
      ]
     },
     "execution_count": 97,
     "metadata": {},
     "output_type": "execute_result"
    }
   ],
   "source": [
    "len(filtered_data_2[filtered_data_2['y']==1])"
   ]
  },
  {
   "cell_type": "code",
   "execution_count": 94,
   "metadata": {},
   "outputs": [
    {
     "data": {
      "text/plain": [
       "<matplotlib.axes._subplots.AxesSubplot at 0x7fedac2aecf8>"
      ]
     },
     "execution_count": 94,
     "metadata": {},
     "output_type": "execute_result"
    },
    {
     "data": {
      "image/png": "[encoded data removed]",
      "text/plain": [
       "<Figure size 432x288 with 1 Axes>"
      ]
     },
     "metadata": {},
     "output_type": "display_data"
    }
   ],
   "source": [
    "val = original_data[['housing','loan','y']].groupby(['housing','loan','y']).size().unstack()\n",
    "val.plot.bar()"
   ]
  },
  {
   "cell_type": "code",
   "execution_count": null,
   "metadata": {},
   "outputs": [],
   "source": [
    "len(filtered_data_1[~((filtered_data_1.pdays==999) & (filtered_data_1.poutcome=='failure'))])"
   ]
  },
  {
   "cell_type": "code",
   "execution_count": 86,
   "metadata": {},
   "outputs": [],
   "source": [
    "import matplotlib.pyplot as plt"
   ]
  },
  {
   "cell_type": "code",
   "execution_count": 99,
   "metadata": {},
   "outputs": [],
   "source": [
    "loan_val = filtered_data[['marital','y']].groupby(['marital','y']).size().unstack()"
   ]
  },
  {
   "cell_type": "code",
   "execution_count": 100,
   "metadata": {},
   "outputs": [
    {
     "data": {
      "text/plain": [
       "<matplotlib.axes._subplots.AxesSubplot at 0x7f9420626400>"
      ]
     },
     "execution_count": 100,
     "metadata": {},
     "output_type": "execute_result"
    },
    {
     "data": {
      "image/png": "[encoded data removed]",
      "text/plain": [
       "<Figure size 432x288 with 1 Axes>"
      ]
     },
     "metadata": {},
     "output_type": "display_data"
    }
   ],
   "source": [
    "loan_val.plot.bar()"
   ]
  },
  {
   "cell_type": "code",
   "execution_count": 6,
   "metadata": {},
   "outputs": [
    {
     "data": {
      "text/plain": [
       "<matplotlib.axes._subplots.AxesSubplot at 0x7f94866ddb70>"
      ]
     },
     "execution_count": 6,
     "metadata": {},
     "output_type": "execute_result"
    },
    {
     "data": {
      "image/png": "[encoded data removed]",
      "text/plain": [
       "<Figure size 432x288 with 1 Axes>"
      ]
     },
     "metadata": {},
     "output_type": "display_data"
    }
   ],
   "source": [
    "loan_val.plot(kind = \"bar\")"
   ]
  },
  {
   "cell_type": "code",
   "execution_count": 64,
   "metadata": {},
   "outputs": [
    {
     "data": {
      "text/plain": [
       "Index(['age', 'job', 'marital', 'education', 'default', 'housing', 'loan',\n",
       "       'contact', 'month', 'day_of_week', 'duration', 'campaign', 'pdays',\n",
       "       'previous', 'poutcome', 'emp.var.rate', 'cons.price.idx',\n",
       "       'cons.conf.idx', 'euribor3m', 'nr.employed', 'y'],\n",
       "      dtype='object')"
      ]
     },
     "execution_count": 64,
     "metadata": {},
     "output_type": "execute_result"
    }
   ],
   "source": [
    "original_data.columns"
   ]
  },
  {
   "cell_type": "code",
   "execution_count": 65,
   "metadata": {},
   "outputs": [
    {
     "data": {
      "text/plain": [
       "39673"
      ]
     },
     "execution_count": 65,
     "metadata": {},
     "output_type": "execute_result"
    }
   ],
   "source": [
    "len(original_data[original_data['pdays']==999])"
   ]
  },
  {
   "cell_type": "code",
   "execution_count": 82,
   "metadata": {},
   "outputs": [],
   "source": [
    "# filtered_data[['pdays','poutcome']].groupby(['pdays','poutcome']).size()"
   ]
  },
  {
   "cell_type": "code",
   "execution_count": 7,
   "metadata": {},
   "outputs": [],
   "source": [
    "plot_x_y = original_data[['loan','y']].groupby(['loan','y']).size().unstack()"
   ]
  },
  {
   "cell_type": "code",
   "execution_count": 83,
   "metadata": {},
   "outputs": [],
   "source": [
    "# print(filtered_data[['month','housing','y']].groupby(['month','housing','y']).size())"
   ]
  },
  {
   "cell_type": "code",
   "execution_count": 43,
   "metadata": {},
   "outputs": [],
   "source": [
    "temp = original_data[['campaign','loan','y']].groupby(['campaign','loan','y']).size()\n",
    "temp.to_csv(\"temp.csv\",header=1)"
   ]
  },
  {
   "cell_type": "code",
   "execution_count": 45,
   "metadata": {},
   "outputs": [
    {
     "data": {
      "text/plain": [
       "<matplotlib.axes._subplots.AxesSubplot at 0x7f9420d62eb8>"
      ]
     },
     "execution_count": 45,
     "metadata": {},
     "output_type": "execute_result"
    },
    {
     "data": {
      "image/png": "[encoded data removed]",
      "text/plain": [
       "<Figure size 432x288 with 1 Axes>"
      ]
     },
     "metadata": {},
     "output_type": "display_data"
    }
   ],
   "source": [
    "plot_x_y = original_data[['cons.price.idx','y']].groupby(['cons.price.idx','y']).size().unstack()\n",
    "plot_x_y.plot(kind = \"bar\")"
   ]
  },
  {
   "cell_type": "code",
   "execution_count": 120,
   "metadata": {},
   "outputs": [
    {
     "data": {
      "text/plain": [
       "<matplotlib.collections.PathCollection at 0x7f941ea63f98>"
      ]
     },
     "execution_count": 120,
     "metadata": {},
     "output_type": "execute_result"
    },
    {
     "data": {
      "image/png": "[encoded data removed]",
      "text/plain": [
       "<Figure size 1080x1080 with 1 Axes>"
      ]
     },
     "metadata": {},
     "output_type": "display_data"
    }
   ],
   "source": [
    "\n",
    "single = original_data[original_data['marital']=='single']\n",
    "married = original_data[original_data['marital']=='married']\n",
    "# single = single[single['pdays']==999]\n",
    "# married = married[married['pdays']==999]\n",
    "\n",
    "\n",
    "fig = plt.figure(figsize=(15,15))\n",
    "axes = fig.add_subplot(111)\n",
    "\n",
    "# axes = plt.figure(figsize=(15,15))\n",
    "axes.scatter(single['age'], single['pdays'],c='red', marker='x')\n",
    "axes.scatter(married['age'], married['pdays'],c='blue')"
   ]
  },
  {
   "cell_type": "code",
   "execution_count": 94,
   "metadata": {
    "scrolled": true
   },
   "outputs": [
    {
     "data": {
      "text/plain": [
       "<matplotlib.collections.PathCollection at 0x7f62ed5cce80>"
      ]
     },
     "execution_count": 94,
     "metadata": {},
     "output_type": "execute_result"
    },
    {
     "data": {
      "image/png": "[encoded data removed]",
      "text/plain": [
       "<Figure size 1080x1080 with 1 Axes>"
      ]
     },
     "metadata": {},
     "output_type": "display_data"
    }
   ],
   "source": [
    "\n",
    "loan_yes = original_data[original_data['loan']=='yes']\n",
    "loan_no = original_data[original_data['loan']=='no']\n",
    "# single = single[single['pdays']==999]\n",
    "# married = married[married['pdays']==999]\n",
    "\n",
    "\n",
    "fig = plt.figure(figsize=(15,15))\n",
    "axes = fig.add_subplot(111)\n",
    "\n",
    "# axes = plt.figure(figsize=(15,15))\n",
    "axes.scatter(loan_yes['age'], loan_yes['duration'],c='red')\n",
    "axes.scatter(loan_no['age'], loan_no['duration'],c='blue')"
   ]
  },
  {
   "cell_type": "code",
   "execution_count": 96,
   "metadata": {},
   "outputs": [
    {
     "data": {
      "text/plain": [
       "<matplotlib.collections.PathCollection at 0x7f62ee022c18>"
      ]
     },
     "execution_count": 96,
     "metadata": {},
     "output_type": "execute_result"
    },
    {
     "data": {
      "image/png": "[encoded data removed]",
      "text/plain": [
       "<Figure size 1080x1080 with 1 Axes>"
      ]
     },
     "metadata": {},
     "output_type": "display_data"
    }
   ],
   "source": [
    "housing_yes = original_data[original_data['housing']=='yes']\n",
    "housing_no = original_data[original_data['housing']=='no']\n",
    "# single = single[single['pdays']==999]\n",
    "# married = married[married['pdays']==999]\n",
    "\n",
    "\n",
    "fig = plt.figure(figsize=(15,15))\n",
    "axes = fig.add_subplot(111)\n",
    "\n",
    "# axes = plt.figure(figsize=(15,15))\n",
    "axes.scatter(housing_yes['age'], housing_yes['duration'],c='red')\n",
    "axes.scatter(housing_no['age'], housing_no['duration'],c='blue')"
   ]
  },
  {
   "cell_type": "code",
   "execution_count": 97,
   "metadata": {},
   "outputs": [
    {
     "data": {
      "text/plain": [
       "array([5191. , 5228.1, 5195.8, 5176.3, 5099.1, 5076.2, 5017.5, 5023.5,\n",
       "       5008.7, 4991.6, 4963.6])"
      ]
     },
     "execution_count": 97,
     "metadata": {},
     "output_type": "execute_result"
    }
   ],
   "source": [
    "original_data['nr.employed'].unique()"
   ]
  },
  {
   "cell_type": "code",
   "execution_count": 33,
   "metadata": {},
   "outputs": [],
   "source": [
    "char_cols = data.dtypes.pipe(lambda x: x[x == 'object']).index\n",
    "label_mapping = {}\n",
    "\n",
    "for c in char_cols:\n",
    "    data[c], label_mapping[c] = pd.factorize(data[c])"
   ]
  },
  {
   "cell_type": "code",
   "execution_count": 4,
   "metadata": {},
   "outputs": [
    {
     "data": {
      "text/html": [
       "<div>\n",
       "<style scoped>\n",
       "    .dataframe tbody tr th:only-of-type {\n",
       "        vertical-align: middle;\n",
       "    }\n",
       "\n",
       "    .dataframe tbody tr th {\n",
       "        vertical-align: top;\n",
       "    }\n",
       "\n",
       "    .dataframe thead th {\n",
       "        text-align: right;\n",
       "    }\n",
       "</style>\n",
       "<table border=\"1\" class=\"dataframe\">\n",
       "  <thead>\n",
       "    <tr style=\"text-align: right;\">\n",
       "      <th></th>\n",
       "      <th>age</th>\n",
       "      <th>job</th>\n",
       "      <th>marital</th>\n",
       "      <th>education</th>\n",
       "      <th>default</th>\n",
       "      <th>housing</th>\n",
       "      <th>loan</th>\n",
       "      <th>contact</th>\n",
       "      <th>month</th>\n",
       "      <th>day_of_week</th>\n",
       "      <th>...</th>\n",
       "      <th>campaign</th>\n",
       "      <th>pdays</th>\n",
       "      <th>previous</th>\n",
       "      <th>poutcome</th>\n",
       "      <th>emp.var.rate</th>\n",
       "      <th>cons.price.idx</th>\n",
       "      <th>cons.conf.idx</th>\n",
       "      <th>euribor3m</th>\n",
       "      <th>nr.employed</th>\n",
       "      <th>y</th>\n",
       "    </tr>\n",
       "  </thead>\n",
       "  <tbody>\n",
       "    <tr>\n",
       "      <th>0</th>\n",
       "      <td>56</td>\n",
       "      <td>0</td>\n",
       "      <td>0</td>\n",
       "      <td>0</td>\n",
       "      <td>0</td>\n",
       "      <td>0</td>\n",
       "      <td>0</td>\n",
       "      <td>0</td>\n",
       "      <td>0</td>\n",
       "      <td>0</td>\n",
       "      <td>...</td>\n",
       "      <td>1</td>\n",
       "      <td>999</td>\n",
       "      <td>0</td>\n",
       "      <td>0</td>\n",
       "      <td>1.1</td>\n",
       "      <td>93.994</td>\n",
       "      <td>-36.4</td>\n",
       "      <td>4.857</td>\n",
       "      <td>5191.0</td>\n",
       "      <td>0</td>\n",
       "    </tr>\n",
       "    <tr>\n",
       "      <th>1</th>\n",
       "      <td>57</td>\n",
       "      <td>1</td>\n",
       "      <td>0</td>\n",
       "      <td>1</td>\n",
       "      <td>1</td>\n",
       "      <td>0</td>\n",
       "      <td>0</td>\n",
       "      <td>0</td>\n",
       "      <td>0</td>\n",
       "      <td>0</td>\n",
       "      <td>...</td>\n",
       "      <td>1</td>\n",
       "      <td>999</td>\n",
       "      <td>0</td>\n",
       "      <td>0</td>\n",
       "      <td>1.1</td>\n",
       "      <td>93.994</td>\n",
       "      <td>-36.4</td>\n",
       "      <td>4.857</td>\n",
       "      <td>5191.0</td>\n",
       "      <td>0</td>\n",
       "    </tr>\n",
       "    <tr>\n",
       "      <th>2</th>\n",
       "      <td>37</td>\n",
       "      <td>1</td>\n",
       "      <td>0</td>\n",
       "      <td>1</td>\n",
       "      <td>0</td>\n",
       "      <td>1</td>\n",
       "      <td>0</td>\n",
       "      <td>0</td>\n",
       "      <td>0</td>\n",
       "      <td>0</td>\n",
       "      <td>...</td>\n",
       "      <td>1</td>\n",
       "      <td>999</td>\n",
       "      <td>0</td>\n",
       "      <td>0</td>\n",
       "      <td>1.1</td>\n",
       "      <td>93.994</td>\n",
       "      <td>-36.4</td>\n",
       "      <td>4.857</td>\n",
       "      <td>5191.0</td>\n",
       "      <td>0</td>\n",
       "    </tr>\n",
       "    <tr>\n",
       "      <th>3</th>\n",
       "      <td>40</td>\n",
       "      <td>2</td>\n",
       "      <td>0</td>\n",
       "      <td>2</td>\n",
       "      <td>0</td>\n",
       "      <td>0</td>\n",
       "      <td>0</td>\n",
       "      <td>0</td>\n",
       "      <td>0</td>\n",
       "      <td>0</td>\n",
       "      <td>...</td>\n",
       "      <td>1</td>\n",
       "      <td>999</td>\n",
       "      <td>0</td>\n",
       "      <td>0</td>\n",
       "      <td>1.1</td>\n",
       "      <td>93.994</td>\n",
       "      <td>-36.4</td>\n",
       "      <td>4.857</td>\n",
       "      <td>5191.0</td>\n",
       "      <td>0</td>\n",
       "    </tr>\n",
       "    <tr>\n",
       "      <th>4</th>\n",
       "      <td>56</td>\n",
       "      <td>1</td>\n",
       "      <td>0</td>\n",
       "      <td>1</td>\n",
       "      <td>0</td>\n",
       "      <td>0</td>\n",
       "      <td>1</td>\n",
       "      <td>0</td>\n",
       "      <td>0</td>\n",
       "      <td>0</td>\n",
       "      <td>...</td>\n",
       "      <td>1</td>\n",
       "      <td>999</td>\n",
       "      <td>0</td>\n",
       "      <td>0</td>\n",
       "      <td>1.1</td>\n",
       "      <td>93.994</td>\n",
       "      <td>-36.4</td>\n",
       "      <td>4.857</td>\n",
       "      <td>5191.0</td>\n",
       "      <td>0</td>\n",
       "    </tr>\n",
       "    <tr>\n",
       "      <th>5</th>\n",
       "      <td>45</td>\n",
       "      <td>1</td>\n",
       "      <td>0</td>\n",
       "      <td>3</td>\n",
       "      <td>1</td>\n",
       "      <td>0</td>\n",
       "      <td>0</td>\n",
       "      <td>0</td>\n",
       "      <td>0</td>\n",
       "      <td>0</td>\n",
       "      <td>...</td>\n",
       "      <td>1</td>\n",
       "      <td>999</td>\n",
       "      <td>0</td>\n",
       "      <td>0</td>\n",
       "      <td>1.1</td>\n",
       "      <td>93.994</td>\n",
       "      <td>-36.4</td>\n",
       "      <td>4.857</td>\n",
       "      <td>5191.0</td>\n",
       "      <td>0</td>\n",
       "    </tr>\n",
       "    <tr>\n",
       "      <th>6</th>\n",
       "      <td>59</td>\n",
       "      <td>2</td>\n",
       "      <td>0</td>\n",
       "      <td>4</td>\n",
       "      <td>0</td>\n",
       "      <td>0</td>\n",
       "      <td>0</td>\n",
       "      <td>0</td>\n",
       "      <td>0</td>\n",
       "      <td>0</td>\n",
       "      <td>...</td>\n",
       "      <td>1</td>\n",
       "      <td>999</td>\n",
       "      <td>0</td>\n",
       "      <td>0</td>\n",
       "      <td>1.1</td>\n",
       "      <td>93.994</td>\n",
       "      <td>-36.4</td>\n",
       "      <td>4.857</td>\n",
       "      <td>5191.0</td>\n",
       "      <td>0</td>\n",
       "    </tr>\n",
       "    <tr>\n",
       "      <th>7</th>\n",
       "      <td>41</td>\n",
       "      <td>3</td>\n",
       "      <td>0</td>\n",
       "      <td>5</td>\n",
       "      <td>1</td>\n",
       "      <td>0</td>\n",
       "      <td>0</td>\n",
       "      <td>0</td>\n",
       "      <td>0</td>\n",
       "      <td>0</td>\n",
       "      <td>...</td>\n",
       "      <td>1</td>\n",
       "      <td>999</td>\n",
       "      <td>0</td>\n",
       "      <td>0</td>\n",
       "      <td>1.1</td>\n",
       "      <td>93.994</td>\n",
       "      <td>-36.4</td>\n",
       "      <td>4.857</td>\n",
       "      <td>5191.0</td>\n",
       "      <td>0</td>\n",
       "    </tr>\n",
       "    <tr>\n",
       "      <th>8</th>\n",
       "      <td>24</td>\n",
       "      <td>4</td>\n",
       "      <td>1</td>\n",
       "      <td>4</td>\n",
       "      <td>0</td>\n",
       "      <td>1</td>\n",
       "      <td>0</td>\n",
       "      <td>0</td>\n",
       "      <td>0</td>\n",
       "      <td>0</td>\n",
       "      <td>...</td>\n",
       "      <td>1</td>\n",
       "      <td>999</td>\n",
       "      <td>0</td>\n",
       "      <td>0</td>\n",
       "      <td>1.1</td>\n",
       "      <td>93.994</td>\n",
       "      <td>-36.4</td>\n",
       "      <td>4.857</td>\n",
       "      <td>5191.0</td>\n",
       "      <td>0</td>\n",
       "    </tr>\n",
       "    <tr>\n",
       "      <th>9</th>\n",
       "      <td>25</td>\n",
       "      <td>1</td>\n",
       "      <td>1</td>\n",
       "      <td>1</td>\n",
       "      <td>0</td>\n",
       "      <td>1</td>\n",
       "      <td>0</td>\n",
       "      <td>0</td>\n",
       "      <td>0</td>\n",
       "      <td>0</td>\n",
       "      <td>...</td>\n",
       "      <td>1</td>\n",
       "      <td>999</td>\n",
       "      <td>0</td>\n",
       "      <td>0</td>\n",
       "      <td>1.1</td>\n",
       "      <td>93.994</td>\n",
       "      <td>-36.4</td>\n",
       "      <td>4.857</td>\n",
       "      <td>5191.0</td>\n",
       "      <td>0</td>\n",
       "    </tr>\n",
       "  </tbody>\n",
       "</table>\n",
       "<p>10 rows × 21 columns</p>\n",
       "</div>"
      ],
      "text/plain": [
       "   age  job  marital  education  default  housing  loan  contact  month  \\\n",
       "0   56    0        0          0        0        0     0        0      0   \n",
       "1   57    1        0          1        1        0     0        0      0   \n",
       "2   37    1        0          1        0        1     0        0      0   \n",
       "3   40    2        0          2        0        0     0        0      0   \n",
       "4   56    1        0          1        0        0     1        0      0   \n",
       "5   45    1        0          3        1        0     0        0      0   \n",
       "6   59    2        0          4        0        0     0        0      0   \n",
       "7   41    3        0          5        1        0     0        0      0   \n",
       "8   24    4        1          4        0        1     0        0      0   \n",
       "9   25    1        1          1        0        1     0        0      0   \n",
       "\n",
       "   day_of_week ...  campaign  pdays  previous  poutcome  emp.var.rate  \\\n",
       "0            0 ...         1    999         0         0           1.1   \n",
       "1            0 ...         1    999         0         0           1.1   \n",
       "2            0 ...         1    999         0         0           1.1   \n",
       "3            0 ...         1    999         0         0           1.1   \n",
       "4            0 ...         1    999         0         0           1.1   \n",
       "5            0 ...         1    999         0         0           1.1   \n",
       "6            0 ...         1    999         0         0           1.1   \n",
       "7            0 ...         1    999         0         0           1.1   \n",
       "8            0 ...         1    999         0         0           1.1   \n",
       "9            0 ...         1    999         0         0           1.1   \n",
       "\n",
       "   cons.price.idx  cons.conf.idx  euribor3m  nr.employed  y  \n",
       "0          93.994          -36.4      4.857       5191.0  0  \n",
       "1          93.994          -36.4      4.857       5191.0  0  \n",
       "2          93.994          -36.4      4.857       5191.0  0  \n",
       "3          93.994          -36.4      4.857       5191.0  0  \n",
       "4          93.994          -36.4      4.857       5191.0  0  \n",
       "5          93.994          -36.4      4.857       5191.0  0  \n",
       "6          93.994          -36.4      4.857       5191.0  0  \n",
       "7          93.994          -36.4      4.857       5191.0  0  \n",
       "8          93.994          -36.4      4.857       5191.0  0  \n",
       "9          93.994          -36.4      4.857       5191.0  0  \n",
       "\n",
       "[10 rows x 21 columns]"
      ]
     },
     "execution_count": 4,
     "metadata": {},
     "output_type": "execute_result"
    }
   ],
   "source": [
    "data[0:10]"
   ]
  },
  {
   "cell_type": "code",
   "execution_count": 79,
   "metadata": {},
   "outputs": [
    {
     "name": "stderr",
     "output_type": "stream",
     "text": [
      "/home/vignesh/anaconda3/lib/python3.6/site-packages/ipykernel_launcher.py:5: SettingWithCopyWarning: \n",
      "A value is trying to be set on a copy of a slice from a DataFrame.\n",
      "Try using .loc[row_indexer,col_indexer] = value instead\n",
      "\n",
      "See the caveats in the documentation: http://pandas.pydata.org/pandas-docs/stable/indexing.html#indexing-view-versus-copy\n",
      "  \"\"\"\n"
     ]
    }
   ],
   "source": [
    "char_cols = data.dtypes.pipe(lambda x: x[x == 'object']).index\n",
    "label_mapping = {}\n",
    "\n",
    "for c in char_cols:\n",
    "    filtered_data_2[c], label_mapping[c] = pd.factorize(filtered_data_2[c])"
   ]
  },
  {
   "cell_type": "code",
   "execution_count": 80,
   "metadata": {},
   "outputs": [],
   "source": [
    "correlation = filtered_data_2.corr(method='pearson')"
   ]
  },
  {
   "cell_type": "code",
   "execution_count": 91,
   "metadata": {},
   "outputs": [
    {
     "data": {
      "text/plain": [
       "(0.24073181602682311, 0.0)"
      ]
     },
     "execution_count": 91,
     "metadata": {},
     "output_type": "execute_result"
    }
   ],
   "source": [
    "from scipy.stats import pearsonr\n",
    "pearsonr(filtered_data_2['housing'],filtered_data_2['loan'])"
   ]
  },
  {
   "cell_type": "code",
   "execution_count": 109,
   "metadata": {},
   "outputs": [],
   "source": [
    "bank_client_corr = filtered_data_2[['age','job','marital','education','default','housing','loan']]"
   ]
  },
  {
   "cell_type": "code",
   "execution_count": 111,
   "metadata": {},
   "outputs": [],
   "source": [
    "char_cols = bank_client_corr.dtypes.pipe(lambda x: x[x == 'object']).index\n",
    "label_mapping = {}\n",
    "\n",
    "for c in char_cols:\n",
    "    bank_client_corr[c], label_mapping[c] = pd.factorize(bank_client_corr[c])"
   ]
  },
  {
   "cell_type": "code",
   "execution_count": 112,
   "metadata": {},
   "outputs": [
    {
     "data": {
      "text/html": [
       "<div>\n",
       "<style scoped>\n",
       "    .dataframe tbody tr th:only-of-type {\n",
       "        vertical-align: middle;\n",
       "    }\n",
       "\n",
       "    .dataframe tbody tr th {\n",
       "        vertical-align: top;\n",
       "    }\n",
       "\n",
       "    .dataframe thead th {\n",
       "        text-align: right;\n",
       "    }\n",
       "</style>\n",
       "<table border=\"1\" class=\"dataframe\">\n",
       "  <thead>\n",
       "    <tr style=\"text-align: right;\">\n",
       "      <th></th>\n",
       "      <th>age</th>\n",
       "      <th>job</th>\n",
       "      <th>marital</th>\n",
       "      <th>education</th>\n",
       "      <th>default</th>\n",
       "      <th>housing</th>\n",
       "      <th>loan</th>\n",
       "    </tr>\n",
       "  </thead>\n",
       "  <tbody>\n",
       "    <tr>\n",
       "      <th>age</th>\n",
       "      <td>1.000000</td>\n",
       "      <td>0.029420</td>\n",
       "      <td>-0.112703</td>\n",
       "      <td>-0.095780</td>\n",
       "      <td>0.170768</td>\n",
       "      <td>-0.007426</td>\n",
       "      <td>-0.014322</td>\n",
       "    </tr>\n",
       "    <tr>\n",
       "      <th>job</th>\n",
       "      <td>0.029420</td>\n",
       "      <td>1.000000</td>\n",
       "      <td>-0.009958</td>\n",
       "      <td>0.159962</td>\n",
       "      <td>-0.020672</td>\n",
       "      <td>0.006690</td>\n",
       "      <td>-0.006110</td>\n",
       "    </tr>\n",
       "    <tr>\n",
       "      <th>marital</th>\n",
       "      <td>-0.112703</td>\n",
       "      <td>-0.009958</td>\n",
       "      <td>1.000000</td>\n",
       "      <td>0.066538</td>\n",
       "      <td>-0.106133</td>\n",
       "      <td>0.007569</td>\n",
       "      <td>0.006229</td>\n",
       "    </tr>\n",
       "    <tr>\n",
       "      <th>education</th>\n",
       "      <td>-0.095780</td>\n",
       "      <td>0.159962</td>\n",
       "      <td>0.066538</td>\n",
       "      <td>1.000000</td>\n",
       "      <td>-0.148095</td>\n",
       "      <td>0.017041</td>\n",
       "      <td>0.007469</td>\n",
       "    </tr>\n",
       "    <tr>\n",
       "      <th>default</th>\n",
       "      <td>0.170768</td>\n",
       "      <td>-0.020672</td>\n",
       "      <td>-0.106133</td>\n",
       "      <td>-0.148095</td>\n",
       "      <td>1.000000</td>\n",
       "      <td>-0.038231</td>\n",
       "      <td>-0.041759</td>\n",
       "    </tr>\n",
       "    <tr>\n",
       "      <th>housing</th>\n",
       "      <td>-0.007426</td>\n",
       "      <td>0.006690</td>\n",
       "      <td>0.007569</td>\n",
       "      <td>0.017041</td>\n",
       "      <td>-0.038231</td>\n",
       "      <td>1.000000</td>\n",
       "      <td>0.240732</td>\n",
       "    </tr>\n",
       "    <tr>\n",
       "      <th>loan</th>\n",
       "      <td>-0.014322</td>\n",
       "      <td>-0.006110</td>\n",
       "      <td>0.006229</td>\n",
       "      <td>0.007469</td>\n",
       "      <td>-0.041759</td>\n",
       "      <td>0.240732</td>\n",
       "      <td>1.000000</td>\n",
       "    </tr>\n",
       "  </tbody>\n",
       "</table>\n",
       "</div>"
      ],
      "text/plain": [
       "                age       job   marital  education   default   housing  \\\n",
       "age        1.000000  0.029420 -0.112703  -0.095780  0.170768 -0.007426   \n",
       "job        0.029420  1.000000 -0.009958   0.159962 -0.020672  0.006690   \n",
       "marital   -0.112703 -0.009958  1.000000   0.066538 -0.106133  0.007569   \n",
       "education -0.095780  0.159962  0.066538   1.000000 -0.148095  0.017041   \n",
       "default    0.170768 -0.020672 -0.106133  -0.148095  1.000000 -0.038231   \n",
       "housing   -0.007426  0.006690  0.007569   0.017041 -0.038231  1.000000   \n",
       "loan      -0.014322 -0.006110  0.006229   0.007469 -0.041759  0.240732   \n",
       "\n",
       "               loan  \n",
       "age       -0.014322  \n",
       "job       -0.006110  \n",
       "marital    0.006229  \n",
       "education  0.007469  \n",
       "default   -0.041759  \n",
       "housing    0.240732  \n",
       "loan       1.000000  "
      ]
     },
     "execution_count": 112,
     "metadata": {},
     "output_type": "execute_result"
    }
   ],
   "source": [
    "bank_client_corr.corr(method='pearson')"
   ]
  },
  {
   "cell_type": "code",
   "execution_count": 113,
   "metadata": {},
   "outputs": [
    {
     "name": "stderr",
     "output_type": "stream",
     "text": [
      "/home/vignesh/anaconda3/lib/python3.6/site-packages/ipykernel_launcher.py:6: SettingWithCopyWarning: \n",
      "A value is trying to be set on a copy of a slice from a DataFrame.\n",
      "Try using .loc[row_indexer,col_indexer] = value instead\n",
      "\n",
      "See the caveats in the documentation: http://pandas.pydata.org/pandas-docs/stable/indexing.html#indexing-view-versus-copy\n",
      "  \n"
     ]
    }
   ],
   "source": [
    "other_attributes = filtered_data_2[['campaign','pdays','previous','poutcome']]\n",
    "char_cols = other_attributes.dtypes.pipe(lambda x: x[x == 'object']).index\n",
    "label_mapping = {}\n",
    "\n",
    "for c in char_cols:\n",
    "    other_attributes[c], label_mapping[c] = pd.factorize(other_attributes[c])"
   ]
  },
  {
   "cell_type": "code",
   "execution_count": 114,
   "metadata": {},
   "outputs": [
    {
     "data": {
      "text/html": [
       "<div>\n",
       "<style scoped>\n",
       "    .dataframe tbody tr th:only-of-type {\n",
       "        vertical-align: middle;\n",
       "    }\n",
       "\n",
       "    .dataframe tbody tr th {\n",
       "        vertical-align: top;\n",
       "    }\n",
       "\n",
       "    .dataframe thead th {\n",
       "        text-align: right;\n",
       "    }\n",
       "</style>\n",
       "<table border=\"1\" class=\"dataframe\">\n",
       "  <thead>\n",
       "    <tr style=\"text-align: right;\">\n",
       "      <th></th>\n",
       "      <th>campaign</th>\n",
       "      <th>pdays</th>\n",
       "      <th>previous</th>\n",
       "      <th>poutcome</th>\n",
       "    </tr>\n",
       "  </thead>\n",
       "  <tbody>\n",
       "    <tr>\n",
       "      <th>campaign</th>\n",
       "      <td>1.000000</td>\n",
       "      <td>0.058365</td>\n",
       "      <td>-0.050557</td>\n",
       "      <td>-0.055491</td>\n",
       "    </tr>\n",
       "    <tr>\n",
       "      <th>pdays</th>\n",
       "      <td>0.058365</td>\n",
       "      <td>1.000000</td>\n",
       "      <td>-0.867029</td>\n",
       "      <td>-0.964481</td>\n",
       "    </tr>\n",
       "    <tr>\n",
       "      <th>previous</th>\n",
       "      <td>-0.050557</td>\n",
       "      <td>-0.867029</td>\n",
       "      <td>1.000000</td>\n",
       "      <td>0.876321</td>\n",
       "    </tr>\n",
       "    <tr>\n",
       "      <th>poutcome</th>\n",
       "      <td>-0.055491</td>\n",
       "      <td>-0.964481</td>\n",
       "      <td>0.876321</td>\n",
       "      <td>1.000000</td>\n",
       "    </tr>\n",
       "  </tbody>\n",
       "</table>\n",
       "</div>"
      ],
      "text/plain": [
       "          campaign     pdays  previous  poutcome\n",
       "campaign  1.000000  0.058365 -0.050557 -0.055491\n",
       "pdays     0.058365  1.000000 -0.867029 -0.964481\n",
       "previous -0.050557 -0.867029  1.000000  0.876321\n",
       "poutcome -0.055491 -0.964481  0.876321  1.000000"
      ]
     },
     "execution_count": 114,
     "metadata": {},
     "output_type": "execute_result"
    }
   ],
   "source": [
    "other_attributes.corr(method='pearson')"
   ]
  },
  {
   "cell_type": "code",
   "execution_count": 135,
   "metadata": {},
   "outputs": [
    {
     "data": {
      "text/plain": [
       "<matplotlib.collections.PathCollection at 0x7fedac1d7ef0>"
      ]
     },
     "execution_count": 135,
     "metadata": {},
     "output_type": "execute_result"
    },
    {
     "data": {
      "image/png": "[encoded data removed]",
      "text/plain": [
       "<Figure size 432x288 with 1 Axes>"
      ]
     },
     "metadata": {},
     "output_type": "display_data"
    }
   ],
   "source": [
    "import matplotlib.pyplot as plt\n",
    "filtered_data_remove_999 = filtered_data_2[filtered_data_2['pdays']!=999]\n",
    "plt.scatter(filtered_data_remove_999['pdays'],filtered_data_remove_999['previous'], marker='x', c='red')"
   ]
  },
  {
   "cell_type": "code",
   "execution_count": 136,
   "metadata": {},
   "outputs": [
    {
     "data": {
      "text/html": [
       "<div>\n",
       "<style scoped>\n",
       "    .dataframe tbody tr th:only-of-type {\n",
       "        vertical-align: middle;\n",
       "    }\n",
       "\n",
       "    .dataframe tbody tr th {\n",
       "        vertical-align: top;\n",
       "    }\n",
       "\n",
       "    .dataframe thead th {\n",
       "        text-align: right;\n",
       "    }\n",
       "</style>\n",
       "<table border=\"1\" class=\"dataframe\">\n",
       "  <thead>\n",
       "    <tr style=\"text-align: right;\">\n",
       "      <th></th>\n",
       "      <th>age</th>\n",
       "      <th>duration</th>\n",
       "      <th>campaign</th>\n",
       "      <th>pdays</th>\n",
       "      <th>previous</th>\n",
       "      <th>emp.var.rate</th>\n",
       "      <th>cons.price.idx</th>\n",
       "      <th>cons.conf.idx</th>\n",
       "      <th>euribor3m</th>\n",
       "      <th>nr.employed</th>\n",
       "      <th>id</th>\n",
       "    </tr>\n",
       "  </thead>\n",
       "  <tbody>\n",
       "    <tr>\n",
       "      <th>age</th>\n",
       "      <td>1.000000</td>\n",
       "      <td>-0.014925</td>\n",
       "      <td>0.005688</td>\n",
       "      <td>-0.069734</td>\n",
       "      <td>0.015149</td>\n",
       "      <td>-0.054135</td>\n",
       "      <td>-0.022954</td>\n",
       "      <td>0.086213</td>\n",
       "      <td>-0.046224</td>\n",
       "      <td>-0.045358</td>\n",
       "      <td>0.040283</td>\n",
       "    </tr>\n",
       "    <tr>\n",
       "      <th>duration</th>\n",
       "      <td>-0.014925</td>\n",
       "      <td>1.000000</td>\n",
       "      <td>-0.020982</td>\n",
       "      <td>0.077503</td>\n",
       "      <td>-0.004518</td>\n",
       "      <td>0.077622</td>\n",
       "      <td>0.087460</td>\n",
       "      <td>-0.105649</td>\n",
       "      <td>-0.015247</td>\n",
       "      <td>-0.032986</td>\n",
       "      <td>0.001301</td>\n",
       "    </tr>\n",
       "    <tr>\n",
       "      <th>campaign</th>\n",
       "      <td>0.005688</td>\n",
       "      <td>-0.020982</td>\n",
       "      <td>1.000000</td>\n",
       "      <td>0.045763</td>\n",
       "      <td>0.000669</td>\n",
       "      <td>0.058204</td>\n",
       "      <td>0.031910</td>\n",
       "      <td>-0.051248</td>\n",
       "      <td>0.038640</td>\n",
       "      <td>0.014080</td>\n",
       "      <td>-0.018436</td>\n",
       "    </tr>\n",
       "    <tr>\n",
       "      <th>pdays</th>\n",
       "      <td>-0.069734</td>\n",
       "      <td>0.077503</td>\n",
       "      <td>0.045763</td>\n",
       "      <td>1.000000</td>\n",
       "      <td>-0.040055</td>\n",
       "      <td>0.153396</td>\n",
       "      <td>0.172468</td>\n",
       "      <td>-0.083145</td>\n",
       "      <td>-0.081586</td>\n",
       "      <td>-0.137094</td>\n",
       "      <td>0.119021</td>\n",
       "    </tr>\n",
       "    <tr>\n",
       "      <th>previous</th>\n",
       "      <td>0.015149</td>\n",
       "      <td>-0.004518</td>\n",
       "      <td>0.000669</td>\n",
       "      <td>-0.040055</td>\n",
       "      <td>1.000000</td>\n",
       "      <td>0.191319</td>\n",
       "      <td>0.354566</td>\n",
       "      <td>-0.069723</td>\n",
       "      <td>-0.172359</td>\n",
       "      <td>-0.371968</td>\n",
       "      <td>0.331762</td>\n",
       "    </tr>\n",
       "    <tr>\n",
       "      <th>emp.var.rate</th>\n",
       "      <td>-0.054135</td>\n",
       "      <td>0.077622</td>\n",
       "      <td>0.058204</td>\n",
       "      <td>0.153396</td>\n",
       "      <td>0.191319</td>\n",
       "      <td>1.000000</td>\n",
       "      <td>0.781264</td>\n",
       "      <td>-0.730685</td>\n",
       "      <td>0.424540</td>\n",
       "      <td>-0.131875</td>\n",
       "      <td>-0.069219</td>\n",
       "    </tr>\n",
       "    <tr>\n",
       "      <th>cons.price.idx</th>\n",
       "      <td>-0.022954</td>\n",
       "      <td>0.087460</td>\n",
       "      <td>0.031910</td>\n",
       "      <td>0.172468</td>\n",
       "      <td>0.354566</td>\n",
       "      <td>0.781264</td>\n",
       "      <td>1.000000</td>\n",
       "      <td>-0.574498</td>\n",
       "      <td>-0.056389</td>\n",
       "      <td>-0.654706</td>\n",
       "      <td>0.455718</td>\n",
       "    </tr>\n",
       "    <tr>\n",
       "      <th>cons.conf.idx</th>\n",
       "      <td>0.086213</td>\n",
       "      <td>-0.105649</td>\n",
       "      <td>-0.051248</td>\n",
       "      <td>-0.083145</td>\n",
       "      <td>-0.069723</td>\n",
       "      <td>-0.730685</td>\n",
       "      <td>-0.574498</td>\n",
       "      <td>1.000000</td>\n",
       "      <td>-0.370784</td>\n",
       "      <td>-0.088413</td>\n",
       "      <td>0.264439</td>\n",
       "    </tr>\n",
       "    <tr>\n",
       "      <th>euribor3m</th>\n",
       "      <td>-0.046224</td>\n",
       "      <td>-0.015247</td>\n",
       "      <td>0.038640</td>\n",
       "      <td>-0.081586</td>\n",
       "      <td>-0.172359</td>\n",
       "      <td>0.424540</td>\n",
       "      <td>-0.056389</td>\n",
       "      <td>-0.370784</td>\n",
       "      <td>1.000000</td>\n",
       "      <td>0.671022</td>\n",
       "      <td>-0.750201</td>\n",
       "    </tr>\n",
       "    <tr>\n",
       "      <th>nr.employed</th>\n",
       "      <td>-0.045358</td>\n",
       "      <td>-0.032986</td>\n",
       "      <td>0.014080</td>\n",
       "      <td>-0.137094</td>\n",
       "      <td>-0.371968</td>\n",
       "      <td>-0.131875</td>\n",
       "      <td>-0.654706</td>\n",
       "      <td>-0.088413</td>\n",
       "      <td>0.671022</td>\n",
       "      <td>1.000000</td>\n",
       "      <td>-0.896834</td>\n",
       "    </tr>\n",
       "    <tr>\n",
       "      <th>id</th>\n",
       "      <td>0.040283</td>\n",
       "      <td>0.001301</td>\n",
       "      <td>-0.018436</td>\n",
       "      <td>0.119021</td>\n",
       "      <td>0.331762</td>\n",
       "      <td>-0.069219</td>\n",
       "      <td>0.455718</td>\n",
       "      <td>0.264439</td>\n",
       "      <td>-0.750201</td>\n",
       "      <td>-0.896834</td>\n",
       "      <td>1.000000</td>\n",
       "    </tr>\n",
       "  </tbody>\n",
       "</table>\n",
       "</div>"
      ],
      "text/plain": [
       "                     age  duration  campaign     pdays  previous  \\\n",
       "age             1.000000 -0.014925  0.005688 -0.069734  0.015149   \n",
       "duration       -0.014925  1.000000 -0.020982  0.077503 -0.004518   \n",
       "campaign        0.005688 -0.020982  1.000000  0.045763  0.000669   \n",
       "pdays          -0.069734  0.077503  0.045763  1.000000 -0.040055   \n",
       "previous        0.015149 -0.004518  0.000669 -0.040055  1.000000   \n",
       "emp.var.rate   -0.054135  0.077622  0.058204  0.153396  0.191319   \n",
       "cons.price.idx -0.022954  0.087460  0.031910  0.172468  0.354566   \n",
       "cons.conf.idx   0.086213 -0.105649 -0.051248 -0.083145 -0.069723   \n",
       "euribor3m      -0.046224 -0.015247  0.038640 -0.081586 -0.172359   \n",
       "nr.employed    -0.045358 -0.032986  0.014080 -0.137094 -0.371968   \n",
       "id              0.040283  0.001301 -0.018436  0.119021  0.331762   \n",
       "\n",
       "                emp.var.rate  cons.price.idx  cons.conf.idx  euribor3m  \\\n",
       "age                -0.054135       -0.022954       0.086213  -0.046224   \n",
       "duration            0.077622        0.087460      -0.105649  -0.015247   \n",
       "campaign            0.058204        0.031910      -0.051248   0.038640   \n",
       "pdays               0.153396        0.172468      -0.083145  -0.081586   \n",
       "previous            0.191319        0.354566      -0.069723  -0.172359   \n",
       "emp.var.rate        1.000000        0.781264      -0.730685   0.424540   \n",
       "cons.price.idx      0.781264        1.000000      -0.574498  -0.056389   \n",
       "cons.conf.idx      -0.730685       -0.574498       1.000000  -0.370784   \n",
       "euribor3m           0.424540       -0.056389      -0.370784   1.000000   \n",
       "nr.employed        -0.131875       -0.654706      -0.088413   0.671022   \n",
       "id                 -0.069219        0.455718       0.264439  -0.750201   \n",
       "\n",
       "                nr.employed        id  \n",
       "age               -0.045358  0.040283  \n",
       "duration          -0.032986  0.001301  \n",
       "campaign           0.014080 -0.018436  \n",
       "pdays             -0.137094  0.119021  \n",
       "previous          -0.371968  0.331762  \n",
       "emp.var.rate      -0.131875 -0.069219  \n",
       "cons.price.idx    -0.654706  0.455718  \n",
       "cons.conf.idx     -0.088413  0.264439  \n",
       "euribor3m          0.671022 -0.750201  \n",
       "nr.employed        1.000000 -0.896834  \n",
       "id                -0.896834  1.000000  "
      ]
     },
     "execution_count": 136,
     "metadata": {},
     "output_type": "execute_result"
    }
   ],
   "source": [
    "filtered_data_remove_999.corr(method='pearson')"
   ]
  },
  {
   "cell_type": "code",
   "execution_count": 138,
   "metadata": {},
   "outputs": [
    {
     "data": {
      "text/plain": [
       "<matplotlib.collections.PathCollection at 0x7fedabb11b38>"
      ]
     },
     "execution_count": 138,
     "metadata": {},
     "output_type": "execute_result"
    },
    {
     "data": {
      "image/png": "[encoded data removed]",
      "text/plain": [
       "<Figure size 432x288 with 1 Axes>"
      ]
     },
     "metadata": {},
     "output_type": "display_data"
    }
   ],
   "source": [
    "plt.scatter(filtered_data_2['previous'],filtered_data_2['poutcome'], marker='x', c='red')"
   ]
  },
  {
   "cell_type": "code",
   "execution_count": 141,
   "metadata": {},
   "outputs": [],
   "source": [
    "filtered_data_remove_previous_0 = other_attributes[other_attributes['previous']!=0]"
   ]
  },
  {
   "cell_type": "code",
   "execution_count": 142,
   "metadata": {},
   "outputs": [
    {
     "data": {
      "text/html": [
       "<div>\n",
       "<style scoped>\n",
       "    .dataframe tbody tr th:only-of-type {\n",
       "        vertical-align: middle;\n",
       "    }\n",
       "\n",
       "    .dataframe tbody tr th {\n",
       "        vertical-align: top;\n",
       "    }\n",
       "\n",
       "    .dataframe thead th {\n",
       "        text-align: right;\n",
       "    }\n",
       "</style>\n",
       "<table border=\"1\" class=\"dataframe\">\n",
       "  <thead>\n",
       "    <tr style=\"text-align: right;\">\n",
       "      <th></th>\n",
       "      <th>campaign</th>\n",
       "      <th>pdays</th>\n",
       "      <th>previous</th>\n",
       "      <th>poutcome</th>\n",
       "    </tr>\n",
       "  </thead>\n",
       "  <tbody>\n",
       "    <tr>\n",
       "      <th>campaign</th>\n",
       "      <td>1.000000</td>\n",
       "      <td>0.045763</td>\n",
       "      <td>0.000669</td>\n",
       "      <td>0.034857</td>\n",
       "    </tr>\n",
       "    <tr>\n",
       "      <th>pdays</th>\n",
       "      <td>0.045763</td>\n",
       "      <td>1.000000</td>\n",
       "      <td>-0.040055</td>\n",
       "      <td>0.347096</td>\n",
       "    </tr>\n",
       "    <tr>\n",
       "      <th>previous</th>\n",
       "      <td>0.000669</td>\n",
       "      <td>-0.040055</td>\n",
       "      <td>1.000000</td>\n",
       "      <td>0.304162</td>\n",
       "    </tr>\n",
       "    <tr>\n",
       "      <th>poutcome</th>\n",
       "      <td>0.034857</td>\n",
       "      <td>0.347096</td>\n",
       "      <td>0.304162</td>\n",
       "      <td>1.000000</td>\n",
       "    </tr>\n",
       "  </tbody>\n",
       "</table>\n",
       "</div>"
      ],
      "text/plain": [
       "          campaign     pdays  previous  poutcome\n",
       "campaign  1.000000  0.045763  0.000669  0.034857\n",
       "pdays     0.045763  1.000000 -0.040055  0.347096\n",
       "previous  0.000669 -0.040055  1.000000  0.304162\n",
       "poutcome  0.034857  0.347096  0.304162  1.000000"
      ]
     },
     "execution_count": 142,
     "metadata": {},
     "output_type": "execute_result"
    }
   ],
   "source": [
    "filtered_data_remove_previous_0.corr(method='pearson')"
   ]
  },
  {
   "cell_type": "code",
   "execution_count": 143,
   "metadata": {},
   "outputs": [
    {
     "data": {
      "text/plain": [
       "<matplotlib.collections.PathCollection at 0x7fedabae24a8>"
      ]
     },
     "execution_count": 143,
     "metadata": {},
     "output_type": "execute_result"
    },
    {
     "data": {
      "image/png": "[encoded data removed]",
      "text/plain": [
       "<Figure size 432x288 with 1 Axes>"
      ]
     },
     "metadata": {},
     "output_type": "display_data"
    }
   ],
   "source": [
    "plt.scatter(filtered_data_remove_previous_0['previous'],filtered_data_remove_previous_0['poutcome'], marker='x', c='red')"
   ]
  },
  {
   "cell_type": "code",
   "execution_count": 115,
   "metadata": {},
   "outputs": [],
   "source": [
    "social_economic_attr = filtered_data_2[['emp.var.rate','cons.price.idx','cons.conf.idx','euribor3m','nr.employed']]\n",
    "char_cols = social_economic_attr.dtypes.pipe(lambda x: x[x == 'object']).index\n",
    "label_mapping = {}\n",
    "\n",
    "for c in char_cols:\n",
    "    social_economic_attr[c], label_mapping[c] = pd.factorize(social_economic_attr[c])"
   ]
  },
  {
   "cell_type": "code",
   "execution_count": 116,
   "metadata": {},
   "outputs": [
    {
     "data": {
      "text/html": [
       "<div>\n",
       "<style scoped>\n",
       "    .dataframe tbody tr th:only-of-type {\n",
       "        vertical-align: middle;\n",
       "    }\n",
       "\n",
       "    .dataframe tbody tr th {\n",
       "        vertical-align: top;\n",
       "    }\n",
       "\n",
       "    .dataframe thead th {\n",
       "        text-align: right;\n",
       "    }\n",
       "</style>\n",
       "<table border=\"1\" class=\"dataframe\">\n",
       "  <thead>\n",
       "    <tr style=\"text-align: right;\">\n",
       "      <th></th>\n",
       "      <th>emp.var.rate</th>\n",
       "      <th>cons.price.idx</th>\n",
       "      <th>cons.conf.idx</th>\n",
       "      <th>euribor3m</th>\n",
       "      <th>nr.employed</th>\n",
       "    </tr>\n",
       "  </thead>\n",
       "  <tbody>\n",
       "    <tr>\n",
       "      <th>emp.var.rate</th>\n",
       "      <td>1.000000</td>\n",
       "      <td>0.766058</td>\n",
       "      <td>0.189144</td>\n",
       "      <td>0.973121</td>\n",
       "      <td>0.910769</td>\n",
       "    </tr>\n",
       "    <tr>\n",
       "      <th>cons.price.idx</th>\n",
       "      <td>0.766058</td>\n",
       "      <td>1.000000</td>\n",
       "      <td>0.033243</td>\n",
       "      <td>0.684748</td>\n",
       "      <td>0.527351</td>\n",
       "    </tr>\n",
       "    <tr>\n",
       "      <th>cons.conf.idx</th>\n",
       "      <td>0.189144</td>\n",
       "      <td>0.033243</td>\n",
       "      <td>1.000000</td>\n",
       "      <td>0.268141</td>\n",
       "      <td>0.090654</td>\n",
       "    </tr>\n",
       "    <tr>\n",
       "      <th>euribor3m</th>\n",
       "      <td>0.973121</td>\n",
       "      <td>0.684748</td>\n",
       "      <td>0.268141</td>\n",
       "      <td>1.000000</td>\n",
       "      <td>0.945520</td>\n",
       "    </tr>\n",
       "    <tr>\n",
       "      <th>nr.employed</th>\n",
       "      <td>0.910769</td>\n",
       "      <td>0.527351</td>\n",
       "      <td>0.090654</td>\n",
       "      <td>0.945520</td>\n",
       "      <td>1.000000</td>\n",
       "    </tr>\n",
       "  </tbody>\n",
       "</table>\n",
       "</div>"
      ],
      "text/plain": [
       "                emp.var.rate  cons.price.idx  cons.conf.idx  euribor3m  \\\n",
       "emp.var.rate        1.000000        0.766058       0.189144   0.973121   \n",
       "cons.price.idx      0.766058        1.000000       0.033243   0.684748   \n",
       "cons.conf.idx       0.189144        0.033243       1.000000   0.268141   \n",
       "euribor3m           0.973121        0.684748       0.268141   1.000000   \n",
       "nr.employed         0.910769        0.527351       0.090654   0.945520   \n",
       "\n",
       "                nr.employed  \n",
       "emp.var.rate       0.910769  \n",
       "cons.price.idx     0.527351  \n",
       "cons.conf.idx      0.090654  \n",
       "euribor3m          0.945520  \n",
       "nr.employed        1.000000  "
      ]
     },
     "execution_count": 116,
     "metadata": {},
     "output_type": "execute_result"
    }
   ],
   "source": [
    "social_economic_attr.corr(method='pearson')"
   ]
  },
  {
   "cell_type": "code",
   "execution_count": 127,
   "metadata": {},
   "outputs": [
    {
     "data": {
      "text/plain": [
       "<matplotlib.collections.PathCollection at 0x7fedabddc908>"
      ]
     },
     "execution_count": 127,
     "metadata": {},
     "output_type": "execute_result"
    },
    {
     "data": {
      "image/png": "[encoded data removed]",
      "text/plain": [
       "<Figure size 432x288 with 1 Axes>"
      ]
     },
     "metadata": {},
     "output_type": "display_data"
    }
   ],
   "source": [
    "import matplotlib.pyplot as plt\n",
    "plt.scatter(filtered_data_2['emp.var.rate'],filtered_data_2['nr.employed'], marker='x', c='red')"
   ]
  },
  {
   "cell_type": "code",
   "execution_count": 132,
   "metadata": {},
   "outputs": [
    {
     "data": {
      "text/plain": [
       "[<matplotlib.lines.Line2D at 0x7fedabc3e048>]"
      ]
     },
     "execution_count": 132,
     "metadata": {},
     "output_type": "execute_result"
    },
    {
     "data": {
      "image/png": "[encoded data removed]",
      "text/plain": [
       "<Figure size 432x288 with 1 Axes>"
      ]
     },
     "metadata": {},
     "output_type": "display_data"
    }
   ],
   "source": [
    "plt.plot(filtered_data_2['nr.employed'],filtered_data_2['euribor3m'], marker='x', c='red')"
   ]
  },
  {
   "cell_type": "code",
   "execution_count": 131,
   "metadata": {},
   "outputs": [
    {
     "data": {
      "text/plain": [
       "[<matplotlib.lines.Line2D at 0x7fedabca1b00>]"
      ]
     },
     "execution_count": 131,
     "metadata": {},
     "output_type": "execute_result"
    },
    {
     "data": {
      "image/png": "[encoded data removed]",
      "text/plain": [
       "<Figure size 432x288 with 1 Axes>"
      ]
     },
     "metadata": {},
     "output_type": "display_data"
    }
   ],
   "source": [
    "plt.plot(filtered_data_2['emp.var.rate'],filtered_data_2['euribor3m'], marker='x', c='red')"
   ]
  },
  {
   "cell_type": "code",
   "execution_count": 40,
   "metadata": {},
   "outputs": [
    {
     "name": "stdout",
     "output_type": "stream",
     "text": [
      "                     age       job   marital  education   default   housing  \\\n",
      "age             1.000000  0.030413 -0.114983  -0.091900  0.164965 -0.001923   \n",
      "job             0.030413  1.000000 -0.008109   0.164598 -0.012669  0.005750   \n",
      "marital        -0.114983 -0.008109  1.000000   0.063774 -0.103930  0.007436   \n",
      "education      -0.091900  0.164598  0.063774   1.000000 -0.144138  0.013023   \n",
      "default         0.164965 -0.012669 -0.103930  -0.144138  1.000000 -0.011051   \n",
      "housing        -0.001923  0.005750  0.007436   0.013023 -0.011051  1.000000   \n",
      "loan           -0.006397 -0.004950  0.001719   0.001887  0.000970  0.289759   \n",
      "contact        -0.007021  0.017054  0.043564   0.095383 -0.135238  0.065393   \n",
      "month           0.083423  0.076486  0.020613   0.114478 -0.135510  0.046369   \n",
      "day_of_week    -0.018486 -0.001608 -0.004210   0.008519 -0.004286 -0.007088   \n",
      "duration       -0.000866  0.009575  0.001220  -0.014778 -0.011794 -0.009050   \n",
      "campaign        0.004594 -0.017085  0.002269  -0.001521  0.032825 -0.010190   \n",
      "pdays          -0.034369 -0.051677 -0.017635  -0.034772  0.080062 -0.008741   \n",
      "previous        0.024365  0.051348  0.030222   0.022826 -0.102416  0.021002   \n",
      "poutcome        0.026371  0.049070  0.030627   0.025419 -0.108159  0.021433   \n",
      "emp.var.rate   -0.000371 -0.083007 -0.048931  -0.033385  0.203263 -0.053458   \n",
      "cons.price.idx  0.000857 -0.046067 -0.024995  -0.079517  0.168073 -0.066337   \n",
      "cons.conf.idx   0.129372  0.022933 -0.051013   0.071758  0.026522 -0.027737   \n",
      "euribor3m       0.010767 -0.072497 -0.054623  -0.024348  0.195336 -0.052739   \n",
      "nr.employed    -0.017725 -0.084981 -0.050058  -0.025485  0.189845 -0.042281   \n",
      "y               0.030399  0.054793  0.026302   0.045721 -0.099352  0.009552   \n",
      "\n",
      "                    loan   contact     month  day_of_week  duration  campaign  \\\n",
      "age            -0.006397 -0.007021  0.083423    -0.018486 -0.000866  0.004594   \n",
      "job            -0.004950  0.017054  0.076486    -0.001608  0.009575 -0.017085   \n",
      "marital         0.001719  0.043564  0.020613    -0.004210  0.001220  0.002269   \n",
      "education       0.001887  0.095383  0.114478     0.008519 -0.014778 -0.001521   \n",
      "default         0.000970 -0.135238 -0.135510    -0.004286 -0.011794  0.032825   \n",
      "housing         0.289759  0.065393  0.046369    -0.007088 -0.009050 -0.010190   \n",
      "loan            1.000000 -0.004391 -0.009311     0.003206 -0.003194  0.003899   \n",
      "contact        -0.004391  1.000000  0.430499    -0.019583  0.026657 -0.077368   \n",
      "month          -0.009311  0.430499  1.000000     0.011701  0.018180 -0.080737   \n",
      "day_of_week     0.003206 -0.019583  0.011701     1.000000  0.010549  0.015098   \n",
      "duration       -0.003194  0.026657  0.018180     0.010549  1.000000 -0.071699   \n",
      "campaign        0.003899 -0.077368 -0.080737     0.015098 -0.071699  1.000000   \n",
      "pdays           0.001298 -0.117970 -0.135025     0.006765 -0.047577  0.052584   \n",
      "previous        0.000846  0.212848  0.175737     0.004013  0.020640 -0.079141   \n",
      "poutcome       -0.000581  0.226813  0.184769     0.003279  0.026465 -0.086083   \n",
      "emp.var.rate    0.003055 -0.393584 -0.306009    -0.004401 -0.027968  0.150754   \n",
      "cons.price.idx  0.006315 -0.591474 -0.330558    -0.004586  0.005312  0.127836   \n",
      "cons.conf.idx  -0.005895 -0.251614 -0.060670    -0.000099 -0.008173 -0.013733   \n",
      "euribor3m       0.001547 -0.399773 -0.276126    -0.005552 -0.032897  0.135133   \n",
      "nr.employed     0.002464 -0.269155 -0.262145    -0.000734 -0.044703  0.144095   \n",
      "y              -0.005038  0.144773  0.183471     0.010051  0.405274 -0.066357   \n",
      "\n",
      "                   pdays  previous  poutcome  emp.var.rate  cons.price.idx  \\\n",
      "age            -0.034369  0.024365  0.026371     -0.000371        0.000857   \n",
      "job            -0.051677  0.051348  0.049070     -0.083007       -0.046067   \n",
      "marital        -0.017635  0.030222  0.030627     -0.048931       -0.024995   \n",
      "education      -0.034772  0.022826  0.025419     -0.033385       -0.079517   \n",
      "default         0.080062 -0.102416 -0.108159      0.203263        0.168073   \n",
      "housing        -0.008741  0.021002  0.021433     -0.053458       -0.066337   \n",
      "loan            0.001298  0.000846 -0.000581      0.003055        0.006315   \n",
      "contact        -0.117970  0.212848  0.226813     -0.393584       -0.591474   \n",
      "month          -0.135025  0.175737  0.184769     -0.306009       -0.330558   \n",
      "day_of_week     0.006765  0.004013  0.003279     -0.004401       -0.004586   \n",
      "duration       -0.047577  0.020640  0.026465     -0.027968        0.005312   \n",
      "campaign        0.052584 -0.079141 -0.086083      0.150754        0.127836   \n",
      "pdays           1.000000 -0.587514 -0.744679      0.271004        0.078889   \n",
      "previous       -0.587514  1.000000  0.868540     -0.420489       -0.203130   \n",
      "poutcome       -0.744679  0.868540  1.000000     -0.457197       -0.259746   \n",
      "emp.var.rate    0.271004 -0.420489 -0.457197      1.000000        0.775334   \n",
      "cons.price.idx  0.078889 -0.203130 -0.259746      0.775334        1.000000   \n",
      "cons.conf.idx  -0.091342 -0.050936 -0.041728      0.196041        0.058986   \n",
      "euribor3m       0.296899 -0.454494 -0.478687      0.972245        0.688230   \n",
      "nr.employed     0.372605 -0.501333 -0.509597      0.906970        0.522034   \n",
      "y              -0.324914  0.230181  0.270373     -0.298334       -0.136211   \n",
      "\n",
      "                cons.conf.idx  euribor3m  nr.employed         y  \n",
      "age                  0.129372   0.010767    -0.017725  0.030399  \n",
      "job                  0.022933  -0.072497    -0.084981  0.054793  \n",
      "marital             -0.051013  -0.054623    -0.050058  0.026302  \n",
      "education            0.071758  -0.024348    -0.025485  0.045721  \n",
      "default              0.026522   0.195336     0.189845 -0.099352  \n",
      "housing             -0.027737  -0.052739    -0.042281  0.009552  \n",
      "loan                -0.005895   0.001547     0.002464 -0.005038  \n",
      "contact             -0.251614  -0.399773    -0.269155  0.144773  \n",
      "month               -0.060670  -0.276126    -0.262145  0.183471  \n",
      "day_of_week         -0.000099  -0.005552    -0.000734  0.010051  \n",
      "duration            -0.008173  -0.032897    -0.044703  0.405274  \n",
      "campaign            -0.013733   0.135133     0.144095 -0.066357  \n",
      "pdays               -0.091342   0.296899     0.372605 -0.324914  \n",
      "previous            -0.050936  -0.454494    -0.501333  0.230181  \n",
      "poutcome            -0.041728  -0.478687    -0.509597  0.270373  \n",
      "emp.var.rate         0.196041   0.972245     0.906970 -0.298334  \n",
      "cons.price.idx       0.058986   0.688230     0.522034 -0.136211  \n",
      "cons.conf.idx        1.000000   0.277686     0.100513  0.054878  \n",
      "euribor3m            0.277686   1.000000     0.945154 -0.307771  \n",
      "nr.employed          0.100513   0.945154     1.000000 -0.354678  \n",
      "y                    0.054878  -0.307771    -0.354678  1.000000  \n"
     ]
    }
   ],
   "source": [
    "with pd.option_context('display.max_rows', None, 'display.max_columns', None):\n",
    "    print(correlation)"
   ]
  },
  {
   "cell_type": "code",
   "execution_count": 5,
   "metadata": {},
   "outputs": [
    {
     "data": {
      "text/plain": [
       "{'job': Index(['housemaid', 'services', 'admin.', 'blue-collar', 'technician',\n",
       "        'retired', 'management', 'unemployed', 'self-employed', 'unknown',\n",
       "        'entrepreneur', 'student'],\n",
       "       dtype='object'),\n",
       " 'marital': Index(['married', 'single', 'divorced', 'unknown'], dtype='object'),\n",
       " 'education': Index(['basic.4y', 'high.school', 'basic.6y', 'basic.9y',\n",
       "        'professional.course', 'unknown', 'university.degree', 'illiterate'],\n",
       "       dtype='object'),\n",
       " 'default': Index(['no', 'unknown', 'yes'], dtype='object'),\n",
       " 'housing': Index(['no', 'yes', 'unknown'], dtype='object'),\n",
       " 'loan': Index(['no', 'yes', 'unknown'], dtype='object'),\n",
       " 'contact': Index(['telephone', 'cellular'], dtype='object'),\n",
       " 'month': Index(['may', 'jun', 'jul', 'aug', 'oct', 'nov', 'dec', 'mar', 'apr', 'sep'], dtype='object'),\n",
       " 'day_of_week': Index(['mon', 'tue', 'wed', 'thu', 'fri'], dtype='object'),\n",
       " 'poutcome': Index(['nonexistent', 'failure', 'success'], dtype='object'),\n",
       " 'y': Index(['no', 'yes'], dtype='object')}"
      ]
     },
     "execution_count": 5,
     "metadata": {},
     "output_type": "execute_result"
    }
   ],
   "source": [
    "label_mapping"
   ]
  },
  {
   "cell_type": "code",
   "execution_count": 5,
   "metadata": {},
   "outputs": [],
   "source": [
    "train, test = np.split(data, [int(.65*len(data))])"
   ]
  },
  {
   "cell_type": "code",
   "execution_count": 7,
   "metadata": {},
   "outputs": [
    {
     "data": {
      "text/plain": [
       "14416"
      ]
     },
     "execution_count": 7,
     "metadata": {},
     "output_type": "execute_result"
    }
   ],
   "source": [
    "len(test)"
   ]
  },
  {
   "cell_type": "code",
   "execution_count": 8,
   "metadata": {},
   "outputs": [
    {
     "data": {
      "text/plain": [
       "26772"
      ]
     },
     "execution_count": 8,
     "metadata": {},
     "output_type": "execute_result"
    }
   ],
   "source": [
    "len(train)"
   ]
  },
  {
   "cell_type": "code",
   "execution_count": 118,
   "metadata": {},
   "outputs": [
    {
     "data": {
      "text/plain": [
       "Index(['age', 'job', 'marital', 'education', 'default', 'housing', 'loan',\n",
       "       'contact', 'month', 'day_of_week', 'duration', 'campaign', 'pdays',\n",
       "       'previous', 'poutcome', 'emp.var.rate', 'cons.price.idx',\n",
       "       'cons.conf.idx', 'euribor3m', 'nr.employed', 'y'],\n",
       "      dtype='object')"
      ]
     },
     "execution_count": 118,
     "metadata": {},
     "output_type": "execute_result"
    }
   ],
   "source": [
    "train.columns"
   ]
  },
  {
   "cell_type": "code",
   "execution_count": 6,
   "metadata": {},
   "outputs": [],
   "source": [
    "train_X = train[train.columns.difference(['y','default','loan','campaign','pdays','emp.var.rate','cons.price.idx','euribor3m','nr.employed'])]\n",
    "train_Y = train[['y']]"
   ]
  },
  {
   "cell_type": "code",
   "execution_count": 7,
   "metadata": {},
   "outputs": [],
   "source": [
    "test_X = test[test.columns.difference(['y','default','loan','campaign','pdays','emp.var.rate','cons.price.idx','euribor3m','nr.employed'])]\n",
    "test_Y = test[['y']]"
   ]
  },
  {
   "cell_type": "code",
   "execution_count": 8,
   "metadata": {},
   "outputs": [
    {
     "data": {
      "text/html": [
       "<div>\n",
       "<style scoped>\n",
       "    .dataframe tbody tr th:only-of-type {\n",
       "        vertical-align: middle;\n",
       "    }\n",
       "\n",
       "    .dataframe tbody tr th {\n",
       "        vertical-align: top;\n",
       "    }\n",
       "\n",
       "    .dataframe thead th {\n",
       "        text-align: right;\n",
       "    }\n",
       "</style>\n",
       "<table border=\"1\" class=\"dataframe\">\n",
       "  <thead>\n",
       "    <tr style=\"text-align: right;\">\n",
       "      <th></th>\n",
       "      <th>age</th>\n",
       "      <th>cons.conf.idx</th>\n",
       "      <th>contact</th>\n",
       "      <th>day_of_week</th>\n",
       "      <th>duration</th>\n",
       "      <th>education</th>\n",
       "      <th>housing</th>\n",
       "      <th>job</th>\n",
       "      <th>marital</th>\n",
       "      <th>month</th>\n",
       "      <th>poutcome</th>\n",
       "      <th>previous</th>\n",
       "    </tr>\n",
       "  </thead>\n",
       "  <tbody>\n",
       "    <tr>\n",
       "      <th>0</th>\n",
       "      <td>56</td>\n",
       "      <td>-36.4</td>\n",
       "      <td>0</td>\n",
       "      <td>0</td>\n",
       "      <td>261</td>\n",
       "      <td>0</td>\n",
       "      <td>0</td>\n",
       "      <td>0</td>\n",
       "      <td>0</td>\n",
       "      <td>0</td>\n",
       "      <td>0</td>\n",
       "      <td>0</td>\n",
       "    </tr>\n",
       "    <tr>\n",
       "      <th>1</th>\n",
       "      <td>57</td>\n",
       "      <td>-36.4</td>\n",
       "      <td>0</td>\n",
       "      <td>0</td>\n",
       "      <td>149</td>\n",
       "      <td>1</td>\n",
       "      <td>0</td>\n",
       "      <td>1</td>\n",
       "      <td>0</td>\n",
       "      <td>0</td>\n",
       "      <td>0</td>\n",
       "      <td>0</td>\n",
       "    </tr>\n",
       "    <tr>\n",
       "      <th>2</th>\n",
       "      <td>37</td>\n",
       "      <td>-36.4</td>\n",
       "      <td>0</td>\n",
       "      <td>0</td>\n",
       "      <td>226</td>\n",
       "      <td>1</td>\n",
       "      <td>1</td>\n",
       "      <td>1</td>\n",
       "      <td>0</td>\n",
       "      <td>0</td>\n",
       "      <td>0</td>\n",
       "      <td>0</td>\n",
       "    </tr>\n",
       "    <tr>\n",
       "      <th>3</th>\n",
       "      <td>40</td>\n",
       "      <td>-36.4</td>\n",
       "      <td>0</td>\n",
       "      <td>0</td>\n",
       "      <td>151</td>\n",
       "      <td>2</td>\n",
       "      <td>0</td>\n",
       "      <td>2</td>\n",
       "      <td>0</td>\n",
       "      <td>0</td>\n",
       "      <td>0</td>\n",
       "      <td>0</td>\n",
       "    </tr>\n",
       "    <tr>\n",
       "      <th>4</th>\n",
       "      <td>56</td>\n",
       "      <td>-36.4</td>\n",
       "      <td>0</td>\n",
       "      <td>0</td>\n",
       "      <td>307</td>\n",
       "      <td>1</td>\n",
       "      <td>0</td>\n",
       "      <td>1</td>\n",
       "      <td>0</td>\n",
       "      <td>0</td>\n",
       "      <td>0</td>\n",
       "      <td>0</td>\n",
       "    </tr>\n",
       "    <tr>\n",
       "      <th>5</th>\n",
       "      <td>45</td>\n",
       "      <td>-36.4</td>\n",
       "      <td>0</td>\n",
       "      <td>0</td>\n",
       "      <td>198</td>\n",
       "      <td>3</td>\n",
       "      <td>0</td>\n",
       "      <td>1</td>\n",
       "      <td>0</td>\n",
       "      <td>0</td>\n",
       "      <td>0</td>\n",
       "      <td>0</td>\n",
       "    </tr>\n",
       "    <tr>\n",
       "      <th>6</th>\n",
       "      <td>59</td>\n",
       "      <td>-36.4</td>\n",
       "      <td>0</td>\n",
       "      <td>0</td>\n",
       "      <td>139</td>\n",
       "      <td>4</td>\n",
       "      <td>0</td>\n",
       "      <td>2</td>\n",
       "      <td>0</td>\n",
       "      <td>0</td>\n",
       "      <td>0</td>\n",
       "      <td>0</td>\n",
       "    </tr>\n",
       "    <tr>\n",
       "      <th>7</th>\n",
       "      <td>41</td>\n",
       "      <td>-36.4</td>\n",
       "      <td>0</td>\n",
       "      <td>0</td>\n",
       "      <td>217</td>\n",
       "      <td>5</td>\n",
       "      <td>0</td>\n",
       "      <td>3</td>\n",
       "      <td>0</td>\n",
       "      <td>0</td>\n",
       "      <td>0</td>\n",
       "      <td>0</td>\n",
       "    </tr>\n",
       "    <tr>\n",
       "      <th>8</th>\n",
       "      <td>24</td>\n",
       "      <td>-36.4</td>\n",
       "      <td>0</td>\n",
       "      <td>0</td>\n",
       "      <td>380</td>\n",
       "      <td>4</td>\n",
       "      <td>1</td>\n",
       "      <td>4</td>\n",
       "      <td>1</td>\n",
       "      <td>0</td>\n",
       "      <td>0</td>\n",
       "      <td>0</td>\n",
       "    </tr>\n",
       "    <tr>\n",
       "      <th>9</th>\n",
       "      <td>25</td>\n",
       "      <td>-36.4</td>\n",
       "      <td>0</td>\n",
       "      <td>0</td>\n",
       "      <td>50</td>\n",
       "      <td>1</td>\n",
       "      <td>1</td>\n",
       "      <td>1</td>\n",
       "      <td>1</td>\n",
       "      <td>0</td>\n",
       "      <td>0</td>\n",
       "      <td>0</td>\n",
       "    </tr>\n",
       "  </tbody>\n",
       "</table>\n",
       "</div>"
      ],
      "text/plain": [
       "   age  cons.conf.idx  contact  day_of_week  duration  education  housing  \\\n",
       "0   56          -36.4        0            0       261          0        0   \n",
       "1   57          -36.4        0            0       149          1        0   \n",
       "2   37          -36.4        0            0       226          1        1   \n",
       "3   40          -36.4        0            0       151          2        0   \n",
       "4   56          -36.4        0            0       307          1        0   \n",
       "5   45          -36.4        0            0       198          3        0   \n",
       "6   59          -36.4        0            0       139          4        0   \n",
       "7   41          -36.4        0            0       217          5        0   \n",
       "8   24          -36.4        0            0       380          4        1   \n",
       "9   25          -36.4        0            0        50          1        1   \n",
       "\n",
       "   job  marital  month  poutcome  previous  \n",
       "0    0        0      0         0         0  \n",
       "1    1        0      0         0         0  \n",
       "2    1        0      0         0         0  \n",
       "3    2        0      0         0         0  \n",
       "4    1        0      0         0         0  \n",
       "5    1        0      0         0         0  \n",
       "6    2        0      0         0         0  \n",
       "7    3        0      0         0         0  \n",
       "8    4        1      0         0         0  \n",
       "9    1        1      0         0         0  "
      ]
     },
     "execution_count": 8,
     "metadata": {},
     "output_type": "execute_result"
    }
   ],
   "source": [
    "train_X[0:10]"
   ]
  },
  {
   "cell_type": "code",
   "execution_count": 9,
   "metadata": {},
   "outputs": [],
   "source": [
    "clf = svm.SVC(kernel='linear',degree=1)"
   ]
  },
  {
   "cell_type": "code",
   "execution_count": null,
   "metadata": {},
   "outputs": [
    {
     "name": "stderr",
     "output_type": "stream",
     "text": [
      "/home/vignesh/anaconda3/lib/python3.6/site-packages/sklearn/utils/validation.py:578: DataConversionWarning: A column-vector y was passed when a 1d array was expected. Please change the shape of y to (n_samples, ), for example using ravel().\n",
      "  y = column_or_1d(y, warn=True)\n"
     ]
    }
   ],
   "source": [
    "from sklearn.model_selection import cross_val_score\n",
    "cross_val_score(clf, train_X, train_Y, cv=3)"
   ]
  },
  {
   "cell_type": "code",
   "execution_count": 10,
   "metadata": {},
   "outputs": [
    {
     "name": "stderr",
     "output_type": "stream",
     "text": [
      "/home/vignesh/anaconda3/lib/python3.6/site-packages/sklearn/utils/validation.py:578: DataConversionWarning: A column-vector y was passed when a 1d array was expected. Please change the shape of y to (n_samples, ), for example using ravel().\n",
      "  y = column_or_1d(y, warn=True)\n"
     ]
    },
    {
     "data": {
      "text/plain": [
       "SVC(C=1.0, cache_size=200, class_weight=None, coef0=0.0,\n",
       "  decision_function_shape='ovr', degree=1, gamma='auto', kernel='linear',\n",
       "  max_iter=-1, probability=False, random_state=None, shrinking=True,\n",
       "  tol=0.001, verbose=False)"
      ]
     },
     "execution_count": 10,
     "metadata": {},
     "output_type": "execute_result"
    }
   ],
   "source": [
    "clf.fit(train_X, train_Y)"
   ]
  },
  {
   "cell_type": "code",
   "execution_count": 11,
   "metadata": {},
   "outputs": [
    {
     "data": {
      "text/plain": [
       "0.6222946725860156"
      ]
     },
     "execution_count": 11,
     "metadata": {},
     "output_type": "execute_result"
    }
   ],
   "source": [
    "clf.score(test_X,test_Y)"
   ]
  },
  {
   "cell_type": "code",
   "execution_count": null,
   "metadata": {},
   "outputs": [],
   "source": [
    "clf.score(test_X,test_Y)"
   ]
  },
  {
   "cell_type": "code",
   "execution_count": 128,
   "metadata": {},
   "outputs": [
    {
     "data": {
      "text/plain": [
       "array([0, 0, 0, ..., 1, 1, 1])"
      ]
     },
     "execution_count": 128,
     "metadata": {},
     "output_type": "execute_result"
    }
   ],
   "source": [
    "clf.predict(test_X)"
   ]
  },
  {
   "cell_type": "code",
   "execution_count": 103,
   "metadata": {},
   "outputs": [
    {
     "data": {
      "image/png": "[encoded data removed]",
      "text/plain": [
       "<Figure size 432x288 with 1 Axes>"
      ]
     },
     "metadata": {},
     "output_type": "display_data"
    }
   ],
   "source": [
    "import pandas as pd\n",
    "import matplotlib.pyplot as plt\n",
    "import numpy as np\n",
    "\n",
    "raw_data = {\n",
    "'regiment': ['Nighthawks', 'Nighthawks', 'Nighthawks', 'Nighthawks', 'Dragoons', 'Dragoons', 'Dragoons', 'Dragoons', 'Scouts', 'Scouts', 'Scouts', 'Scouts'],\n",
    "'bucket': ['0', '1', '0', '0', '1', '1', '0', '0','0', '1', '2', '2'],\n",
    "'name': ['Miller', 'Jacobson', 'Ali', 'Milner', 'Cooze', 'Jacon', 'Ryaner', 'Sone', 'Sloan', 'Piger', 'Riani', 'Ali'],\n",
    "'clicks': [4, 24, 31, 2, 3, 4, 24, 31, 2, 3, 2, 3],\n",
    "'impressions': [25, 94, 57, 62, 70, 25, 94, 57, 62, 70, 62, 70]}\n",
    "df = pd.DataFrame(raw_data)\n",
    "\n",
    "#Group By regiment and bucket\n",
    "groupbyregimentbucket = df.groupby(['regiment', 'bucket'])\n",
    "\n",
    "# print \"[Grouping by regiment and bucket, and aggregating #of clicks]\"\n",
    "# print groupbyregimentbucket['clicks'].aggregate(np.sum)\n",
    "\n",
    "#Without the hierarchical indexing\n",
    "# print \"[Unstacking]\"\n",
    "regimentbucketclicksum = groupbyregimentbucket['clicks'].aggregate(np.sum).unstack()\n",
    "# print regimentbucketclicksum\n",
    "\n",
    "regimentbucketclicksum.plot(kind = 'bar', title = ' by Regiment, Bucket')\n",
    "plt.ylabel('clicks')\n",
    "plt.show()"
   ]
  },
  {
   "cell_type": "code",
   "execution_count": 104,
   "metadata": {},
   "outputs": [
    {
     "data": {
      "text/html": [
       "<div>\n",
       "<style scoped>\n",
       "    .dataframe tbody tr th:only-of-type {\n",
       "        vertical-align: middle;\n",
       "    }\n",
       "\n",
       "    .dataframe tbody tr th {\n",
       "        vertical-align: top;\n",
       "    }\n",
       "\n",
       "    .dataframe thead th {\n",
       "        text-align: right;\n",
       "    }\n",
       "</style>\n",
       "<table border=\"1\" class=\"dataframe\">\n",
       "  <thead>\n",
       "    <tr style=\"text-align: right;\">\n",
       "      <th>bucket</th>\n",
       "      <th>0</th>\n",
       "      <th>1</th>\n",
       "      <th>2</th>\n",
       "    </tr>\n",
       "    <tr>\n",
       "      <th>regiment</th>\n",
       "      <th></th>\n",
       "      <th></th>\n",
       "      <th></th>\n",
       "    </tr>\n",
       "  </thead>\n",
       "  <tbody>\n",
       "    <tr>\n",
       "      <th>Dragoons</th>\n",
       "      <td>55.0</td>\n",
       "      <td>7.0</td>\n",
       "      <td>NaN</td>\n",
       "    </tr>\n",
       "    <tr>\n",
       "      <th>Nighthawks</th>\n",
       "      <td>37.0</td>\n",
       "      <td>24.0</td>\n",
       "      <td>NaN</td>\n",
       "    </tr>\n",
       "    <tr>\n",
       "      <th>Scouts</th>\n",
       "      <td>2.0</td>\n",
       "      <td>3.0</td>\n",
       "      <td>5.0</td>\n",
       "    </tr>\n",
       "  </tbody>\n",
       "</table>\n",
       "</div>"
      ],
      "text/plain": [
       "bucket         0     1    2\n",
       "regiment                   \n",
       "Dragoons    55.0   7.0  NaN\n",
       "Nighthawks  37.0  24.0  NaN\n",
       "Scouts       2.0   3.0  5.0"
      ]
     },
     "execution_count": 104,
     "metadata": {},
     "output_type": "execute_result"
    }
   ],
   "source": [
    "regimentbucketclicksum"
   ]
  },
  {
   "cell_type": "code",
   "execution_count": null,
   "metadata": {},
   "outputs": [],
   "source": []
  }
 ],
 "metadata": {
  "kernelspec": {
   "display_name": "Python 3",
   "language": "python",
   "name": "python3"
  },
  "language_info": {
   "codemirror_mode": {
    "name": "ipython",
    "version": 3
   },
   "file_extension": ".py",
   "mimetype": "text/x-python",
   "name": "python",
   "nbconvert_exporter": "python",
   "pygments_lexer": "ipython3",
   "version": "3.6.5"
  }
 },
 "nbformat": 4,
 "nbformat_minor": 2
}
